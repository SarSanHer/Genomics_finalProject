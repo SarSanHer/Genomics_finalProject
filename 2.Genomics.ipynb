{
 "cells": [
  {
   "cell_type": "markdown",
   "metadata": {},
   "source": [
    "# Genomics analysis\n",
    "\n",
    "The lab isolated it and sequenced cDNA of samples from both normal and high-temperature conditions, two biological replicates each. They performed quality checking, providing us only high quality reads in fasta format. <br><br>\n",
    "Untar and uncompress your data.tar.gz and start by checking your samples trying to answer the following questions:"
   ]
  },
  {
   "cell_type": "code",
   "execution_count": 4,
   "metadata": {},
   "outputs": [
    {
     "name": "stdout",
     "output_type": "stream",
     "text": [
      "data/\n",
      "data/refs/\n",
      "data/refs/genome.fna\n",
      "data/refs/genes.gff\n",
      "data/refs/prots.faa\n",
      "data/reads/\n",
      "data/reads/normal_01.fasta\n",
      "data/reads/normal_02.fasta\n",
      "data/reads/hightemp_01.fasta\n",
      "data/reads/hightemp_02.fasta\n",
      "\u001b[0m\u001b[38;5;27mMetagenomics_outputs\u001b[0m  \u001b[38;5;27mNotebooks\u001b[0m  \u001b[38;5;27mdata\u001b[0m  \u001b[38;5;9mdata.tar.gz\u001b[0m\n"
     ]
    }
   ],
   "source": [
    "cd\n",
    "tar -xvzf data.tar.gz \n",
    "ls"
   ]
  },
  {
   "cell_type": "code",
   "execution_count": 1,
   "metadata": {},
   "outputs": [
    {
     "name": "stdout",
     "output_type": "stream",
     "text": [
      "\u001b[0m\u001b[38;5;27mphylo\u001b[0m  \u001b[38;5;27mreads\u001b[0m  \u001b[38;5;27mrefs\u001b[0m\n"
     ]
    }
   ],
   "source": [
    "cd data\n",
    "ls"
   ]
  },
  {
   "cell_type": "markdown",
   "metadata": {},
   "source": [
    "<br><br>\n",
    "__How many samples do you have?__ <br> 4"
   ]
  },
  {
   "cell_type": "code",
   "execution_count": 3,
   "metadata": {},
   "outputs": [
    {
     "name": "stdout",
     "output_type": "stream",
     "text": [
      "hightemp_01.fasta  hightemp_02.fasta  normal_01.fasta  normal_02.fasta\n"
     ]
    }
   ],
   "source": [
    "cd reads \n",
    "ls"
   ]
  },
  {
   "cell_type": "markdown",
   "metadata": {},
   "source": [
    "<br><br>\n",
    "__How many reads do you have in each of your samples?__"
   ]
  },
  {
   "cell_type": "code",
   "execution_count": 16,
   "metadata": {},
   "outputs": [
    {
     "name": "stdout",
     "output_type": "stream",
     "text": [
      ">read1/NP_Unk01;mate1:713-812;mate2:930-1029\n",
      "ATCGCAGCCTGGCGGATGATGTGGTGGATGTGAGCCAGCGCAAACGCCCGCTGCATAAACCGAAACCGCTGACCGAAGATCAGCTGGATGATCTGCTGGC\n",
      ">read2/NP_Unk01;mate1:340-439;mate2:482-581\n",
      "GATGGCCGCGGCGCGGATATTACCGTGTATGATGTGCTGGGCGATGTGGTGTGCGGCGGCTTTGCGGTGCCGATGCGCAGCGAACATACCGATGCGATTT\n",
      ">read3/NP_Unk01;mate1:1180-1279;mate2:1323-1422\n"
     ]
    }
   ],
   "source": [
    "head -n 5 hightemp_01.fasta # to see what the files look like"
   ]
  },
  {
   "cell_type": "code",
   "execution_count": 4,
   "metadata": {},
   "outputs": [
    {
     "name": "stdout",
     "output_type": "stream",
     "text": [
      "291814\n",
      "289637\n",
      "290331\n",
      "291324\n"
     ]
    }
   ],
   "source": [
    "# we can count how many reads are there by counting how many times '>' appears\n",
    "grep '>' 'hightemp_01.fasta' | wc -l\n",
    "grep '>' 'hightemp_02.fasta' | wc -l\n",
    "grep '>' 'normal_01.fasta' | wc -l\n",
    "grep '>' 'normal_02.fasta' | wc -l"
   ]
  },
  {
   "cell_type": "markdown",
   "metadata": {},
   "source": [
    "<br><br>\n",
    "__What kind of reads are they? (e.g. paired-end reads, mate-pair, single-end…)__"
   ]
  },
  {
   "cell_type": "code",
   "execution_count": 3,
   "metadata": {},
   "outputs": [
    {
     "name": "stdout",
     "output_type": "stream",
     "text": [
      ">read1/NP_Unk01;mate1:713-812;mate2:930-1029\n",
      ">read1/NP_Unk01;mate1:748-847;mate2:912-1011\n",
      ">read1/NP_Unk01;mate1:1358-1457;mate2:1490-1589\n",
      ">read1/NP_Unk01;mate1:346-445;mate2:484-583\n"
     ]
    }
   ],
   "source": [
    "head -n 1 hightemp_01.fasta\n",
    "head -n 1 hightemp_02.fasta\n",
    "head -n 1 normal_01.fasta\n",
    "head -n 1 normal_02.fasta"
   ]
  },
  {
   "cell_type": "markdown",
   "metadata": {},
   "source": [
    "They are single-end because otherwise we would have forward and reverse files (like in  the metagenomics exercise) or forward/reverse reads in the same file. Since that is not the case, we can assume that the file is single-end.\n"
   ]
  },
  {
   "cell_type": "markdown",
   "metadata": {},
   "source": [
    "<br><br>\n",
    "__Are all the reads of the same length?__"
   ]
  },
  {
   "cell_type": "code",
   "execution_count": 5,
   "metadata": {},
   "outputs": [
    {
     "name": "stdout",
     "output_type": "stream",
     "text": [
      "100\n",
      "100\n",
      "100\n",
      "100\n"
     ]
    }
   ],
   "source": [
    "# print file | if second line (the seq) is not empty, take length of the line | sort | \n",
    "# print uniq lengths\n",
    "cat hightemp_01.fasta |awk '{if(NR%2==0){print length($0)}}' |sort |uniq \n",
    "cat hightemp_02.fasta |awk '{if(NR%2==0){print length($0)}}' |sort |uniq\n",
    "cat normal_01.fasta |awk '{if(NR%2==0){print length($0)}}' |sort |uniq\n",
    "cat normal_02.fasta |awk '{if(NR%2==0){print length($0)}}' |sort |uniq"
   ]
  },
  {
   "cell_type": "markdown",
   "metadata": {},
   "source": [
    "<br><br>\n",
    "__Just from the files you have been provided, could you say something about reads orientation (5’ to 3’, 3’ to 5’)? <br>And what about DNA strand (forward or reverse strand)?__"
   ]
  },
  {
   "cell_type": "code",
   "execution_count": 1,
   "metadata": {},
   "outputs": [
    {
     "name": "stdout",
     "output_type": "stream",
     "text": [
      "hightemp_01.fasta  hightemp_02.fasta  normal_01.fasta  normal_02.fasta\n"
     ]
    }
   ],
   "source": [
    "cd\n",
    "cd ./data/reads\n",
    "ls"
   ]
  },
  {
   "cell_type": "code",
   "execution_count": 10,
   "metadata": {},
   "outputs": [
    {
     "name": "stdout",
     "output_type": "stream",
     "text": [
      ">read1/NP_Unk01;mate1:713-812;mate2:930-1029\n",
      "ATCGCAGCCTGGCGGATGATGTGGTGGATGTGAGCCAGCGCAAACGCCCGCTGCATAAACCGAAACCGCTGACCGAAGATCAGCTGGATGATCTGCTGGC\n",
      ">read2/NP_Unk01;mate1:340-439;mate2:482-581\n",
      "GATGGCCGCGGCGCGGATATTACCGTGTATGATGTGCTGGGCGATGTGGTGTGCGGCGGCTTTGCGGTGCCGATGCGCAGCGAACATACCGATGCGATTT\n",
      ">read3/NP_Unk01;mate1:1180-1279;mate2:1323-1422\n",
      "CCAATGGCCGTTAAAGCCGCGGTTAAACCAAATAAAGGTATCATCCACCAGGTTCACCGCGCTGCCGCTCGGTTCCACGCTTTCATCAATATGTTCAATC\n",
      ">read4/NP_Unk01;mate1:764-863;mate2:905-1004\n",
      "TGCATAAACCGAAACCGCTGACCGAAGATCAGCTGGATGATCTGCTGGCGGGCCGCCCGGTGGATGAACTTGGCCAGGTGAAACGCGATAGCAGCTGCAA\n",
      ">read5/NP_Unk01;mate1:4-103;mate2:210-309\n",
      "CTGTTTCGCATTGCGATTTATGGCAAAGGCGGCATTGGCAAAAGCACCACCAGCGCGAACCTGAGCTATTGCCTGAGNCAGAAAGGCCTGAGCGTGATGC\n"
     ]
    }
   ],
   "source": [
    "head hightemp_01.fasta"
   ]
  },
  {
   "cell_type": "markdown",
   "metadata": {},
   "source": [
    "From the FASTA we can only say that the reads’ orientation is 5’➝3’ because that is the standard format in which sequences are recorded. However, we cannot know if they come from the positive or negative strand just from the FASTAs, the header does not provide such information:<br>\n",
    "\t`>read1/NP_Unk01;mate1:713-812;mate2:930-1029`<br>\n",
    "We could find out to which strand do our reads belong by looking at the SAM files, which sometimes provide this information.\n",
    "<br><br>"
   ]
  },
  {
   "cell_type": "markdown",
   "metadata": {},
   "source": [
    "<br> \n",
    "__Is there any additional comments you would like to do about your reads?__"
   ]
  },
  {
   "cell_type": "markdown",
   "metadata": {},
   "source": [
    "There is a mistake in the sample's headers, which indicate mate1, mate2 and lead to the wrong impression that the samples must be mate-end. However, as explained before, that is not the case."
   ]
  }
 ],
 "metadata": {
  "kernelspec": {
   "display_name": "Bash",
   "language": "bash",
   "name": "bash"
  },
  "language_info": {
   "codemirror_mode": "shell",
   "file_extension": ".sh",
   "mimetype": "text/x-sh",
   "name": "bash"
  }
 },
 "nbformat": 4,
 "nbformat_minor": 2
}
