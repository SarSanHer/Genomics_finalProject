{
 "cells": [
  {
   "cell_type": "markdown",
   "metadata": {},
   "source": [
    "# Functional prediction\n",
    "The differential expression results gave you an idea about potential important upregulated/overexpressed genes. But, what are those genes doing? Using online databases and bioinformatic resources (e.g. PFAM, PHMMER, eggNOG, NCBI Blast, NCBI Taxonomy, STRING-DB, SMART, etc), you need to solve the some questions.\n",
    "\n",
    "### 1. Extract sequences\n",
    "In the computing server, you can find the following files:  \n",
    "`/home/2019_2020/data/phylo/novel_proteome.faa`  \n",
    "(the complete proteome of your target strain. You will need to extract the protein sequences of your overexpressed genes from here)"
   ]
  },
  {
   "cell_type": "code",
   "execution_count": 1,
   "metadata": {},
   "outputs": [
    {
     "name": "stdout",
     "output_type": "stream",
     "text": [
      "genes.gff           genome_index.2.bt2  genome_index.rev.1.bt2\n",
      "genome.fna          genome_index.3.bt2  genome_index.rev.2.bt2\n",
      "genome_index.1.bt2  genome_index.4.bt2  prots.faa\n"
     ]
    }
   ],
   "source": [
    "cd \n",
    "cd ./data/refs\n",
    "ls"
   ]
  },
  {
   "cell_type": "code",
   "execution_count": 4,
   "metadata": {},
   "outputs": [
    {
     "name": "stdout",
     "output_type": "stream",
     "text": [
      ">\u001b[01;31m\u001b[KNP_213724.1\u001b[m\u001b[K\n",
      "MAIKVGINGFGRIGRSFFRASWGREEIEIVAINDLTDAKHLAHLLKYDSVHGIFKGSVEAKDDSIVVDGKEIKVFAQKDPSQIPWGDLGVDVVIEATGVFRDRENASKHLQGGAKKVIITAPAKNPDITVVLGVNEEKYNPKEHNIISNASCTTNCLAPCVKVLNEAFGVEKGYMVTVHAYTNDQRLLDLPHKDFRRARAAAINIVPTTTGAAKAIGEVIPELKGKLDGTARRVPVPDGSLIDLTVVVNKAPSSVEEVNEKFREAAQKYRESGKVYLKEILQYCEDPIVSTDIVGNPHSAIFDAPLTQVIDNLVHIAAWYDNEWGYSCRLRDLVIYLAERGL*\n",
      ">\u001b[01;31m\u001b[KNP_213887.1\u001b[m\u001b[K\n",
      "MSLSAHEIRELFLSFFEKKGHTRVKSAPLVPENDPTLLFVNAGMVPFKNVFLGLEKRPYKRATSCQKCLRVSGKHNDLEQVGYTSRHHTFFEMLGNFSFGDYFKKEAIEYAWEFVTEVLKLPKEKLYVSVYKDDEEAYRIWNEHIGIPSERIWRLGEEDNFWQMGDVGPCGPSSEIYVDRGEEYEGDERYLEIWNLVFMQYNRDENGVLTPLPHPNIDTGMGLERIASVLQGKNSNFEIDIIFPLIQFGEEVSGKKYGEKFETDVALRVIADHLRAITFAISDGVIPSNEGRGYVIRRILRRAMRFGYKLGIENPFLYKGVDLVVDIMKEPYPELELSREFVKGIVKGEEKRFIKTLKAGMEYIQEVIQKALEEGRKTLSGKEVFTAYDTYGFPVDLIDEIAREKGLGIDLEGFQCELEEQRERARKHFKVEAKKVKPVYSHLKELGKTSAFVGYEHMEWESQVVGLVKGEGLVSELKEGEEGEVVLKETPFYPEGGGQIGDAGIIESDKALFKVEDTQKPTEGIIVHIGKVLKGTLKVGDTVHARVDKERRWDIMRNHTATHLLHAALRNVLGEHVRQAGSLVADKYLRFDFTHFSALTEEELKRVEELVNEKIRENLPVNVMEMAYDEALKTGAIAIFEEKYGERVRVISCGEFSKELCGGTHVSATGDIGYFKIISESSVGAGVRRIVAQTGRWSVETAFKEHQTLKKASSALGVGEEEVIQKIEELKEEIKDREREIQRLKQELLKLQIREVVKEENVGDFTLHYGVFEEVEPEELRNLADMLRQRTKKDVVFIASRKGDKINFVIGVSKEISDKVNAKEVIREVGKVLKGGGGGRADLAQGGGKAPDKFPEAVKLLKEILSG*\n",
      ">\u001b[01;31m\u001b[KNP_Unk01\u001b[m\u001b[K\n",
      "MLFRIAIYGKGGIGKSTTSANLSYCLSQKGLSVMQIGCDPKHDSTRQLIGGGKQTTVLDYVRTTPPSKRSLDDIAVTGSGGVVCIEAGGPEPGVGCAGRGILTMFDALKALGVDGRGADITVYDVLGDVVCGGFAVPMRSEHTDAIYIVTSGEFMSIYAANNILRGLLNFGSDPPRVAGFIFNERGSPGERARVEALSKAIGIPIVADVPRAGEFMEAESAGITVSERFPDSSITSIYRSLADDVVDVSQRKRPLHKPKPLTEDQLDDLLAGRPVDEIGQVKRDSSCNGSPLLGMGSCASRGAVFLAGRVTDLPIIVHGPDSCGYVMSHTQDVHYLSDLDTNLFLVPEMRNNIVCTGMGEHSSIFGGASDLERTLRRLLDKGHRMVMVITTCVSGMIGDDVDRVAARVAEDYEGCIVDVVHADGNLTGDSEEGREAVVDALIEHIDESVEPSGSAVNLVDDTFIWFNRGFNGHWTEELLGMVGLEIGTEIFEECTLDDVRNCRRNPYSVLVEDSERNAAIASKLKGKGFGCFLPPLPKGHGE\n",
      ">\u001b[01;31m\u001b[KNP_Unk02\u001b[m\u001b[K\n",
      "MDLKVEIETLYEVSKILSSSLNLETTVPYIFRLLKKLMGFERLTLTIYDPSTDQIVVRATSSGKFPKEGFKKGEGITGKVWKHGVPIVIPDISQEPEFLNKVWKRKKSKKKIAFIAVPIKSGGKVIGVLSADKEINEKDSLDEYTRFLSMIATLIANSFSLERKVQAERKSLEEEKRALETELKRVYEKLHVEGIVGRSKEILNVLEIVHRVAPTNATVLLRGESGVGKEVFARAIHFLSPRADKPFVAINCGAIPGELLEAELFGYEKGAFTGAYSTKKGKFELANGGTLFLDEIGELPLHLQVKLLRAIQEKEIERIGGTRPIKVDVRIIAATNRDLESMVREGKFREDLYYRLNVVPIFIPPLRERKEDIPVLVHYFLEKFSKEYNKEVSITQEVMDAFMKYEWKGNVRELQNVLERMVILDTDGVLSEEDLPPEIRDVKKESRIYNQTLNGETIWDLEKQLIEKALEESGFVIKEAAKKLGMTPRQVSYRIQKYGIKLPKKR*\n"
     ]
    }
   ],
   "source": [
    "cat prots.faa | grep -A 1 'NP_213724.1'\n",
    "cat prots.faa | grep -A 1 'NP_213887.1'\n",
    "cat prots.faa | grep -A 1 'NP_Unk01'\n",
    "cat prots.faa | grep -A 1 'NP_Unk02'"
   ]
  },
  {
   "cell_type": "markdown",
   "metadata": {},
   "source": [
    "### 2. Save to FASTA\n",
    "Save each sequence in FASTA format in an individual file!"
   ]
  },
  {
   "cell_type": "code",
   "execution_count": 7,
   "metadata": {},
   "outputs": [],
   "source": [
    "cd\n",
    "mkdir ./prot_seqs\n",
    "cd ./prot_seqs"
   ]
  },
  {
   "cell_type": "code",
   "execution_count": 9,
   "metadata": {},
   "outputs": [],
   "source": [
    "cd\n",
    "cat ./data/refs/prots.faa | grep -A 1 'NP_213724.1' > ./prot_seqs/NP_213724.1.fas\n",
    "cat ./data/refs/prots.faa | grep -A 1 'NP_213887.1' > ./prot_seqs/NP_213887.1.fas\n",
    "cat ./data/refs/prots.faa | grep -A 1 'NP_Unk01' > ./prot_seqs/NP_Unk01.fas\n",
    "cat ./data/refs/prots.faa | grep -A 1 'NP_Unk02' > ./prot_seqs/NP_Unk02.fas"
   ]
  },
  {
   "cell_type": "code",
   "execution_count": 10,
   "metadata": {},
   "outputs": [
    {
     "name": "stdout",
     "output_type": "stream",
     "text": [
      "NP_213724.1.fas  NP_213887.1.fas  NP_Unk01.fas  NP_Unk02.fas\n"
     ]
    }
   ],
   "source": [
    "ls ./prot_seqs"
   ]
  },
  {
   "cell_type": "markdown",
   "metadata": {},
   "source": [
    "<br><br>\n",
    "### 3. Answers\n"
   ]
  },
  {
   "cell_type": "markdown",
   "metadata": {},
   "source": [
    "<br>  \n",
    "__Has any other strain of the same abundant species been sequenced? (whole genome). Report it if so.__ <br>\n",
    "According to NCBI genomes, only the strain VF5 of Aquifex aeolicus has been completely sequenced [1]. The most abundant species in the normal sample is an unknown species from the Pelagibacteraceae, and there are over a hundred of unclassified but sequenced strains of these bacteria[2].\n",
    "#### Links\n",
    "1. _https://www.ncbi.nlm.nih.gov/Taxonomy/Browser/wwwtax.cgi?mode=Info&id=224324&lvl=3&lin=f&keep=1&srchmode=1&unlock_\n",
    "<br>\n",
    "2. _https://www.ncbi.nlm.nih.gov/Taxonomy/Browser/wwwtax.cgi_\n",
    "   \n"
   ]
  },
  {
   "cell_type": "markdown",
   "metadata": {},
   "source": [
    "<br>  \n",
    "__Do all the over-expressed genes have any close homolog in similar strains or in other species/lineages?__ <br>\n",
    "We can look for homologues both using blast protein-protein and PHMMER. As expected, three of the  over-expressed genes NP_213724.1, NP_213887.1 and NP_Unk02, have as their best hit Aquifex aeolicus (strain VF5). The closest homologues are:\n",
    "- NP_213724.1: _Hydrogenivirga caldilitoris_ with an identity of 83.92%\n",
    "- NP_213887.1: _Aquifex pyrophilus_ with 88% identity \n",
    "- NP_Unk02: _Hydrogenivirga caldilitoris_ with 87.77% identity  \n",
    "  \n",
    "Unlike the others, the protein NP_Unk01 does not have Aquifex aeolicus as its best hit and, in fact, does not have any close homologues. The best hit has an identity of only 53% percent and corresponds to a methanogenic archaeon mixed culture; the second best hit, with an identity of 45% is Methanomassiliicoccus luminyensis, a strain of methanogenic Archaea."
   ]
  },
  {
   "cell_type": "markdown",
   "metadata": {},
   "source": [
    "<br>  \n",
    "__Do the over-expressed genes have any known molecular function? Which function?__ <br>\n",
    "From the best hits in the BLAST search we can infer the protein to which the sequence belongs, and infer the molecular function by looking into the entry in UniProt. The functions are the following:\n",
    "- NP_213724.1: Glyceraldehyde-3-phosphate dehydrogenase (type I), a metabolic enzyme with oxidoreductase activity, acting on the aldehyde or oxo group of donors, NAD or NADP as acceptor[1]\n",
    "- NP_213887.1:alanine--tRNA ligase, a ribozyme that catalyzes the attachment of Ala to the tRNA and also edits Ser-tRNA(Ala) and Gly-tRNA(Ala). [2] \n",
    "- NP_Unk01: we find two main protein functions: nitrogenase iron protein NifH, an ATP and iron dependent protein for nitrogen fixation; and AAA family ATPase, a  protein family  that catalyzes reactions to obtain energy from ATP [3]. _Aquifex aeolicus_ is not a nitrogen fixating organism, but other strains are, and given that the variant with best quality is a NifA, this sequence is probably a nitrogen fixating protein. \n",
    "\n",
    "- NP_Unk02: σ54 dependent Fis family transcriptional regulator, an ATP-dependent  transcriptional factor (TF). Given that there are no annotations about this TF in uniprot (all entries are for predicted proteins), we can try to get more information by looking into other not so close homologues. We see that the sequence is also associated with the nif-specific transcriptional activator NifA, so maybe this TF is an activator of the NifH that NP_Unk01 was associated to.\n",
    " \n",
    "  \n",
    "#### Links\n",
    "1. _https://www.uniprot.org/uniprot/O67161_\n",
    "<br>\n",
    "2. _https://www.uniprot.org/uniprot/O67323_\n",
    "<br>\n",
    "3. _https://www.sciencedirect.com/science/article/pii/S1047847703002958?via=ihub_\n"
   ]
  },
  {
   "cell_type": "markdown",
   "metadata": {},
   "source": [
    "<br>  \n",
    "__Do the over-expressed genes have any known domain?__ <br>\n",
    "In the same NCBI blast result page we can access the protein entry and retrieve information about its domains by going to the CDD (Conserved Protein Domain Family) link. Additionally, we can find information about the protein domains in UniProt. All the proteins have information with known domains, and below we can see some of the most important domains for the protein main catalytic function:\n",
    "- Glyceraldehyde-3-phosphate dehydrogenase(G3PDH): the protein is a homotetramer with a NAD-binding domain and a highly conserved catalytic domain in each monomer.\n",
    "- Alanine--tRNA ligase: it has an editing domain for removing incorrectly charged Ala; and a N-terminal catalytic domain and C-terminal C-Ala domain that, together, the editing and aminoacylation centers to catalyze the deacylation of misacylated tRNAs.\n",
    "- Nitrogenase iron protein (NifH): it is a complex with two components, an iron protein and a molybdenum-iron protein.\n",
    "- σ54-dependent Fis family transcriptional regulator: regulatory N-terminal GAF domain"
   ]
  },
  {
   "cell_type": "markdown",
   "metadata": {},
   "source": [
    "<br>  \n",
    "__Are the over-expressed genes functionally related? (i.e. protein-protein interactions)__ <br>\n",
    "The protein interactions can be checked out in the STRING and the BioGRID databases, and there seems to be no  annotated protein-protein interactions between these four proteins in the organisms Aquifex aeolicus nor in methanogen bacteria. However, this does not mean that the proteins are not related; in fact, there are some publications that associate the σ54 factor and the expression of nitrogen-related genes.\n"
   ]
  },
  {
   "cell_type": "markdown",
   "metadata": {},
   "source": [
    "<br>  \n",
    "__Could those function you inferred be related with the bloom of algae observed in the hot spring after high-temperature? What would be such relationship? Briefly elaborate your hypothesis.__ <br>\n",
    "I believe that the overexpression of the σ54 dependent transcriptional factor and the nitrogen fixating protein (NifH) are responsibles for the bloom of algae after the high-temperature event. Nitrogen is a limiting nutrient, and with the high abundance of _Aquifex_ plus the overexpression of nitrogen fixating genes, there would be a significant raise in the nitrogen fixation rate. Consequently, after the high-temperature event, the environment would have a higher concentration of nitrogen that would not limit (as it usually does) the growth of algae, letting the algae bloom take place."
   ]
  },
  {
   "cell_type": "code",
   "execution_count": null,
   "metadata": {},
   "outputs": [],
   "source": []
  }
 ],
 "metadata": {
  "kernelspec": {
   "display_name": "Bash",
   "language": "bash",
   "name": "bash"
  },
  "language_info": {
   "codemirror_mode": "shell",
   "file_extension": ".sh",
   "mimetype": "text/x-sh",
   "name": "bash"
  }
 },
 "nbformat": 4,
 "nbformat_minor": 2
}
