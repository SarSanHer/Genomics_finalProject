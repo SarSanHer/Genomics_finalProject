{
 "cells": [
  {
   "cell_type": "markdown",
   "metadata": {},
   "source": [
    "# Functional prediction\n",
    "The differential expression results gave you an idea about potential important upregulated/overexpressed genes. But, what are those genes doing? Using online databases and bioinformatic resources (e.g. PFAM, PHMMER, eggNOG, NCBI Blast, NCBI Taxonomy, STRING-DB, SMART, etc), you need to solve the some questions.\n",
    "\n",
    "### 1. Extract sequences\n",
    "In the computing server, you can find the following files:  \n",
    "`/home/2019_2020/data/phylo/novel_proteome.faa`  \n",
    "(the complete proteome of your target strain. You will need to extract the protein sequences of your overexpressed genes from here)"
   ]
  },
  {
   "cell_type": "code",
   "execution_count": 1,
   "metadata": {},
   "outputs": [
    {
     "name": "stdout",
     "output_type": "stream",
     "text": [
      "genes.gff           genome_index.2.bt2  genome_index.rev.1.bt2\n",
      "genome.fna          genome_index.3.bt2  genome_index.rev.2.bt2\n",
      "genome_index.1.bt2  genome_index.4.bt2  prots.faa\n"
     ]
    }
   ],
   "source": [
    "cd \n",
    "cd ./data/refs\n",
    "ls"
   ]
  },
  {
   "cell_type": "code",
   "execution_count": 4,
   "metadata": {},
   "outputs": [
    {
     "name": "stdout",
     "output_type": "stream",
     "text": [
      ">\u001b[01;31m\u001b[KNP_213724.1\u001b[m\u001b[K\n",
      "MAIKVGINGFGRIGRSFFRASWGREEIEIVAINDLTDAKHLAHLLKYDSVHGIFKGSVEAKDDSIVVDGKEIKVFAQKDPSQIPWGDLGVDVVIEATGVFRDRENASKHLQGGAKKVIITAPAKNPDITVVLGVNEEKYNPKEHNIISNASCTTNCLAPCVKVLNEAFGVEKGYMVTVHAYTNDQRLLDLPHKDFRRARAAAINIVPTTTGAAKAIGEVIPELKGKLDGTARRVPVPDGSLIDLTVVVNKAPSSVEEVNEKFREAAQKYRESGKVYLKEILQYCEDPIVSTDIVGNPHSAIFDAPLTQVIDNLVHIAAWYDNEWGYSCRLRDLVIYLAERGL*\n",
      ">\u001b[01;31m\u001b[KNP_213887.1\u001b[m\u001b[K\n",
      "MSLSAHEIRELFLSFFEKKGHTRVKSAPLVPENDPTLLFVNAGMVPFKNVFLGLEKRPYKRATSCQKCLRVSGKHNDLEQVGYTSRHHTFFEMLGNFSFGDYFKKEAIEYAWEFVTEVLKLPKEKLYVSVYKDDEEAYRIWNEHIGIPSERIWRLGEEDNFWQMGDVGPCGPSSEIYVDRGEEYEGDERYLEIWNLVFMQYNRDENGVLTPLPHPNIDTGMGLERIASVLQGKNSNFEIDIIFPLIQFGEEVSGKKYGEKFETDVALRVIADHLRAITFAISDGVIPSNEGRGYVIRRILRRAMRFGYKLGIENPFLYKGVDLVVDIMKEPYPELELSREFVKGIVKGEEKRFIKTLKAGMEYIQEVIQKALEEGRKTLSGKEVFTAYDTYGFPVDLIDEIAREKGLGIDLEGFQCELEEQRERARKHFKVEAKKVKPVYSHLKELGKTSAFVGYEHMEWESQVVGLVKGEGLVSELKEGEEGEVVLKETPFYPEGGGQIGDAGIIESDKALFKVEDTQKPTEGIIVHIGKVLKGTLKVGDTVHARVDKERRWDIMRNHTATHLLHAALRNVLGEHVRQAGSLVADKYLRFDFTHFSALTEEELKRVEELVNEKIRENLPVNVMEMAYDEALKTGAIAIFEEKYGERVRVISCGEFSKELCGGTHVSATGDIGYFKIISESSVGAGVRRIVAQTGRWSVETAFKEHQTLKKASSALGVGEEEVIQKIEELKEEIKDREREIQRLKQELLKLQIREVVKEENVGDFTLHYGVFEEVEPEELRNLADMLRQRTKKDVVFIASRKGDKINFVIGVSKEISDKVNAKEVIREVGKVLKGGGGGRADLAQGGGKAPDKFPEAVKLLKEILSG*\n",
      ">\u001b[01;31m\u001b[KNP_Unk01\u001b[m\u001b[K\n",
      "MLFRIAIYGKGGIGKSTTSANLSYCLSQKGLSVMQIGCDPKHDSTRQLIGGGKQTTVLDYVRTTPPSKRSLDDIAVTGSGGVVCIEAGGPEPGVGCAGRGILTMFDALKALGVDGRGADITVYDVLGDVVCGGFAVPMRSEHTDAIYIVTSGEFMSIYAANNILRGLLNFGSDPPRVAGFIFNERGSPGERARVEALSKAIGIPIVADVPRAGEFMEAESAGITVSERFPDSSITSIYRSLADDVVDVSQRKRPLHKPKPLTEDQLDDLLAGRPVDEIGQVKRDSSCNGSPLLGMGSCASRGAVFLAGRVTDLPIIVHGPDSCGYVMSHTQDVHYLSDLDTNLFLVPEMRNNIVCTGMGEHSSIFGGASDLERTLRRLLDKGHRMVMVITTCVSGMIGDDVDRVAARVAEDYEGCIVDVVHADGNLTGDSEEGREAVVDALIEHIDESVEPSGSAVNLVDDTFIWFNRGFNGHWTEELLGMVGLEIGTEIFEECTLDDVRNCRRNPYSVLVEDSERNAAIASKLKGKGFGCFLPPLPKGHGE\n",
      ">\u001b[01;31m\u001b[KNP_Unk02\u001b[m\u001b[K\n",
      "MDLKVEIETLYEVSKILSSSLNLETTVPYIFRLLKKLMGFERLTLTIYDPSTDQIVVRATSSGKFPKEGFKKGEGITGKVWKHGVPIVIPDISQEPEFLNKVWKRKKSKKKIAFIAVPIKSGGKVIGVLSADKEINEKDSLDEYTRFLSMIATLIANSFSLERKVQAERKSLEEEKRALETELKRVYEKLHVEGIVGRSKEILNVLEIVHRVAPTNATVLLRGESGVGKEVFARAIHFLSPRADKPFVAINCGAIPGELLEAELFGYEKGAFTGAYSTKKGKFELANGGTLFLDEIGELPLHLQVKLLRAIQEKEIERIGGTRPIKVDVRIIAATNRDLESMVREGKFREDLYYRLNVVPIFIPPLRERKEDIPVLVHYFLEKFSKEYNKEVSITQEVMDAFMKYEWKGNVRELQNVLERMVILDTDGVLSEEDLPPEIRDVKKESRIYNQTLNGETIWDLEKQLIEKALEESGFVIKEAAKKLGMTPRQVSYRIQKYGIKLPKKR*\n"
     ]
    }
   ],
   "source": [
    "cat prots.faa | grep -A 1 'NP_213724.1'\n",
    "cat prots.faa | grep -A 1 'NP_213887.1'\n",
    "cat prots.faa | grep -A 1 'NP_Unk01'\n",
    "cat prots.faa | grep -A 1 'NP_Unk02'"
   ]
  },
  {
   "cell_type": "markdown",
   "metadata": {},
   "source": [
    "### 2. Save to FASTA\n",
    "Save each sequence in FASTA format in an individual file!"
   ]
  },
  {
   "cell_type": "code",
   "execution_count": 7,
   "metadata": {},
   "outputs": [],
   "source": [
    "cd\n",
    "mkdir ./prot_seqs\n",
    "cd ./prot_seqs"
   ]
  },
  {
   "cell_type": "code",
   "execution_count": 9,
   "metadata": {},
   "outputs": [],
   "source": [
    "cd\n",
    "cat ./data/refs/prots.faa | grep -A 1 'NP_213724.1' > ./prot_seqs/NP_213724.1.fas\n",
    "cat ./data/refs/prots.faa | grep -A 1 'NP_213887.1' > ./prot_seqs/NP_213887.1.fas\n",
    "cat ./data/refs/prots.faa | grep -A 1 'NP_Unk01' > ./prot_seqs/NP_Unk01.fas\n",
    "cat ./data/refs/prots.faa | grep -A 1 'NP_Unk02' > ./prot_seqs/NP_Unk02.fas"
   ]
  },
  {
   "cell_type": "code",
   "execution_count": 10,
   "metadata": {},
   "outputs": [
    {
     "name": "stdout",
     "output_type": "stream",
     "text": [
      "NP_213724.1.fas  NP_213887.1.fas  NP_Unk01.fas  NP_Unk02.fas\n"
     ]
    }
   ],
   "source": [
    "ls ./prot_seqs"
   ]
  }
 ],
 "metadata": {
  "kernelspec": {
   "display_name": "Bash",
   "language": "bash",
   "name": "bash"
  },
  "language_info": {
   "codemirror_mode": "shell",
   "file_extension": ".sh",
   "mimetype": "text/x-sh",
   "name": "bash"
  }
 },
 "nbformat": 4,
 "nbformat_minor": 2
}
