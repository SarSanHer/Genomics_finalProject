{
 "cells": [
  {
   "cell_type": "markdown",
   "metadata": {},
   "source": [
    "# Phylogenetic analysis\n",
    "To investigate further the functional roles and evolutionary origin of your candidate (upregulated) genes, you decide to perform a phylogenetic analysis comparing them against other prokaryotic proteomes (including the reference genome of the species matching our isolated strain in the hot spring).”\n",
    "\n",
    "### Tasks:\n",
    "For each over expressed gene (you have individual FASTA files created from previous section), run a standard phylogenetic workflow: \n",
    "1. Run a blast search for each over expressed protein against all reference proteomes\n",
    "2. Extract hits with e-value <= 0.00001 (tip: you can use blast parameters for this)\n",
    "3. Create a FASTA file with all the sequences of selected hits  (tip: you can use the extract_sequences_from_blast_result.py)\n",
    "4. Build a phylogenetic tree out of the fastA file (suggested tools: clustalo, iqtree)\n",
    "5. Visualize the result (suggested tools: etetoolkit.org/treeview, itol.embl.de, ete3)\n",
    "6. Using the additional info file located at  additional_seq_info.tsv (see full path above) extract functional and taxonomic information for each homolog in the trees, and visualize it in the tree for better interpretation.  \n"
   ]
  },
  {
   "cell_type": "markdown",
   "metadata": {},
   "source": [
    "### 1. BLAST\n",
    "The first thing to do is building the BLAST database using all reference proteomes from the file `/home/2019_2020/data/phylo/all_ref_proteomes.faa`  <br><br>\n",
    "We will have to extract the four sequences of the over-expressed genes from `/home/2019_2020/data/phylo/novel_proteome.faa` <br><br>\n",
    "Then we can do the BLAST and extract the best hits with the python script provided as `python extract_seqs_from_blast_result.py  blast_output all_ref_proteomes.faa > homologs.faa`"
   ]
  },
  {
   "cell_type": "code",
   "execution_count": 33,
   "metadata": {},
   "outputs": [
    {
     "name": "stdout",
     "output_type": "stream",
     "text": [
      "NP_213724.1.blast  NP_Unk02.fas               all_ref_proteomes.faa.psq\n",
      "NP_213724.1.fas    all_ref_proteomes.faa      \u001b[0m\u001b[38;5;34mextract_seqs_from_blast_result.py\u001b[0m\n",
      "NP_213887.1.fas    all_ref_proteomes.faa.phr\n",
      "NP_Unk01.fas       all_ref_proteomes.faa.pin\n"
     ]
    }
   ],
   "source": [
    "cd \n",
    "#mkdir ./phylo\n",
    "cd ./phylo\n",
    "#cp /home/2019_2020/data/phylo/extract_seqs_from_blast_result.py .\n",
    "#cp /home/2019_2020/data/phylo/all_ref_proteomes.faa .\n",
    "ls"
   ]
  },
  {
   "cell_type": "code",
   "execution_count": 25,
   "metadata": {},
   "outputs": [
    {
     "name": "stdout",
     "output_type": "stream",
     "text": [
      "\n",
      "\n",
      "Building a new DB, current time: 01/06/2020 22:00:04\n",
      "New DB name:   /home/2019_2020/s.sanchez-heredero/phylo/all_ref_proteomes.faa\n",
      "New DB title:  all_ref_proteomes.faa\n",
      "Sequence type: Protein\n",
      "Keep MBits: T\n",
      "Maximum file size: 1000000000B\n",
      "Adding sequences from FASTA; added 88473 sequences in 5.04095 seconds.\n"
     ]
    }
   ],
   "source": [
    "# Make database\n",
    "makeblastdb -dbtype prot -in all_ref_proteomes.faa"
   ]
  },
  {
   "cell_type": "code",
   "execution_count": 13,
   "metadata": {},
   "outputs": [],
   "source": [
    "# Extract my sequences\n",
    "cat /home/2019_2020/data/phylo/novel_proteome.faa | grep -A 1 'NP_213724.1' > NP_213724.1.fas\n",
    "cat /home/2019_2020/data/phylo/novel_proteome.faa | grep -A 1 'NP_213887.1' > NP_213887.1.fas\n",
    "cat /home/2019_2020/data/phylo/novel_proteome.faa | grep -A 1 'NP_Unk01' > NP_Unk01.fas\n",
    "cat /home/2019_2020/data/phylo/novel_proteome.faa | grep -A 1 'NP_Unk02' > NP_Unk02.fas"
   ]
  },
  {
   "cell_type": "code",
   "execution_count": 42,
   "metadata": {},
   "outputs": [],
   "source": [
    "# BLAST\n",
    "blastp -task blastp -query NP_213724.1.fas -db all_ref_proteomes.faa -outfmt 6 -evalue 0.001 > NP_213724.1.blast\n",
    "blastp -task blastp -query NP_213887.1.fas -db all_ref_proteomes.faa -outfmt 6 -evalue 0.001 > NP_213887.1.blast\n",
    "blastp -task blastp -query NP_Unk01.fas -db all_ref_proteomes.faa -outfmt 6 -evalue 0.001 > NP_Unk01.blast\n",
    "blastp -task blastp -query NP_Unk02.fas -db all_ref_proteomes.faa -outfmt 6 -evalue 0.001 > NP_Unk02.blast\n",
    "\n",
    "python extract_seqs_from_blast_result.py NP_213724.1.blast all_ref_proteomes.faa > NP_213724.1.blast_homologs.faa\n",
    "python extract_seqs_from_blast_result.py NP_213887.1.blast all_ref_proteomes.faa > NP_213887.1.blast_homologs.faa\n",
    "python extract_seqs_from_blast_result.py NP_Unk01.blast all_ref_proteomes.faa > NP_Unk01.blast_homologs.faa\n",
    "python extract_seqs_from_blast_result.py NP_Unk02.blast all_ref_proteomes.faa > NP_Unk02.blast_homologs.faa"
   ]
  },
  {
   "cell_type": "code",
   "execution_count": 43,
   "metadata": {},
   "outputs": [
    {
     "name": "stdout",
     "output_type": "stream",
     "text": [
      "NP_213724.1.blast               NP_Unk02.blast\n",
      "NP_213724.1.blast_homologs.faa  NP_Unk02.blast_homologs.faa\n",
      "NP_213724.1.fas                 NP_Unk02.fas\n",
      "NP_213887.1.blast               all_ref_proteomes.faa\n",
      "NP_213887.1.blast_homologs.faa  all_ref_proteomes.faa.phr\n",
      "NP_213887.1.fas                 all_ref_proteomes.faa.pin\n",
      "NP_Unk01.blast                  all_ref_proteomes.faa.psq\n",
      "NP_Unk01.blast_homologs.faa     \u001b[0m\u001b[38;5;34mextract_seqs_from_blast_result.py\u001b[0m\n",
      "NP_Unk01.fas\n"
     ]
    }
   ],
   "source": [
    "ls"
   ]
  },
  {
   "cell_type": "markdown",
   "metadata": {},
   "source": [
    "<br><br>\n",
    "### 2. Building the trees\n",
    "Now that we have the sequences that we want to use for the phylogenetic analysis, we can do the phylogenetic analysis, for which we will need to:\n",
    "1. Make an alignment of the sequences using `clustalo`\n",
    "2. Build the tree using `iqtree`"
   ]
  },
  {
   "cell_type": "code",
   "execution_count": null,
   "metadata": {},
   "outputs": [],
   "source": [
    "# Make alignmets\n",
    "/home/miniconda3/bin/clustalo -i NP_213724.1.blast_homologs.faa > NP_213724.1.blast_homologs.alg\n",
    "/home/miniconda3/bin/clustalo -i NP_213887.1.blast_homologs.faa > NP_213887.1.blast_homologs.alg\n",
    "/home/miniconda3/bin/clustalo -i NP_Unk01.blast_homologs.faa > NP_Unk01.blast_homologs.alg\n",
    "/home/miniconda3/bin/clustalo -i NP_Unk02.blast_homologs.faa > NP_Unk02.blast_homologs.alg"
   ]
  },
  {
   "cell_type": "code",
   "execution_count": 46,
   "metadata": {},
   "outputs": [],
   "source": [
    "#Build trees\n",
    "/home/miniconda3/bin/iqtree -s NP_213724.1.blast_homologs.alg\n",
    "/home/miniconda3/bin/iqtree -s NP_213887.1.blast_homologs.alg\n",
    "/home/miniconda3/bin/iqtree -s NP_Unk01.blast_homologs.alg\n",
    "/home/miniconda3/bin/iqtree -s NP_Unk02.blast_homologs.alg"
   ]
  }
 ],
 "metadata": {
  "kernelspec": {
   "display_name": "Bash",
   "language": "bash",
   "name": "bash"
  },
  "language_info": {
   "codemirror_mode": "shell",
   "file_extension": ".sh",
   "mimetype": "text/x-sh",
   "name": "bash"
  }
 },
 "nbformat": 4,
 "nbformat_minor": 2
}
