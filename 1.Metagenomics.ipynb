{
 "cells": [
  {
   "cell_type": "markdown",
   "metadata": {},
   "source": [
    "# Metagenomics analysis\n",
    "\n",
    "As a first step, you decide to run shotgun metagenomic sequencing of the prokaryotic microbiome in two of kind of samples: 1) one taken during the high temperature episodes, and 2) right after the episodes, when the temperature is back to normal and there is a bloom of algae. \n",
    "\n",
    "After months of waiting, the sequencing results from your two metagenomic samples just arrived! The raw read files (reverse and forward) were produced by Illumina pair-end sequencing and are located in your computing server: \n",
    "\n",
    "1. Forward and reverse reads from the high temperature sample\n",
    "\n",
    ">/home/2019_2020/data/metagenomics/hotspring-hightemp.1.fq.gz <br>\n",
    "/home/2019_2020/data/metagenomics/hotspring-hightemp.2.fq.gz  \n",
    "  \n",
    "2. Forward and reverse reads from the normal temperature sample  \n",
    "\n",
    ">/home/2019_2020/data/metagenomics/hotspring-normaltemp.1.fq.gz <br>\n",
    "/home/2019_2020/data/metagenomics/hotspring-normaltemp.2.fq.gz\n"
   ]
  },
  {
   "cell_type": "markdown",
   "metadata": {},
   "source": [
    "### 1. Generating taxonomic profiles\n",
    "In the metagenomic samples we probably have sequences from many different genes and species. If we want to find out which one is the most abundant organisms in the sample, we have to do sample's profiling, which can be done by taxonomy or gene function. Probably looking into the function would be interesting to figure out why the outburst of life after the episodes of high temperature in the volcano. However, since we want to identify organisms, a taxonomic profiling looks like a better approach for now.\n",
    "\n",
    "We performe an analysis of the taxonomic profiles using the tool mOTUs (ref: https://motu-tool.org/tutorial.html) <br>\n",
    "The reference for the results analysis: https://github.com/motu-tool/mOTUs_v2/wiki/Explain-the-resulting-profile"
   ]
  },
  {
   "cell_type": "code",
   "execution_count": 1,
   "metadata": {},
   "outputs": [
    {
     "name": "stdout",
     "output_type": "stream",
     "text": [
      "\u001b[0m\u001b[38;5;9mhotspring-hightemp.1.fq.gz\u001b[0m  \u001b[38;5;9mhotspring-normaltemp.1.fq.gz\u001b[0m\n",
      "\u001b[38;5;9mhotspring-hightemp.2.fq.gz\u001b[0m  \u001b[38;5;9mhotspring-normaltemp.2.fq.gz\u001b[0m\n"
     ]
    }
   ],
   "source": [
    "# first we go to the directory with the files\n",
    "cd /home/2019_2020/data/metagenomics\n",
    "ls"
   ]
  },
  {
   "cell_type": "code",
   "execution_count": 2,
   "metadata": {},
   "outputs": [],
   "source": [
    "# high temperature samples\n",
    "motus profile -f hotspring-hightemp.1.fq.gz -r hotspring-hightemp.2.fq.gz -o /home/2019_2020/s.sanchez-heredero/Metagenomics_outputs/hightemp.motus -n hightemp\n",
    "# normal temperature samples\n",
    "\n",
    "motus profile -f hotspring-normaltemp.1.fq.gz -r hotspring-normaltemp.2.fq.gz -o /home/2019_2020/s.sanchez-heredero/Metagenomics_outputs/normaltemp.motus -n normaltemp"
   ]
  },
  {
   "cell_type": "code",
   "execution_count": 4,
   "metadata": {},
   "outputs": [
    {
     "name": "stdout",
     "output_type": "stream",
     "text": [
      "hightemp.motus  normaltemp.motus\n"
     ]
    }
   ],
   "source": [
    "cd /home/2019_2020/s.sanchez-heredero/Metagenomics_outputs\n",
    "ls"
   ]
  },
  {
   "cell_type": "markdown",
   "metadata": {},
   "source": [
    "<br> <br> \n",
    "## Questions\n",
    "<br> \n",
    "__What is the most abundant organism in high-temperature? What’s its relative abundance? How do you interpret the abundance number obtained? Is it a novel or known species? If possible, describe the most important features of such species.__"
   ]
  },
  {
   "cell_type": "code",
   "execution_count": 5,
   "metadata": {
    "scrolled": true
   },
   "outputs": [
    {
     "name": "stdout",
     "output_type": "stream",
     "text": [
      "Aquifex aeolicus [ref_mOTU_v25_10705]\t0.6189655514\n",
      "Pelagibacteraceae species incertae sedis [meta_mOTU_v25_13988]\t0.0907761851\n",
      "-1\t0.0721252510\n",
      "Pelagibacteraceae species incertae sedis [meta_mOTU_v25_13493]\t0.0664534531\n",
      "Porticoccaceae species incertae sedis [meta_mOTU_v25_13235]\t0.0193465739\n",
      "sort: write failed: standard output: Broken pipe\n",
      "sort: write error\n"
     ]
    }
   ],
   "source": [
    "# I remove the header from the file\n",
    "tail -n+4  hightemp.motus | sort -t$'\\t' -k2 -nr | head -n 5"
   ]
  },
  {
   "cell_type": "markdown",
   "metadata": {},
   "source": [
    "The most abundant organism is Aquifex aeolicus, with a relative abundance of 16’9%. This means that of all the genomes identified, 16’9% had the genetic marker that identified them as Aquifex aeolicus.\n",
    "It is a thermophilic bacteria that grows best in water and under microaerophilic conditions; therefore, it  is usually found near hot springs and volcanos, just like in our case. Also interesting is its metabolism: it is a chemoautotrophic species with the ability to fixate carbon from CO2, and also uses Krebbs cycle to synthesize metabolites.\n",
    "\n",
    " #### References\n",
    "\n",
    "1. _Reysenbach, L., Wickham, G. S. & Pace, N. R. (1994). \"Phylogenetic analysis of the hyperthermophilic pink filament community in Octopus Spring, Yellowstone National Park\". Applied and Environmental Microbiology. 60: 2113–2119._\n",
    "<br>\n",
    "2. _Brugna-Guiral, M., Tron, P., Nitschke, W., Stetter, K., Burlat, B., Guigliarelli, B., Bruschi, M., Giudici-Orticoni, M (2003). \"[NiFe] hydrogenases from the hyperthermophilic bacterium Aquifexa eolicus: properties, function, and phylogenetics\". Extremophiles. 7 (2): 145–157. doi:10.1007/s00792-002-0306-3_\n",
    "   \n"
   ]
  },
  {
   "cell_type": "markdown",
   "metadata": {},
   "source": [
    "<br> <br>\n",
    "__What is the most abundant organism in normal-temperature? What’s its relative abundance? How do you interpret the abundance number obtained? Is it a novel or known species? If possible, describe the most important features of such species.__"
   ]
  },
  {
   "cell_type": "code",
   "execution_count": 9,
   "metadata": {},
   "outputs": [
    {
     "name": "stdout",
     "output_type": "stream",
     "text": [
      "Pelagibacteraceae species incertae sedis [meta_mOTU_v25_13988]\t0.2385013523\n",
      "-1\t0.1892140031\n",
      "Pelagibacteraceae species incertae sedis [meta_mOTU_v25_13493]\t0.1743434863\n",
      "Porticoccaceae species incertae sedis [meta_mOTU_v25_13235]\t0.0507562117\n",
      "Candidatus Aquiluna sp. IMCC13023 [ref_mOTU_v25_06613]\t0.0484321303\n",
      "sort: write failed: standard output: Broken pipe\n",
      "sort: write error\n"
     ]
    }
   ],
   "source": [
    "# I remove the header from the file\n",
    "tail -n+4 normaltemp.motus | sort -t$'\\t' -k2 -nr | head -n 5"
   ]
  },
  {
   "cell_type": "markdown",
   "metadata": {},
   "source": [
    "At normal temperature the most abundant species has a 23.85% relative abundance, and it is Pelagibacteraceae sp incertae sedis. This means that the organism belongs to the Pelagibacteraceae family but the species is unknown. From this family we know that they are aquatic bacteria with an oligotrophic metabolism, which means that they feed on dissolved organic carbon and nitrogen, and have a characteristic requirement for reduced sulfur.   \n",
    "The high-abundant species in the high-temp sample is not detected here, but all the other bacterial species are detected here too.\n",
    "\n",
    " #### References\n",
    "\n",
    "1. _Morris RM, Rappé MS, Connon SA, et al. (2002). \"SAR11 clade dominates ocean surface bacterioplankton communities\". Nature. 420 (6917): 806–10. Bibcode:2002Natur.420..806M. doi:10.1038/nature01240_\n",
    "<br>\n",
    "2. _H. James Tripp; Joshua B. Kitner; Michael S. Schwalbach; John W. H. Dacey; Larry J. Wilhelm & Stephen J. Giovannoni (April 2008). \"SAR11 marine bacteria require exogenous reduced sulfur for growth\". Nature. 452 (7188): 741–4. Bibcode:2008Natur.452..741T. doi:10.1038/nature06776_\n",
    "      \n"
   ]
  },
  {
   "cell_type": "markdown",
   "metadata": {},
   "source": [
    "<br> <br>\n",
    "__Why algae are observed/not-observed in the normal-temperature condition?__ \n",
    "<br>\n",
    "Algae are not observed either in normal or high temperature, we only detect bacteria. This makes sense considering that we used shotgun metagenomic sequencing of the prokaryotic microbiome, so we had prokaryotic sequences and algae, being eukaryotic, could not be in the samples. Moreover, for the species identification we used motus, a tool that identifies species by their 16S rRNA sequence (16S-based approach). Algae, being eukaryotic, do not have the 16S ribosomal RNA and therefore cannot be identified using motus."
   ]
  },
  {
   "cell_type": "markdown",
   "metadata": {},
   "source": [
    "<br> <br>\n",
    "__Briefly describe your hypothesis explaining the differences observed between high and normal temp samples.__\n",
    "<br>\n",
    "My hypothesis is that the temperature rise changes the environmental conditions giving survival advantage to Aquifex aeolicus which, unlike most organisms, grows well at high temperature and small oxygen concentrations. Given that this bacteria has a chemoautotrophic metabolism, probably while the temperature is high and it is growing in optimal conditions, it is also fixating nutrients. For that reason, when the temperature comes back to normal, the high concentration of nutrients favors other bacteria that could not grow well in high temperature, and now have a greater abundance. On the other hand, _Aquifex_ is no longer under optimal conditions for growth, and its abundance is reduced so much that we do not even find it in our metagenomic samples (though it probably exists at very low concentration). "
   ]
  },
  {
   "cell_type": "code",
   "execution_count": null,
   "metadata": {},
   "outputs": [],
   "source": []
  }
 ],
 "metadata": {
  "kernelspec": {
   "display_name": "Bash",
   "language": "bash",
   "name": "bash"
  },
  "language_info": {
   "codemirror_mode": "shell",
   "file_extension": ".sh",
   "mimetype": "text/x-sh",
   "name": "bash"
  }
 },
 "nbformat": 4,
 "nbformat_minor": 2
}
