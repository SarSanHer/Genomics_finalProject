{
 "cells": [
  {
   "cell_type": "markdown",
   "metadata": {},
   "source": [
    "# Metagenomics analysis\n",
    "\n",
    "As a first step, you decide to run shotgun metagenomic sequencing of the prokaryotic microbiome in two of kind of samples: 1) one taken during the high temperature episodes, and 2) right after the episodes, when the temperature is back to normal and there is a bloom of algae. \n",
    "\n",
    "After months of waiting, the sequencing results from your two metagenomic samples just arrived! The raw read files (reverse and forward) were produced by Illumina pair-end sequencing and are located in your computing server: \n",
    "\n",
    "1. Forward and reverse reads from the high temperature sample\n",
    "\n",
    ">/home/2019_2020/data/metagenomics/hotspring-hightemp.1.fq.gz <br>\n",
    "/home/2019_2020/data/metagenomics/hotspring-hightemp.2.fq.gz  \n",
    "  \n",
    "2. Forward and reverse reads from the normal temperature sample  \n",
    "\n",
    ">/home/2019_2020/data/metagenomics/hotspring-normaltemp.1.fq.gz <br>\n",
    "/home/2019_2020/data/metagenomics/hotspring-normaltemp.2.fq.gz\n"
   ]
  },
  {
   "cell_type": "markdown",
   "metadata": {},
   "source": [
    "### 1. Generating taxonomic profiles\n",
    "<font color='MidnightBlue'>\n",
    "    In the metagenomic samples we probably have sequences from many different genes and species. If we want to find out which one is the most abundant organisms in the sample, we have to do sample's profiling, which can be done by taxonomy or gene function. Probably looking into the function would be interesting to figure out why the outburst of life after the episodes of high temperature in the volcano. However, since we want to identify organisms, a taxonomic profiling looks like a better approach for now.\n",
    "\n",
    "We performe an analysis of the taxonomic profiles using the tool mOTUs (ref: https://motu-tool.org/tutorial.html) <br>\n",
    "The reference for the results analysis: https://github.com/motu-tool/mOTUs_v2/wiki/Explain-the-resulting-profile"
   ]
  },
  {
   "cell_type": "code",
   "execution_count": 1,
   "metadata": {},
   "outputs": [
    {
     "name": "stdout",
     "output_type": "stream",
     "text": [
      "\u001b[0m\u001b[38;5;9mhotspring-hightemp.1.fq.gz\u001b[0m  \u001b[38;5;9mhotspring-normaltemp.1.fq.gz\u001b[0m\n",
      "\u001b[38;5;9mhotspring-hightemp.2.fq.gz\u001b[0m  \u001b[38;5;9mhotspring-normaltemp.2.fq.gz\u001b[0m\n"
     ]
    }
   ],
   "source": [
    "# first we go to the directory with the files\n",
    "cd /home/2019_2020/data/metagenomics\n",
    "ls"
   ]
  },
  {
   "cell_type": "code",
   "execution_count": 2,
   "metadata": {},
   "outputs": [],
   "source": [
    "# high temperature samples\n",
    "motus profile -f hotspring-hightemp.1.fq.gz -r hotspring-hightemp.2.fq.gz -o /home/2019_2020/s.sanchez-heredero/Metagenomics_outputs/hightemp.motus -n hightemp"
   ]
  },
  {
   "cell_type": "code",
   "execution_count": 3,
   "metadata": {},
   "outputs": [],
   "source": [
    "# normal temperature samples\n",
    "motus profile -f hotspring-normaltemp.1.fq.gz -r hotspring-normaltemp.2.fq.gz -o /home/2019_2020/s.sanchez-heredero/Metagenomics_outputs/normaltemp.motus -n normaltemp"
   ]
  },
  {
   "cell_type": "code",
   "execution_count": 4,
   "metadata": {},
   "outputs": [
    {
     "name": "stdout",
     "output_type": "stream",
     "text": [
      "hightemp.motus  normaltemp.motus\n"
     ]
    }
   ],
   "source": [
    "cd /home/2019_2020/s.sanchez-heredero/Metagenomics_outputs\n",
    "ls"
   ]
  },
  {
   "cell_type": "code",
   "execution_count": 5,
   "metadata": {},
   "outputs": [
    {
     "name": "stdout",
     "output_type": "stream",
     "text": [
      "Aquifex aeolicus [ref_mOTU_v25_10705]\t0.6189655514\n",
      "Pelagibacteraceae species incertae sedis [meta_mOTU_v25_13988]\t0.0907761851\n",
      "-1\t0.0721252510\n",
      "Pelagibacteraceae species incertae sedis [meta_mOTU_v25_13493]\t0.0664534531\n",
      "Porticoccaceae species incertae sedis [meta_mOTU_v25_13235]\t0.0193465739\n",
      "sort: write failed: standard output: Broken pipe\n",
      "sort: write error\n"
     ]
    }
   ],
   "source": [
    "# I remove the header from the file\n",
    "tail -n+4  hightemp.motus | sort -t$'\\t' -k2 -nr | head -n 5"
   ]
  },
  {
   "cell_type": "code",
   "execution_count": 9,
   "metadata": {},
   "outputs": [
    {
     "name": "stdout",
     "output_type": "stream",
     "text": [
      "Pelagibacteraceae species incertae sedis [meta_mOTU_v25_13988]\t0.2385013523\n",
      "-1\t0.1892140031\n",
      "Pelagibacteraceae species incertae sedis [meta_mOTU_v25_13493]\t0.1743434863\n",
      "Porticoccaceae species incertae sedis [meta_mOTU_v25_13235]\t0.0507562117\n",
      "Candidatus Aquiluna sp. IMCC13023 [ref_mOTU_v25_06613]\t0.0484321303\n",
      "sort: write failed: standard output: Broken pipe\n",
      "sort: write error\n"
     ]
    }
   ],
   "source": [
    "# I remove the header from the file\n",
    "tail -n+4 normaltemp.motus | sort -t$'\\t' -k2 -nr | head -n 5"
   ]
  }
 ],
 "metadata": {
  "kernelspec": {
   "display_name": "Bash",
   "language": "bash",
   "name": "bash"
  },
  "language_info": {
   "codemirror_mode": "shell",
   "file_extension": ".sh",
   "mimetype": "text/x-sh",
   "name": "bash"
  }
 },
 "nbformat": 4,
 "nbformat_minor": 2
}
