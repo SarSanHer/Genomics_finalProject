{
 "cells": [
  {
   "cell_type": "markdown",
   "metadata": {},
   "source": [
    "# Phylogenetic analysis: part II\n",
    "\n",
    "Given that the phylogenetic trees will be visualized using ete3, a Python tool, I needed to create a separate Python Jupyter notebook.\n",
    "In this notebook I will:\n",
    "1. Visualize the result (suggested tools: etetoolkit.org/treeview, itol.embl.de, `ete3`)\n",
    "2. Using the additional info file located at `additional_seq_info.tsv`, extract functional and taxonomic information for each homolog in the trees, and visualize it in the tree for better interpretation. \n",
    "3. Answer the questions\n"
   ]
  },
  {
   "cell_type": "markdown",
   "metadata": {},
   "source": [
    "### Program for the two Unk trees"
   ]
  },
  {
   "cell_type": "code",
   "execution_count": null,
   "metadata": {},
   "outputs": [],
   "source": [
    "from ete3 import PhyloTree\n",
    "from ete3 import Tree\n",
    "\n",
    "tree = Tree('/home/2019_2020/s.sanchez-heredero/phylo/NP_Unk01.blast_homologs.alg.treefile')\n",
    "print(tree)\n",
    "\n",
    "# my additional info is in additional_seq_info.tsv\n",
    "seqinfo={}\n",
    "for line in open('/home/2019_2020/data/phylo/additional_seq_info.tsv').readlines():\n",
    "        seqid, genename, spname, lineage, gene, funct = line.replace(\"\\n\",'').replace(\" \",'_').split('\\t')\n",
    "        seqinfo[seqid]=[genename, spname, lineage, funct]\n",
    "print(seqinfo)\n",
    "\n",
    "# Reassign leaf values\n",
    "for leafnode in tree:\n",
    "    genename, spname, lineage, funct = seqinfo[leafnode.name]\n",
    "    leafnode.name = \"%s %s %s %s\" %(genename, spname, lineage, funct)\n",
    "        \n",
    "#Show tree\n",
    "tree.show()"
   ]
  },
  {
   "cell_type": "markdown",
   "metadata": {},
   "source": [
    "<br><br>\n",
    "1. What is the closest ortholog from a phylogenetic point of view? From what species? <br>\n",
    "<font color='MidnightBlue'>__NP_Unk01__. The closest ortholog  is the 4Fe-4S iron sulfur cluster binding proteins from NifH/frxC family  and belonging to the Arquea species Methanosarcina acetivorans.<br>\n",
    "__NP_Unk02__. The closest ortholog is norR, a PFAM sigma-54 factor interaction domain-containing protein from Aquifex aeolicus.\n"
   ]
  },
  {
   "cell_type": "markdown",
   "metadata": {},
   "source": [
    "<br><br>\n",
    "2. Do orthology assignment support your previous functional annotations?  (you might need to look up the functional annotation (i.e. gene names) of close orthologs) <br>\n",
    "<font color='MidnightBlue'>__NP_Unk01__. This orthology assignment does support my previous functional annotation. Firstly, the sequence belongs to a metaFor this gene the homology search had given not great results and two protein functions could have fitted this sequence. Now, with the orthology analysis it seems like the right function is nitrogen binding.\n",
    "<br>\n",
    "__NP_Unk02__. According to my prediction, this protein was a σ-54 dependent transcriptional regulator, and its closest ortholog is protein domain that interacts with σ-54, so I think the prediction was quite accurate.\n"
   ]
  },
  {
   "cell_type": "markdown",
   "metadata": {},
   "source": [
    "<br><br>\n",
    "3. Are all genes present in the reference proteome of the same species? Why not? Do they all over expressed genes share the same evolutionary history? <br>\n",
    "<font color='MidnightBlue'>No, in the reference proteome we have genes from many different species because in order to do a phylogenetic tree and infer orthologs you need to have sequences from different species to which you can compare you problem sequences. \n",
    "Not all the over expressed genes share the same evolutionary history. Unk01 seems to be closer to methanogenic Archea while Unk02 is closer to other bacteria. It is posible that Unk01 is the result of horizontal gene transfer and that is why it seems to have such a different origin."
   ]
  }
 ],
 "metadata": {
  "kernelspec": {
   "display_name": "Python 3",
   "language": "python",
   "name": "python3"
  },
  "language_info": {
   "codemirror_mode": {
    "name": "ipython",
    "version": 3
   },
   "file_extension": ".py",
   "mimetype": "text/x-python",
   "name": "python",
   "nbconvert_exporter": "python",
   "pygments_lexer": "ipython3",
   "version": "3.7.0"
  }
 },
 "nbformat": 4,
 "nbformat_minor": 2
}
