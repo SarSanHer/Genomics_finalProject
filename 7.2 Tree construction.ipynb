{
 "cells": [
  {
   "cell_type": "markdown",
   "metadata": {},
   "source": [
    "# Phylogenetic analysis: part II\n",
    "\n",
    "Given that the phylogenetic trees will be visualized using ete3, a Python tool, I needed to create a separate Python Jupyter notebook.\n",
    "In this notebook I will:\n",
    "1. Visualize the result (suggested tools: etetoolkit.org/treeview, itol.embl.de, `ete3`)\n",
    "2. Using the additional info file located at `additional_seq_info.tsv`, extract functional and taxonomic information for each homolog in the trees, and visualize it in the tree for better interpretation. \n",
    "3. Answer the questions\n"
   ]
  },
  {
   "cell_type": "code",
   "execution_count": null,
   "metadata": {},
   "outputs": [],
   "source": []
  },
  {
   "cell_type": "code",
   "execution_count": 4,
   "metadata": {},
   "outputs": [
    {
     "ename": "SyntaxError",
     "evalue": "invalid syntax (<ipython-input-4-639309406051>, line 1)",
     "output_type": "error",
     "traceback": [
      "\u001b[0;36m  File \u001b[0;32m\"<ipython-input-4-639309406051>\"\u001b[0;36m, line \u001b[0;32m1\u001b[0m\n\u001b[0;31m    from '/Library/Frameworks/Python.framework/Versions/2.7/bin/ete3' import PhyloTree\u001b[0m\n\u001b[0m                                                                    ^\u001b[0m\n\u001b[0;31mSyntaxError\u001b[0m\u001b[0;31m:\u001b[0m invalid syntax\n"
     ]
    }
   ],
   "source": [
    "from ete3 import PhyloTree\n",
    "from ete3 import Tree"
   ]
  },
  {
   "cell_type": "markdown",
   "metadata": {},
   "source": [
    "### NP_213724.1"
   ]
  },
  {
   "cell_type": "code",
   "execution_count": 6,
   "metadata": {},
   "outputs": [
    {
     "name": "stdout",
     "output_type": "stream",
     "text": [
      "\n",
      "   /-251221.CHLL_GLOVI\n",
      "  |\n",
      "  |                              /-243231.Q749C2_GEOSL\n",
      "  |                           /-|\n",
      "  |                        /-|   \\-224911.NIFH_BRADU\n",
      "  |                       |  |\n",
      "  |                     /-|   \\-289376.B5YH18_THEYD\n",
      "  |                    |  |\n",
      "  |                  /-|   \\-188937.Q8TH41_METAC\n",
      "  |                 |  |\n",
      "  |               /-|   \\-188937.Q8TJ93_METAC\n",
      "  |              |  |\n",
      "  |            /-|   \\-188937.CFBC_METAC\n",
      "  |           |  |\n",
      "  |           |   \\-188937.Q8TQB5_METAC\n",
      "  |           |\n",
      "  |           |         /-289376.B5YH15_THEYD\n",
      "  |           |        |\n",
      "  |           |        |         /-289376.B5YH17_THEYD\n",
      "  |           |      /-|      /-|\n",
      "  |         /-|     |  |   /-|   \\-188937.Q8TJ90_METAC\n",
      "  |        |  |     |  |  |  |\n",
      "--|        |  |     |   \\-|   \\-188937.Q8TRG4_METAC\n",
      "  |        |  |     |     |\n",
      "  |        |  |   /-|      \\-188937.Q8TJ88_METAC\n",
      "  |        |  |  |  |\n",
      "  |        |  |  |  |      /-188937.Q8TP83_METAC\n",
      "  |        |  |  |  |   /-|\n",
      "  |        |  |  |  |  |   \\-188937.Q8TRG0_METAC\n",
      "  |      /-|   \\-|   \\-|\n",
      "  |     |  |     |     |   /-188937.Q8TQB7_METAC\n",
      "  |     |  |     |      \\-|\n",
      "  |     |  |     |         \\-188937.Q8TRG1_METAC\n",
      "  |     |  |     |\n",
      "  |   /-|  |     |   /-188937.Q8TP84_METAC\n",
      "  |  |  |  |      \\-|\n",
      "  |  |  |  |         \\-NP_Unk01\n",
      "  |  |  |  |\n",
      "  |--|  |   \\-190304.Q8RGJ0_FUSNN\n",
      "  |  |  |\n",
      "  |  |   \\-324602.A9WDR1_CHLAA\n",
      "  |  |\n",
      "  |   \\-324602.BCHL_CHLAA\n",
      "  |\n",
      "   \\-1111708.CHLL_SYNY3\n"
     ]
    }
   ],
   "source": [
    "tree = Tree('/home/2019_2020/s.sanchez-heredero/phylo/NP_Unk01.blast_homologs.alg.treefile')\n",
    "print(tree)"
   ]
  },
  {
   "cell_type": "code",
   "execution_count": 7,
   "metadata": {},
   "outputs": [
    {
     "name": "stdout",
     "output_type": "stream",
     "text": [
      "{'#seqname': ['geneName', 'sp_name', 'lineage', 'functional_description'], '243231.Q74EJ9_GEOSL': ['N/A', 'Geobacter_sulfurreducens', 'Bacteria_Proteobacteria', 'Domains_REC,_sigma54_interaction,_HTH8'], '289376.B5YFY0_THEYD': ['ntrX', 'Thermodesulfovibrio_yellowstonii', 'Bacteria_Nitrospirae', 'Bacterial_regulatory_protein,_Fis_family'], '224324.O66551_AQUAE': ['ntrX', 'Aquifex_aeolicus', 'Bacteria_Aquificae', 'two_component,_sigma54_specific,_transcriptional_regulator,_Fis_family'], '190304.Q8RGJ0_FUSNN': ['N/A', 'Fusobacterium_nucleatum', 'Bacteria_Fusobacteria', '4Fe-4S_iron_sulfur_cluster_binding_proteins,_NifH/frxC_family'], '1111708.CHLL_SYNY3': ['chlL', 'Synechocystis_sp.', 'Bacteria_Terrabacteria_group', 'Component_of_the_dark-operative_protochlorophyllide_reductase_(DPOR)_that_uses_Mg-ATP_and_reduced_ferredoxin_to_reduce_ring_D_of_protochlorophyllide_(Pchlide)_to_form_chlorophyllide_a_(Chlide)._This_reaction_is_light-independent._The_L_component_serves_as_a_unique_electron_donor_to_the_NB-component_of_the_complex,_and_binds_Mg-ATP'], '224324.O67661_AQUAE': ['norR', 'Aquifex_aeolicus', 'Bacteria_Aquificae', 'transcription_factor_binding'], '324602.A9WDR1_CHLAA': ['bchX', 'Chloroflexus_aurantiacus', 'Bacteria_Terrabacteria_group', 'TIGRFAM_chlorophyllide_reductase_iron_protein_subunit_X'], '243231.Q749C2_GEOSL': ['nifH', 'Geobacter_sulfurreducens', 'Bacteria_Proteobacteria', 'The_key_enzymatic_reactions_in_nitrogen_fixation_are_catalyzed_by_the_nitrogenase_complex,_which_has_2_components_the_iron_protein_and_the_molybdenum-iron_protein'], '243231.Q74F33_GEOSL': ['N/A', 'Geobacter_sulfurreducens', 'Bacteria_Proteobacteria', 'two_component,_sigma54_specific,_transcriptional_regulator,_Fis_family'], '208964.Q9I133_PSEAE': ['tyrR', 'Pseudomonas_aeruginosa', 'Bacteria_Proteobacteria', 'Sigma-54_interaction_domain'], '289376.B5YH04_THEYD': ['norR', 'Thermodesulfovibrio_yellowstonii', 'Bacteria_Nitrospirae', 'GAF_domain'], '243231.Q74BT6_GEOSL': ['atoC', 'Geobacter_sulfurreducens', 'Bacteria_Proteobacteria', 'Domains_REC,_sigma54_interaction,_HTH8'], '289376.B5YH15_THEYD': ['nifE', 'Thermodesulfovibrio_yellowstonii', 'Bacteria_Nitrospirae', 'Nitrogenase_component_1_type_Oxidoreductase'], '208964.Q9I572_PSEAE': ['tyrR', 'Pseudomonas_aeruginosa', 'Bacteria_Proteobacteria', 'ACT_domain'], '289376.B5YI45_THEYD': ['atoC', 'Thermodesulfovibrio_yellowstonii', 'Bacteria_Nitrospirae', 'Bacterial_regulatory_protein,_Fis_family'], '243231.Q74A66_GEOSL': ['N/A', 'Geobacter_sulfurreducens', 'Bacteria_Proteobacteria', 'response_regulator'], '208964.Q9HV73_PSEAE': ['cbrB', 'Pseudomonas_aeruginosa', 'Bacteria_Proteobacteria', 'Sigma-54_interaction_domain'], '224308.YQIR_BACSU': ['bkdR', 'Bacillus_subtilis', 'Bacteria_Terrabacteria_group', 'Transcriptional_regulator'], '243090.Q7ULD5_RHOBA': ['nifA', 'Rhodopirellula_baltica', 'Bacteria_PVC_group', 'Domain_present_in_phytochromes_and_cGMP-specific_phosphodiesterases.'], '190304.Q8RI07_FUSNN': ['N/A', 'Fusobacterium_nucleatum', 'Bacteria_Fusobacteria', 'Bacterial_regulatory_protein,_Fis_family'], '324602.A9WGV4_CHLAA': ['dhaR', 'Chloroflexus_aurantiacus', 'Bacteria_Terrabacteria_group', 'PFAM_sigma-54_factor_interaction_domain-containing_protein'], '224911.Q89NV3_BRADU': ['N/A', 'Bradyrhizobium_diazoefficiens', 'Bacteria_Proteobacteria', 'Bacterial_regulatory_protein,_Fis_family'], '208964.Q9HWN4_PSEAE': ['acoR', 'Pseudomonas_aeruginosa', 'Bacteria_Proteobacteria', 'Bacterial_regulatory_protein,_Fis_family'], '251221.CHLL_GLOVI': ['chlL', 'Gloeobacter_violaceus', 'Bacteria_Terrabacteria_group', 'Component_of_the_dark-operative_protochlorophyllide_reductase_(DPOR)_that_uses_Mg-ATP_and_reduced_ferredoxin_to_reduce_ring_D_of_protochlorophyllide_(Pchlide)_to_form_chlorophyllide_a_(Chlide)._This_reaction_is_light-independent._The_L_component_serves_as_a_unique_electron_donor_to_the_NB-component_of_the_complex,_and_binds_Mg-ATP'], '251221.Q7NM47_GLOVI': ['pspF', 'Gloeobacter_violaceus', 'Bacteria_Terrabacteria_group', 'Transcriptional_regulators_containing_an_AAA-type_ATPase_domain_and_a_DNA-binding_domain'], '224308.YPLP_BACSU': ['pspF', 'Bacillus_subtilis', 'Bacteria_Terrabacteria_group', 'Transcriptional_regulator'], '243090.Q7UJV2_RHOBA': ['N/A', 'Rhodopirellula_baltica', 'Bacteria_PVC_group', 'COG2204_Response_regulator_containing_CheY-like_receiver,_AAA-type_ATPase,_and_DNA-binding_domains'], '83333.TYRR_ECOLI': ['tyrR', 'Escherichia_coli', 'Bacteria_Proteobacteria', 'Involved_in_transcriptional_regulation_of_aromatic_amino_acid_biosynthesis_and_transport._Modulates_the_expression_of_at_least_8_unlinked_operons._Seven_of_these_operons_are_regulated_in_response_to_changes_in_the_concentration_of_the_three_aromatic_amino_acids_(phenylalanine,_tyrosine_and_tryptophan)._These_amino_acids_are_suggested_to_act_as_co-effectors_which_bind_to_the_TyrR_protein_to_form_an_active_regulatory_protein._In_most_cases_TyrR_causes_negative_regulation,_but_positive_effects_on_the_tyrP_gene_have_been_observed_at_high_phenylalanine_concentrations'], 'NP_213111.1': ['ntrX', 'N/A', 'N/A', 'two_component,_sigma54_specific,_transcriptional_regulator,_Fis_family'], '243231.Q747A4_GEOSL': ['N/A', 'Geobacter_sulfurreducens', 'Bacteria_Proteobacteria', 'Domains_FehydlgC,_FeS,_sigma54_interaction,_HTH8'], '208964.G3XCV0_PSEAE': ['fleQ', 'Pseudomonas_aeruginosa', 'Bacteria_Proteobacteria', 'Flagellar_regulatory_protein_FleQ'], '224911.Q89IA4_BRADU': ['N/A', 'Bradyrhizobium_diazoefficiens', 'Bacteria_Proteobacteria', 'Sigma-54_interaction_domain'], '83333.NORR_ECOLI': ['norR', 'Escherichia_coli', 'Bacteria_Proteobacteria', 'Required_for_the_expression_of_anaerobic_nitric_oxide_(NO)_reductase,_acts_as_a_transcriptional_activator_for_at_least_the_norVW_operon._Activation_also_requires_sigma-54'], '289376.B5YK68_THEYD': ['VP0514', 'Thermodesulfovibrio_yellowstonii', 'Bacteria_Nitrospirae', 'phosphorelay_signal_transduction_system'], '188937.Q8TQB5_METAC': ['nifH', 'Methanosarcina_acetivorans', 'Archaea_Euryarchaeota', 'The_key_enzymatic_reactions_in_nitrogen_fixation_are_catalyzed_by_the_nitrogenase_complex,_which_has_2_components_the_iron_protein_and_the_molybdenum-iron_protein'], '289376.B5YKG2_THEYD': ['N/A', 'Thermodesulfovibrio_yellowstonii', 'Bacteria_Nitrospirae', 'phosphorelay_signal_transduction_system'], '224308.ROCR_BACSU': ['rocR', 'Bacillus_subtilis', 'Bacteria_Terrabacteria_group', 'COG3829_Transcriptional_regulator_containing_PAS,_AAA-type_ATPase,_and_DNA-binding_domains'], '208964.PILR_PSEAE': ['pilR', 'Pseudomonas_aeruginosa', 'Bacteria_Proteobacteria', 'Bacterial_regulatory_protein,_Fis_family'], '188937.Q8TRG1_METAC': ['N/A', 'Methanosarcina_acetivorans', 'Archaea_Euryarchaeota', 'Nitrogenase_component_1_type_Oxidoreductase'], '208964.Q9HU59_PSEAE': ['glnG', 'Pseudomonas_aeruginosa', 'Bacteria_Proteobacteria', 'nitrogen_regulation_protein'], '243090.Q7UNH5_RHOBA': ['N/A', 'Rhodopirellula_baltica', 'Bacteria_PVC_group', 'CheY-like_receiver_AAA-type_ATPase_and_DNA-binding_domains'], '83333.HYFR_ECOLI': ['fhlA', 'Escherichia_coli', 'Bacteria_Proteobacteria', 'Formate_hydrogen-lyase_transcriptional_activator'], '243231.Q74G75_GEOSL': ['N/A', 'Geobacter_sulfurreducens', 'Bacteria_Proteobacteria', 'two_component,_sigma54_specific,_transcriptional_regulator,_Fis_family'], '243231.Q74EF9_GEOSL': ['glnG', 'Geobacter_sulfurreducens', 'Bacteria_Proteobacteria', 'response_regulator'], '83333.RTCR_ECOLI': ['rtcR', 'Escherichia_coli', 'Bacteria_Proteobacteria', 'Transcriptional_regulatory_protein_RtcR'], '189518.Q8F3K2_LEPIN': ['ntrX', 'Leptospira_interrogans', 'Bacteria_Spirochaetes', 'two_component,_sigma54_specific,_transcriptional_regulator,_Fis_family'], '188937.Q8TJ93_METAC': ['nifH', 'Methanosarcina_acetivorans', 'Archaea_Euryarchaeota', 'The_key_enzymatic_reactions_in_nitrogen_fixation_are_catalyzed_by_the_nitrogenase_complex,_which_has_2_components_the_iron_protein_and_the_molybdenum-iron_protein'], '243231.Q74EC4_GEOSL': ['N/A', 'Geobacter_sulfurreducens', 'Bacteria_Proteobacteria', 'Sigma-54_factor_interaction_domain-containing_protein'], '289376.B5YHK7_THEYD': ['N/A', 'Thermodesulfovibrio_yellowstonii', 'Bacteria_Nitrospirae', 'Sigma-54_interaction_domain'], '188937.Q8TH41_METAC': ['nifH', 'Methanosarcina_acetivorans', 'Archaea_Euryarchaeota', 'The_key_enzymatic_reactions_in_nitrogen_fixation_are_catalyzed_by_the_nitrogenase_complex,_which_has_2_components_the_iron_protein_and_the_molybdenum-iron_protein'], '224911.Q89NZ8_BRADU': ['acxR', 'Bradyrhizobium_diazoefficiens', 'Bacteria_Proteobacteria', 'Sigma-54_interaction_domain'], '224911.Q89DZ6_BRADU': ['MA20_04760', 'Bradyrhizobium_diazoefficiens', 'Bacteria_Proteobacteria', 'Sigma-54_interaction_domain'], '243231.Q74GG5_GEOSL': ['zraR', 'Geobacter_sulfurreducens', 'Bacteria_Proteobacteria', 'Response_regulator_containing_CheY-like_receiver_AAA-type_ATPase_and_DNA-binding_domains'], '224308.ACOR_BACSU': ['acoR', 'Bacillus_subtilis', 'Bacteria_Terrabacteria_group', 'COG3284_Transcriptional_activator_of_acetoin_glycerol_metabolism'], '226186.Q8A9X5_BACTN': ['zraR', 'Bacteroides_thetaiotaomicron', 'Bacteria_FCB_group', 'COG2204_Response_regulator_containing_CheY-like_receiver_AAA-type_ATPase_and_DNA-binding_domains'], '208964.Q9I1C0_PSEAE': ['N/A', 'Pseudomonas_aeruginosa', 'Bacteria_Proteobacteria', 'Sigma-54_interaction_domain'], '224911.Q89EF5_BRADU': ['tacA', 'Bradyrhizobium_diazoefficiens', 'Bacteria_Proteobacteria', 'Sigma-54_interaction_domain'], '83333.PRPR_ECOLI': ['prpR', 'Escherichia_coli', 'Bacteria_Proteobacteria', 'propionate_catabolism_operon_regulatory_protein'], '243090.Q7UE04_RHOBA': ['N/A', 'Rhodopirellula_baltica', 'Bacteria_PVC_group', 'Response_regulator_with_CheY-like_receiver,_AAA-type_ATPase,_and_DNA-binding_domains'], '289376.B5YL21_THEYD': ['atoC', 'Thermodesulfovibrio_yellowstonii', 'Bacteria_Nitrospirae', 'phosphorelay_signal_transduction_system'], '243090.Q7USH9_RHOBA': ['N/A', 'Rhodopirellula_baltica', 'Bacteria_PVC_group', 'COG2204_Response_regulator_containing_CheY-like_receiver,_AAA-type_ATPase,_and_DNA-binding_domains'], '224324.O66501_AQUAE': ['bkdR', 'Aquifex_aeolicus', 'Bacteria_Aquificae', 'protein_histidine_kinase_activity'], '83333.GLRR_ECOLI': ['yfhA', 'Escherichia_coli', 'Bacteria_Proteobacteria', 'Member_of_the_two-component_regulatory_system_GlrR_GlrK_that_up-regulates_transcription_of_the_glmY_sRNA_when_cells_enter_the_stationary_growth_phase._Regulates_glmY_transcription_by_binding_to_three_conserved_sites_in_the_purL-glmY_intergenic_region'], '226186.Q8A514_BACTN': ['atoC', 'Bacteroides_thetaiotaomicron', 'Bacteria_FCB_group', 'acetoacetate_metabolism_regulatory_protein_AtoC'], '1111708.P74210_SYNY3': ['pspF', 'Synechocystis_sp.', 'Bacteria_Terrabacteria_group', 'Sigma-54_interaction_domain'], '243090.Q7UJE3_RHOBA': ['N/A', 'Rhodopirellula_baltica', 'Bacteria_PVC_group', 'Bacterial_regulatory_protein,_Fis_family'], '289376.B5YGW3_THEYD': ['cbrB', 'Thermodesulfovibrio_yellowstonii', 'Bacteria_Nitrospirae', 'Sigma-54_interaction_domain'], '243231.Q747P8_GEOSL': ['N/A', 'Geobacter_sulfurreducens', 'Bacteria_Proteobacteria', 'Domains_REC,_sigma54_interaction,_HTH8'], '243231.Q748T6_GEOSL': ['N/A', 'Geobacter_sulfurreducens', 'Bacteria_Proteobacteria', 'Domains_REC,_sigma54_interaction,_HTH8'], '289376.B5YHF3_THEYD': ['N/A', 'Thermodesulfovibrio_yellowstonii', 'Bacteria_Nitrospirae', 'phosphorelay_signal_transduction_system'], '208964.Q9HX06_PSEAE': ['acoR', 'Pseudomonas_aeruginosa', 'Bacteria_Proteobacteria', 'GAF_domain'], '243231.Q748H1_GEOSL': ['N/A', 'Geobacter_sulfurreducens', 'Bacteria_Proteobacteria', 'Sigma-54_interaction_domain'], '243231.Q74D24_GEOSL': ['pilR', 'Geobacter_sulfurreducens', 'Bacteria_Proteobacteria', 'response_regulator'], '188937.Q8TRG4_METAC': ['N/A', 'Methanosarcina_acetivorans', 'Archaea_Euryarchaeota', 'nitrogenase_component_I,_alpha_chain'], 'NP_213156.1': ['N/A', 'N/A', 'N/A', 'phosphorelay_signal_transduction_system'], '224911.Q89ER9_BRADU': ['flbD', 'Bradyrhizobium_diazoefficiens', 'Bacteria_Proteobacteria', 'Sigma-54_interaction_domain'], '272561.O84474_CHLTR': ['atoC', 'Chlamydia_trachomatis', 'Bacteria_PVC_group', 'Sigma-54_dependent_response_regulator'], '224911.Q89LQ5_BRADU': ['glnG', 'Bradyrhizobium_diazoefficiens', 'Bacteria_Proteobacteria', 'Sigma-54_interaction_domain'], '208964.Q9I409_PSEAE': ['IV02_08980', 'Pseudomonas_aeruginosa', 'Bacteria_Proteobacteria', 'Bacterial_regulatory_protein,_Fis_family'], '83333.ZRAR_ECOLI': ['zraR', 'Escherichia_coli', 'Bacteria_Proteobacteria', 'Member_of_the_two-component_regulatory_system_ZraS_ZraR._When_activated_by_ZraS_it_acts_in_conjunction_with_sigma-54_to_regulate_the_expression_of_zraP._Positively_autoregulates_the_expression_of_the_zraSR_operon'], '515635.B8E2Z6_DICTD': ['N/A', 'Dictyoglomus_turgidum', 'Bacteria_Dictyoglomi', 'PFAM_metal-dependent_phosphohydrolase,_HD_sub_domain'], '289376.B5YI42_THEYD': ['N/A', 'Thermodesulfovibrio_yellowstonii', 'Bacteria_Nitrospirae', 'Bacterial_regulatory_protein,_Fis_family'], '224911.Q89W03_BRADU': ['N/A', 'Bradyrhizobium_diazoefficiens', 'Bacteria_Proteobacteria', 'Sigma-54_interaction_domain'], '188937.Q8TJ88_METAC': ['nifE', 'Methanosarcina_acetivorans', 'Archaea_Euryarchaeota', 'Belongs_to_the_NifD_NifK_NifE_NifN_family'], '243231.Q74CM0_GEOSL': ['N/A', 'Geobacter_sulfurreducens', 'Bacteria_Proteobacteria', 'two_component,_sigma54_specific,_transcriptional_regulator,_Fis_family'], '243231.Q74BQ2_GEOSL': ['atoC', 'Geobacter_sulfurreducens', 'Bacteria_Proteobacteria', 'Bacterial_regulatory_protein,_Fis_family'], '208964.Q9I1C4_PSEAE': ['sfnR', 'Pseudomonas_aeruginosa', 'Bacteria_Proteobacteria', 'Sigma-54_interaction_domain'], '243274.Q9X1R6_THEMA': ['N/A', 'Thermotoga_maritima', 'Bacteria_Thermotogae', 'transcription_factor_binding'], '189518.Q8FA24_LEPIN': ['N/A', 'Leptospira_interrogans', 'Bacteria_Spirochaetes', 'COG2204_Response_regulator_containing_CheY-like_receiver,_AAA-type_ATPase,_and_DNA-binding_domains'], '324602.A9WCV4_CHLAA': ['N/A', 'Chloroflexus_aurantiacus', 'Bacteria_Terrabacteria_group', 'ATP-binding_region,_ATPase_domain_protein'], '122586.Q9K1K2_NEIMB': ['N/A', 'Neisseria_meningitidis', 'Bacteria_Proteobacteria', 'Response_regulator_receiver_domain_protein'], '83333.PSPF_ECOLI': ['pspF', 'Escherichia_coli', 'Bacteria_Proteobacteria', 'psp_operon_transcriptional_activator'], '224324.O66502_AQUAE': ['N/A', 'Aquifex_aeolicus', 'Bacteria_Aquificae', 'transcription_factor_binding'], '324602.A9WFK4_CHLAA': ['N/A', 'Chloroflexus_aurantiacus', 'Bacteria_Terrabacteria_group', 'histidine_kinase,_dimerisation_and_phosphoacceptor_region'], '243231.Q74EZ8_GEOSL': ['ntrX', 'Geobacter_sulfurreducens', 'Bacteria_Proteobacteria', 'response_regulator'], '243090.Q7ULP8_RHOBA': ['rtcR', 'Rhodopirellula_baltica', 'Bacteria_PVC_group', 'Regulator_of_RNA_terminal_phosphate_cyclase'], '188937.Q8TP84_METAC': ['N/A', 'Methanosarcina_acetivorans', 'Archaea_Euryarchaeota', '4Fe-4S_iron_sulfur_cluster_binding_proteins,_NifH/frxC_family'], '208964.Q9HX84_PSEAE': ['pspF', 'Pseudomonas_aeruginosa', 'Bacteria_Proteobacteria', 'Sigma-54_interaction_domain'], '243231.Q74A84_GEOSL': ['N/A', 'Geobacter_sulfurreducens', 'Bacteria_Proteobacteria', 'Sigma-54-dependent_sensor_transcriptional_response_regulator,_PAS_domain-containing'], '243090.Q7UEQ9_RHOBA': ['N/A', 'Rhodopirellula_baltica', 'Bacteria_PVC_group', 'Bacterial_regulatory_protein,_Fis_family'], '188937.Q8TJ90_METAC': ['nifD', 'Methanosarcina_acetivorans', 'Archaea_Euryarchaeota', 'TIGRFAM_nitrogenase_molybdenum-iron_protein_alpha_chain'], '289376.B5YH17_THEYD': ['nifD', 'Thermodesulfovibrio_yellowstonii', 'Bacteria_Nitrospirae', 'Nitrogenase_component_1_type_Oxidoreductase'], '289376.B5YH18_THEYD': ['nifH', 'Thermodesulfovibrio_yellowstonii', 'Bacteria_Nitrospirae', 'The_key_enzymatic_reactions_in_nitrogen_fixation_are_catalyzed_by_the_nitrogenase_complex,_which_has_2_components_the_iron_protein_and_the_molybdenum-iron_protein'], '208964.ALGB_PSEAE': ['algB', 'Pseudomonas_aeruginosa', 'Bacteria_Proteobacteria', 'Bacterial_regulatory_protein,_Fis_family'], 'NP_213061.1': ['N/A', 'N/A', 'N/A', 'Sigma-54_interaction_domain'], '122586.Q9JXT9_NEIMB': ['msrC', 'Neisseria_meningitidis', 'Bacteria_Proteobacteria', 'GAF_domain_protein'], '226186.Q8A4I1_BACTN': ['N/A', 'Bacteroides_thetaiotaomicron', 'Bacteria_FCB_group', 'acetoacetate_metabolism_regulatory_protein_AtoC_K07714'], '224911.NIFH_BRADU': ['nifH', 'Bradyrhizobium_diazoefficiens', 'Bacteria_Proteobacteria', 'The_key_enzymatic_reactions_in_nitrogen_fixation_are_catalyzed_by_the_nitrogenase_complex,_which_has_2_components_the_iron_protein_and_the_molybdenum-iron_protein'], '83333.FHLA_ECOLI': ['fhlA', 'Escherichia_coli', 'Bacteria_Proteobacteria', 'Formate_hydrogen-lyase_transcriptional_activator'], '226186.Q8A6R6_BACTN': ['msrC', 'Bacteroides_thetaiotaomicron', 'Bacteria_FCB_group', 'Psort_location_Cytoplasmic,_score_8.96'], '208964.DCTD_PSEAE': ['dctD', 'Pseudomonas_aeruginosa', 'Bacteria_Proteobacteria', 'Flagellar_regulatory_protein_FleQ'], '189518.Q8F9P5_LEPIN': ['norR', 'Leptospira_interrogans', 'Bacteria_Spirochaetes', 'GAF_domain'], '289376.B5YJY4_THEYD': ['N/A', 'Thermodesulfovibrio_yellowstonii', 'Bacteria_Nitrospirae', 'phosphorelay_signal_transduction_system'], '324602.A9WIJ1_CHLAA': ['N/A', 'Chloroflexus_aurantiacus', 'Bacteria_Terrabacteria_group', 'SMART_protein_phosphatase_2C_domain_protein'], '243231.Q74BK0_GEOSL': ['N/A', 'Geobacter_sulfurreducens', 'Bacteria_Proteobacteria', 'Bacterial_regulatory_protein,_Fis_family'], '243231.Q74E35_GEOSL': ['N/A', 'Geobacter_sulfurreducens', 'Bacteria_Proteobacteria', 'response_regulator'], '243231.Q74A10_GEOSL': ['N/A', 'Geobacter_sulfurreducens', 'Bacteria_Proteobacteria', 'Bacterial_regulatory_protein,_Fis_family'], '83333.ATOC_ECOLI': ['atoC', 'Escherichia_coli', 'Bacteria_Proteobacteria', 'Member_of_the_two-component_regulatory_system_AtoS_AtoC._In_the_presence_of_acetoacetate,_AtoS_AtoC_stimulates_the_expression_of_the_atoDAEB_operon,_leading_to_short_chain_fatty_acid_catabolism_and_activation_of_the_poly-(R)-3-hydroxybutyrate_(cPHB)_biosynthetic_pathway._Also_induces_the_operon_in_response_to_spermidine._Involved_in_the_regulation_of_motility_and_chemotaxis,_via_transcriptional_induction_of_the_flagellar_regulon._AtoC_acts_by_binding_directly_to_the_promoter_region_of_the_target_genes._In_addition_to_its_role_as_a_transcriptional_regulator,_functions_as_a_post-_translational_regulator_that_inhibits_polyamine_biosynthesis_via_regulation_of_ornithine_decarboxylase_(ODC)'], '243090.Q7UTY7_RHOBA': ['hsfA', 'Rhodopirellula_baltica', 'Bacteria_PVC_group', 'Acetoacetate_metabolism_regulatory_protein_ATOC'], '188937.Q8TP83_METAC': ['N/A', 'Methanosarcina_acetivorans', 'Archaea_Euryarchaeota', 'Nitrogenase_component_1_type_Oxidoreductase'], '289376.B5YG95_THEYD': ['N/A', 'Thermodesulfovibrio_yellowstonii', 'Bacteria_Nitrospirae', 'phosphorelay_signal_transduction_system'], '208964.Q9I2A4_PSEAE': ['N/A', 'Pseudomonas_aeruginosa', 'Bacteria_Proteobacteria', 'Bacterial_regulatory_protein,_Fis_family'], '83333.YGEV_ECOLI': ['ygeV', 'Escherichia_coli', 'Bacteria_Proteobacteria', 'transcriptional_regulator'], '188937.Q8TRG0_METAC': ['N/A', 'Methanosarcina_acetivorans', 'Archaea_Euryarchaeota', 'Nitrogenase_component_1_type_Oxidoreductase'], '224911.NIFA_BRADU': ['nifA', 'Bradyrhizobium_diazoefficiens', 'Bacteria_Proteobacteria', 'Transcriptional_regulator'], '224324.O66591_AQUAE': ['norR', 'Aquifex_aeolicus', 'Bacteria_Aquificae', 'PFAM_sigma-54_factor_interaction_domain-containing_protein'], '324602.BCHL_CHLAA': ['chlL', 'Chloroflexus_aurantiacus', 'Bacteria_Terrabacteria_group', 'Component_of_the_dark-operative_protochlorophyllide_reductase_(DPOR)_that_uses_Mg-ATP_and_reduced_ferredoxin_to_reduce_ring_D_of_protochlorophyllide_(Pchlide)_to_form_chlorophyllide_a_(Chlide)._This_reaction_is_light-independent._The_L_component_serves_as_a_unique_electron_donor_to_the_NB-component_of_the_complex,_and_binds_Mg-ATP'], '243231.Q74FY2_GEOSL': ['N/A', 'Geobacter_sulfurreducens', 'Bacteria_Proteobacteria', 'response_regulator'], '243231.Q74DJ6_GEOSL': ['N/A', 'Geobacter_sulfurreducens', 'Bacteria_Proteobacteria', 'response_regulator'], '224324.O66596_AQUAE': ['N/A', 'Aquifex_aeolicus', 'Bacteria_Aquificae', 'phosphorelay_signal_transduction_system'], 'NP_214227.1': ['norR', 'N/A', 'N/A', 'transcription_factor_binding'], '208964.Q9HVK3_PSEAE': ['rtcR', 'Pseudomonas_aeruginosa', 'Bacteria_Proteobacteria', 'Regulator_of_RNA_terminal_phosphate_cyclase'], '224308.LEVR_BACSU': ['levR', 'Bacillus_subtilis', 'Bacteria_Terrabacteria_group', 'PTS_system_fructose_IIA_component'], '243090.Q7UK84_RHOBA': ['N/A', 'Rhodopirellula_baltica', 'Bacteria_PVC_group', 'GAF_domain'], '208964.Q9I0H3_PSEAE': ['norR', 'Pseudomonas_aeruginosa', 'Bacteria_Proteobacteria', 'Domain_present_in_phytochromes_and_cGMP-specific_phosphodiesterases.'], '208964.Q9HT62_PSEAE': ['dctD', 'Pseudomonas_aeruginosa', 'Bacteria_Proteobacteria', 'Bacterial_regulatory_protein,_Fis_family'], '189518.Q8EXU5_LEPIN': ['rsbU', 'Leptospira_interrogans', 'Bacteria_Spirochaetes', 'COGs_COG2208_Serine_phosphatase_RsbU_regulator_of_sigma_subunit'], '224324.O67198_AQUAE': ['N/A', 'Aquifex_aeolicus', 'Bacteria_Aquificae', 'two_component,_sigma54_specific,_transcriptional_regulator,_Fis_family'], '243231.Q74FK9_GEOSL': ['N/A', 'Geobacter_sulfurreducens', 'Bacteria_Proteobacteria', 'response_regulator'], '208964.Q9I362_PSEAE': ['nifA', 'Pseudomonas_aeruginosa', 'Bacteria_Proteobacteria', 'Domain_present_in_phytochromes_and_cGMP-specific_phosphodiesterases.'], '243231.Q74EW8_GEOSL': ['N/A', 'Geobacter_sulfurreducens', 'Bacteria_Proteobacteria', 'Sigma-54_interaction_domain'], '289376.B5YJL4_THEYD': ['N/A', 'Thermodesulfovibrio_yellowstonii', 'Bacteria_Nitrospirae', 'HDOD_domain'], '243090.Q7UT14_RHOBA': ['N/A', 'Rhodopirellula_baltica', 'Bacteria_PVC_group', 'Ornithine_decarboxylase_inhibitor-putative_sigma54_transciptional_regulator'], '224911.H7C7V3_BRADU': ['N/A', 'Bradyrhizobium_diazoefficiens', 'Bacteria_Proteobacteria', 'Phosphoenolpyruvate_hydrolase-like'], '243231.Q746V0_GEOSL': ['N/A', 'Geobacter_sulfurreducens', 'Bacteria_Proteobacteria', 'response_regulator'], '289376.B5YK20_THEYD': ['nla28', 'Thermodesulfovibrio_yellowstonii', 'Bacteria_Nitrospirae', 'Sigma-54_interaction_domain'], '324602.A9WJE8_CHLAA': ['N/A', 'Chloroflexus_aurantiacus', 'Bacteria_Terrabacteria_group', 'histidine_kinase_A_domain_protein'], '226186.Q8ABU5_BACTN': ['N/A', 'Bacteroides_thetaiotaomicron', 'Bacteria_FCB_group', 'acetoacetate_metabolism_regulatory_protein_AtoC_K07714'], '224911.HOXA_BRADU': ['hoxA', 'Bradyrhizobium_diazoefficiens', 'Bacteria_Proteobacteria', 'Regulator'], '243231.Q74G88_GEOSL': ['stc', 'Geobacter_sulfurreducens', 'Bacteria_Proteobacteria', 'PFAM_sigma-54_factor_interaction_domain-containing_protein'], '226186.Q8A9F9_BACTN': ['N/A', 'Bacteroides_thetaiotaomicron', 'Bacteria_FCB_group', 'Sigma-54_interaction_domain_protein'], '188937.CFBC_METAC': ['nifH', 'Methanosarcina_acetivorans', 'Archaea_Euryarchaeota', '4Fe-4S_iron_sulfur_cluster_binding_proteins,_NifH/frxC_family'], 'NP_213762.1': ['N/A', 'N/A', 'N/A', 'two_component,_sigma54_specific,_transcriptional_regulator,_Fis_family'], '208964.Q9I2F9_PSEAE': ['zraR', 'Pseudomonas_aeruginosa', 'Bacteria_Proteobacteria', 'Bacterial_regulatory_protein,_Fis_family'], '190304.Q8RE11_FUSNN': ['N/A', 'Fusobacterium_nucleatum', 'Bacteria_Fusobacteria', 'Acetoacetate_metabolism_regulatory_protein_atoC'], '83333.DHAR_ECOLI': ['dhaR', 'Escherichia_coli', 'Bacteria_Proteobacteria', 'PTS-dependent_dihydroxyacetone_kinase_operon_regulatory_protein'], '208964.Q9I4E2_PSEAE': ['N/A', 'Pseudomonas_aeruginosa', 'Bacteria_Proteobacteria', 'Bacterial_regulatory_protein,_Fis_family'], '83333.NTRC_ECOLI': ['glnG', 'Escherichia_coli', 'Bacteria_Proteobacteria', 'Member_of_the_two-component_regulatory_system_NtrB_NtrC,_which_controls_expression_of_the_nitrogen-regulated_(ntr)_genes_in_response_to_nitrogen_limitation._Phosphorylated_NtrC_binds_directly_to_DNA_and_stimulates_the_formation_of_open_promoter-_sigma54-RNA_polymerase_complexes'], '243090.Q7UVW6_RHOBA': ['nla6', 'Rhodopirellula_baltica', 'Bacteria_PVC_group', 'COG2204_Response_regulator_containing_CheY-like_receiver,_AAA-type_ATPase,_and_DNA-binding_domains'], '243231.Q74DR5_GEOSL': ['N/A', 'Geobacter_sulfurreducens', 'Bacteria_Proteobacteria', 'response_regulator'], '243090.Q7UVC1_RHOBA': ['N/A', 'Rhodopirellula_baltica', 'Bacteria_PVC_group', 'COG2204_Response_regulator_containing_CheY-like_receiver,_AAA-type_ATPase,_and_DNA-binding_domains'], '243231.Q749I9_GEOSL': ['N/A', 'Geobacter_sulfurreducens', 'Bacteria_Proteobacteria', 'response_regulator'], '243231.Q74AB5_GEOSL': ['nifA', 'Geobacter_sulfurreducens', 'Bacteria_Proteobacteria', 'Sensor_sigma-54-dependent_transcriptional_regulator,_GAF_and_GAF_domain-containing'], '85962.O25408_HELPY': ['flgR', 'Helicobacter_pylori', 'Bacteria_Proteobacteria', 'COG2204_Response_regulator_containing_CheY-like_receiver,_AAA-type_ATPase,_and_DNA-binding_domains'], '226186.Q89ZK2_BACTN': ['nifA', 'Bacteroides_thetaiotaomicron', 'Bacteria_FCB_group', 'Sigma-54_interaction_domain_protein'], '188937.Q8TQB7_METAC': ['N/A', 'Methanosarcina_acetivorans', 'Archaea_Euryarchaeota', 'Nitrogenase_component_1_type_Oxidoreductase'], '208964.Q9I4N3_PSEAE': ['fleR', 'Pseudomonas_aeruginosa', 'Bacteria_Proteobacteria', 'Bacterial_regulatory_protein,_Fis_family'], '226186.Q8A166_BACTN': ['N/A', 'Bacteroides_thetaiotaomicron', 'Bacteria_FCB_group', 'COG2204_Response_regulator_containing_CheY-like_receiver_AAA-type_ATPase_and_DNA-binding_domains'], '224911.Q89LQ3_BRADU': ['ntrX', 'Bradyrhizobium_diazoefficiens', 'Bacteria_Proteobacteria', 'Sigma-54_interaction_domain'], '243090.Q7UJ61_RHOBA': ['N/A', 'Rhodopirellula_baltica', 'Bacteria_PVC_group', 'COG2204_Response_regulator_containing_CheY-like_receiver,_AAA-type_ATPase,_and_DNA-binding_domains'], '243090.Q7UF62_RHOBA': ['nla6', 'Rhodopirellula_baltica', 'Bacteria_PVC_group', 'response_regulator'], '100226.Q8CK65_STRCO': ['N/A', 'Streptomyces_coelicolor', 'Bacteria_Terrabacteria_group', 'transcriptional_regulator'], '226186.Q8A7J5_BACTN': ['N/A', 'Bacteroides_thetaiotaomicron', 'Bacteria_FCB_group', 'acetoacetate_metabolism_regulatory_protein_AtoC_K07714'], '226186.Q8A7Q5_BACTN': ['N/A', 'Bacteroides_thetaiotaomicron', 'Bacteria_FCB_group', 'COG2204_Response_regulator_containing_CheY-like_receiver_AAA-type_ATPase_and_DNA-binding_domains'], '243090.Q7U393_RHOBA': ['N/A', 'Rhodopirellula_baltica', 'Bacteria_PVC_group', 'Bacterial_regulatory_protein,_Fis_family']}\n"
     ]
    }
   ],
   "source": [
    "# my additional info is in additional_seq_info.tsv\n",
    "seqinfo={}\n",
    "for line in open('/home/2019_2020/data/phylo/additional_seq_info.tsv').readlines():\n",
    "        seqid, genename, spname, lineage, gene, funct = line.replace(\"\\n\",'').replace(\" \",'_').split('\\t')\n",
    "        seqinfo[seqid]=[genename, spname, lineage, funct]\n",
    "print(seqinfo)"
   ]
  },
  {
   "cell_type": "code",
   "execution_count": 8,
   "metadata": {},
   "outputs": [
    {
     "ename": "KeyError",
     "evalue": "'NP_Unk01'",
     "output_type": "error",
     "traceback": [
      "\u001b[0;31m---------------------------------------------------------------------------\u001b[0m",
      "\u001b[0;31mKeyError\u001b[0m                                  Traceback (most recent call last)",
      "\u001b[0;32m<ipython-input-8-5deb7933adb4>\u001b[0m in \u001b[0;36m<module>\u001b[0;34m\u001b[0m\n\u001b[1;32m      1\u001b[0m \u001b[0;32mfor\u001b[0m \u001b[0mleafnode\u001b[0m \u001b[0;32min\u001b[0m \u001b[0mtree\u001b[0m\u001b[0;34m:\u001b[0m\u001b[0;34m\u001b[0m\u001b[0m\n\u001b[0;32m----> 2\u001b[0;31m     \u001b[0mgenename\u001b[0m\u001b[0;34m,\u001b[0m \u001b[0mspname\u001b[0m\u001b[0;34m,\u001b[0m \u001b[0mlineage\u001b[0m\u001b[0;34m,\u001b[0m \u001b[0mfunct\u001b[0m \u001b[0;34m=\u001b[0m \u001b[0mseqinfo\u001b[0m\u001b[0;34m[\u001b[0m\u001b[0mleafnode\u001b[0m\u001b[0;34m.\u001b[0m\u001b[0mname\u001b[0m\u001b[0;34m]\u001b[0m\u001b[0;34m\u001b[0m\u001b[0m\n\u001b[0m\u001b[1;32m      3\u001b[0m     \u001b[0mleafnode\u001b[0m\u001b[0;34m.\u001b[0m\u001b[0mname\u001b[0m \u001b[0;34m=\u001b[0m \u001b[0;34m\"%s %s %s %s\"\u001b[0m \u001b[0;34m%\u001b[0m\u001b[0;34m(\u001b[0m\u001b[0mgenename\u001b[0m\u001b[0;34m,\u001b[0m \u001b[0mspname\u001b[0m\u001b[0;34m,\u001b[0m \u001b[0mlineage\u001b[0m\u001b[0;34m,\u001b[0m \u001b[0mfunct\u001b[0m\u001b[0;34m)\u001b[0m\u001b[0;34m\u001b[0m\u001b[0m\n\u001b[1;32m      4\u001b[0m \u001b[0;34m\u001b[0m\u001b[0m\n",
      "\u001b[0;31mKeyError\u001b[0m: 'NP_Unk01'"
     ]
    }
   ],
   "source": [
    "for leafnode in tree:\n",
    "    genename, spname, lineage, funct = seqinfo[leafnode.name]\n",
    "    leafnode.name = \"%s %s %s %s\" %(genename, spname, lineage, funct)\n",
    "        "
   ]
  },
  {
   "cell_type": "code",
   "execution_count": null,
   "metadata": {},
   "outputs": [],
   "source": [
    "tree.show()"
   ]
  },
  {
   "cell_type": "code",
   "execution_count": 10,
   "metadata": {},
   "outputs": [
    {
     "data": {
      "text/plain": [
       "True"
      ]
     },
     "execution_count": 10,
     "metadata": {},
     "output_type": "execute_result"
    }
   ],
   "source": []
  }
 ],
 "metadata": {
  "kernelspec": {
   "display_name": "Python 3",
   "language": "python",
   "name": "python3"
  },
  "language_info": {
   "codemirror_mode": {
    "name": "ipython",
    "version": 3
   },
   "file_extension": ".py",
   "mimetype": "text/x-python",
   "name": "python",
   "nbconvert_exporter": "python",
   "pygments_lexer": "ipython3",
   "version": "3.7.4"
  }
 },
 "nbformat": 4,
 "nbformat_minor": 2
}
