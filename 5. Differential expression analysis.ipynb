{
 "cells": [
  {
   "cell_type": "markdown",
   "metadata": {},
   "source": [
    "# Differential expression analysis (DEA)\n",
    "“Given that you have expression data for each sample, you can also compare the expression differences between the samples grown under normal and high-temperature conditions, which could provide some additional clue of important genes involved.”\n",
    "\n",
    "\n",
    "### 1. Read count\n",
    "For differential expression analysis (DEA) you need to start using the sorted bam files generated previously. First of all, you need to do a “read-count” using `htseq-count`. Some important parameters: you have to use `-i Name` and `-t gene`. (tip: you need to use a .gff file to count the reads). Once you have the four count files is necessary to merge all together and save it as `count.txt` file (tip: explore `join` command)."
   ]
  },
  {
   "cell_type": "code",
   "execution_count": 4,
   "metadata": {},
   "outputs": [],
   "source": [
    "cd"
   ]
  },
  {
   "cell_type": "code",
   "execution_count": 5,
   "metadata": {},
   "outputs": [
    {
     "name": "stdout",
     "output_type": "stream",
     "text": [
      "1498 GFF lines processed.\n",
      "100000 SAM alignment records processed.\n",
      "200000 SAM alignment records processed.\n",
      "291814 SAM alignments  processed.\n",
      "1498 GFF lines processed.\n",
      "100000 SAM alignment records processed.\n",
      "200000 SAM alignment records processed.\n",
      "289637 SAM alignments  processed.\n",
      "1498 GFF lines processed.\n",
      "100000 SAM alignment records processed.\n",
      "200000 SAM alignment records processed.\n",
      "290331 SAM alignments  processed.\n",
      "1498 GFF lines processed.\n",
      "100000 SAM alignment records processed.\n",
      "200000 SAM alignment records processed.\n",
      "290331 SAM alignments  processed.\n"
     ]
    }
   ],
   "source": [
    "htseq-count -i Name -t gene -f bam ./Genomics/hightemp_01_sorted.bam ./data/refs/genes.gff > ./DEA/hightemp_01.count\n",
    "htseq-count -i Name -t gene -f bam ./Genomics/hightemp_02_sorted.bam ./data/refs/genes.gff > ./DEA/hightemp_02.count\n",
    "htseq-count -i Name -t gene -f bam ./Genomics/normal_01_sorted.bam ./data/refs/genes.gff > ./DEA/normal_01.count\n",
    "htseq-count -i Name -t gene -f bam ./Genomics/normal_02_sorted.bam ./data/refs/genes.gff > ./DEA/normal_02.count"
   ]
  },
  {
   "cell_type": "code",
   "execution_count": 6,
   "metadata": {},
   "outputs": [
    {
     "name": "stdout",
     "output_type": "stream",
     "text": [
      "hightemp_01.count  hightemp_02.count  normal_01.count  normal_02.count\n"
     ]
    }
   ],
   "source": [
    "cd ./DEA\n",
    "ls"
   ]
  },
  {
   "cell_type": "code",
   "execution_count": 7,
   "metadata": {},
   "outputs": [
    {
     "name": "stdout",
     "output_type": "stream",
     "text": [
      "NP_212986.1\t223\n",
      "NP_212987.1\t4\n",
      "NP_212988.1\t38\n",
      "NP_212989.1\t83\n",
      "NP_212990.1\t92\n",
      "NP_212991.1\t27\n",
      "NP_212992.1\t106\n",
      "NP_212993.1\t64\n",
      "NP_212994.1\t34\n",
      "NP_212995.1\t41\n"
     ]
    }
   ],
   "source": [
    "head -n 10 hightemp_01.count"
   ]
  },
  {
   "cell_type": "markdown",
   "metadata": {},
   "source": [
    "#### 1.2 Join files\n",
    "I create a bash script as the following:\n",
    "\n",
    ">`#!/bin/bash\n",
    "join hightemp_01.count hightemp_02.count   | join - normal_01.count | join - normal_02.count  > pre_all_read_counts.tsv\n",
    "echo \"Samples highTemp_1 highTemp_2 Normal_1 Normal_2\" > header.txt\n",
    "cat header.txt pre_all_read_counts.tsv | sed  's/\"//g' > all_read_counts.tsv # s/X/Y/ replaces X by Y, g mean all occurrences should be replaced, not just the first one\n",
    "rm -f pre_all_read_counts.tsv header.txt\n",
    "head all_read_counts.tsv`"
   ]
  },
  {
   "cell_type": "code",
   "execution_count": null,
   "metadata": {},
   "outputs": [],
   "source": []
  }
 ],
 "metadata": {
  "kernelspec": {
   "display_name": "Bash",
   "language": "bash",
   "name": "bash"
  },
  "language_info": {
   "codemirror_mode": "shell",
   "file_extension": ".sh",
   "mimetype": "text/x-sh",
   "name": "bash"
  }
 },
 "nbformat": 4,
 "nbformat_minor": 2
}
