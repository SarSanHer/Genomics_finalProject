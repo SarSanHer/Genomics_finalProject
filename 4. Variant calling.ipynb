{
 "cells": [
  {
   "cell_type": "markdown",
   "metadata": {},
   "source": [
    "# Variant calling\n",
    "The next step is performing variant calling to compare the DNA in your samples with that of the reference genome. Maybe some mutation is responsible for the sudden proliferation of these organisms...<br><br>\n",
    "### 1. Merge files\n",
    "To perform variant calling you can use the mappings from all your samples. To do that, sort the mappings of each of your samples (tip: you should use `samtools sort` for that). Then, you can merge the sorted files into a single BAM file (tip: you should use `samtools merge` for that). Try to do all these steps so that the header information is present in the final merged BAM file (tip: check the parameters available in the help of the different `samtools` commands)"
   ]
  },
  {
   "cell_type": "code",
   "execution_count": 1,
   "metadata": {},
   "outputs": [],
   "source": [
    "cd\n",
    "cd ./Genomics"
   ]
  },
  {
   "cell_type": "code",
   "execution_count": 2,
   "metadata": {},
   "outputs": [],
   "source": [
    "# First we need to transform all my sam files to (unsorted) bam files \n",
    "samtools view -bS hightemp_01.sam > hightemp_01.bam\n",
    "samtools view -bS hightemp_02.sam > hightemp_02.bam\n",
    "samtools view -bS normal_01.sam > normal_01.bam\n",
    "samtools view -bS normal_02.sam > normal_02.bam\n",
    "\n",
    "# Now we can sort the BAM files\n",
    "samtools sort hightemp_01.bam > hightemp_01_sorted.bam\n",
    "samtools sort hightemp_02.bam > hightemp_02_sorted.bam\n",
    "samtools sort normal_01.bam > normal_01_sorted.bam\n",
    "samtools sort normal_01.bam > normal_02_sorted.bam\n",
    "\n",
    "# And now we can merge the files\n",
    "samtools merge -h hightemp_01.sam -h hightemp_02.sam hightemp.bam hightemp_01_sorted.bam hightemp_02_sorted.bam\n",
    "samtools merge -h normal_01.sam -h normal_02.sam normal.bam normal_01_sorted.bam normal_02_sorted.bam"
   ]
  },
  {
   "cell_type": "code",
   "execution_count": 15,
   "metadata": {},
   "outputs": [
    {
     "name": "stdout",
     "output_type": "stream",
     "text": [
      "hightemp.bam            hightemp_02.sam         normal_01.sam\n",
      "hightemp_01.bam         hightemp_02_sorted.bam  normal_01_sorted.bam\n",
      "hightemp_01.sam         mappingStats.txt        normal_02.bam\n",
      "hightemp_01_sorted.bam  normal.bam              normal_02.sam\n",
      "hightemp_02.bam         normal_01.bam           normal_02_sorted.bam\n"
     ]
    }
   ],
   "source": [
    "ls # check that files were created"
   ]
  },
  {
   "cell_type": "markdown",
   "metadata": {},
   "source": [
    "<br><br>\n",
    "### 2. Variant calling\n",
    "Finally, perform the variant calling using `bcftools mpileup` and `bcftools call`. Check the parameters used in the practice lessons and apply those.  (tip: remember that you can pipe commands in linux using “|”).\n"
   ]
  },
  {
   "cell_type": "code",
   "execution_count": 16,
   "metadata": {},
   "outputs": [
    {
     "name": "stdout",
     "output_type": "stream",
     "text": [
      "[E::fai_build_core] Different line length in sequence 'NC_000918.1'\n",
      "[faidx] Could not build fai index ./data/refs/genome.fna.fai\n"
     ]
    },
    {
     "ename": "",
     "evalue": "1",
     "output_type": "error",
     "traceback": []
    }
   ],
   "source": [
    "# First we need to index the reference genome again, but this time with samtools faidx\n",
    "cd\n",
    "samtools faidx ./data/refs/genome.fna"
   ]
  },
  {
   "cell_type": "code",
   "execution_count": 4,
   "metadata": {},
   "outputs": [
    {
     "name": "stdout",
     "output_type": "stream",
     "text": [
      "      1 >NC_000918.1 Aquifex aeolicus VF5 chromosome, complete genome\n",
      "  19391 80\n",
      "      1 1681\n"
     ]
    }
   ],
   "source": [
    "awk '/^>/ {print;next;} {print length($0);}' ./data/refs/genome.fna | uniq -c"
   ]
  },
  {
   "cell_type": "markdown",
   "metadata": {},
   "source": [
    "There is a problem with the length of the reads: most lines have a length of 80 and 1 has a length of 1681 characters. In order to build the genome index we need to fix this. It is likely that these lines are the last lines of the sequence, so we can fix the problem by changing the length of those lines manually. <br> <br>"
   ]
  },
  {
   "cell_type": "code",
   "execution_count": 22,
   "metadata": {},
   "outputs": [],
   "source": [
    "# After edditing, we run the same command\n",
    "samtools faidx ./Genomics/edited_genome.fna \n",
    "\n",
    "# Now we can use bcftools mpileup to transform the BAM file in VCF format\n",
    "bcftools mpileup -f edited_genome.fna hightemp.bam > hightemp.bcf\n",
    "bcftools mpileup -f edited_genome.fna normal.bam > normal.bcf\n",
    "\n",
    "# Finally, we  call the SNPs using bcftools call\n",
    "bcftools call -vc hightemp.bcf > final_hightemp.bcf \n",
    "bcftools call -vc normal.bcf > final_normal.bcf "
   ]
  },
  {
   "cell_type": "markdown",
   "metadata": {},
   "source": [
    "<br><br>\n",
    "### 3. Transform file\n",
    "Now we can look into the files created to answer the questions\n",
    "Transform, to a “tab” separated file, the BCF file you obtained, including the variant ID, its position, the reference allele, the alternative allele, the variant quality and the depth of coverage of the variant (tip: use `bcftools view calls.bcf | grep -v \"^#\" | cut -f 1,2,4,5,6,8 | sed 's#DP=\\([0-9][0-9]*\\).*#\\1#' > calls.tsv`. You could run the previous command line with and without the `sed` command to check what is its purpose).\n"
   ]
  },
  {
   "cell_type": "code",
   "execution_count": 39,
   "metadata": {
    "collapsed": true
   },
   "outputs": [
    {
     "name": "stdout",
     "output_type": "stream",
     "text": [
      "##fileformat=VCFv4.2\n",
      "##FILTER=<ID=PASS,Description=\"All filters passed\">\n",
      "##bcftoolsVersion=1.8+htslib-1.8\n",
      "##bcftoolsCommand=mpileup -f edited_genome.fna hightemp.bam\n",
      "##reference=file://edited_genome.fna\n",
      "##contig=<ID=NC_000918.1,length=1552961>\n",
      "##ALT=<ID=*,Description=\"Represents allele(s) other than observed.\">\n",
      "##INFO=<ID=INDEL,Number=0,Type=Flag,Description=\"Indicates that the variant is an INDEL.\">\n",
      "##INFO=<ID=IDV,Number=1,Type=Integer,Description=\"Maximum number of reads supporting an indel\">\n",
      "##INFO=<ID=IMF,Number=1,Type=Float,Description=\"Maximum fraction of reads supporting an indel\">\n",
      "##INFO=<ID=DP,Number=1,Type=Integer,Description=\"Raw read depth\">\n",
      "##INFO=<ID=VDB,Number=1,Type=Float,Description=\"Variant Distance Bias for filtering splice-site artefacts in RNA-seq data (bigger is better)\",Version=\"3\">\n",
      "##INFO=<ID=RPB,Number=1,Type=Float,Description=\"Mann-Whitney U test of Read Position Bias (bigger is better)\">\n",
      "##INFO=<ID=MQB,Number=1,Type=Float,Description=\"Mann-Whitney U test of Mapping Quality Bias (bigger is better)\">\n",
      "##INFO=<ID=BQB,Number=1,Type=Float,Description=\"Mann-Whitney U test of Base Quality Bias (bigger is better)\">\n",
      "##INFO=<ID=MQSB,Number=1,Type=Float,Description=\"Mann-Whitney U test of Mapping Quality vs Strand Bias (bigger is better)\">\n",
      "##INFO=<ID=SGB,Number=1,Type=Float,Description=\"Segregation based metric.\">\n",
      "##INFO=<ID=MQ0F,Number=1,Type=Float,Description=\"Fraction of MQ0 reads (smaller is better)\">\n",
      "##FORMAT=<ID=PL,Number=G,Type=Integer,Description=\"List of Phred-scaled genotype likelihoods\">\n",
      "##FORMAT=<ID=GT,Number=1,Type=String,Description=\"Genotype\">\n",
      "##INFO=<ID=AF1,Number=1,Type=Float,Description=\"Max-likelihood estimate of the first ALT allele frequency (assuming HWE)\">\n",
      "##INFO=<ID=AF2,Number=1,Type=Float,Description=\"Max-likelihood estimate of the first and second group ALT allele frequency (assuming HWE)\">\n",
      "##INFO=<ID=AC1,Number=1,Type=Float,Description=\"Max-likelihood estimate of the first ALT allele count (no HWE assumption)\">\n",
      "##INFO=<ID=MQ,Number=1,Type=Integer,Description=\"Root-mean-square mapping quality of covering reads\">\n",
      "##INFO=<ID=FQ,Number=1,Type=Float,Description=\"Phred probability of all samples being the same\">\n",
      "##INFO=<ID=PV4,Number=4,Type=Float,Description=\"P-values for strand bias, baseQ bias, mapQ bias and tail distance bias\">\n",
      "##INFO=<ID=G3,Number=3,Type=Float,Description=\"ML estimate of genotype frequencies\">\n",
      "##INFO=<ID=HWE,Number=1,Type=Float,Description=\"Chi^2 based HWE test P-value based on G3\">\n",
      "##INFO=<ID=DP4,Number=4,Type=Integer,Description=\"Number of high-quality ref-forward , ref-reverse, alt-forward and alt-reverse bases\">\n",
      "##bcftools_callVersion=1.8+htslib-1.8\n",
      "##bcftools_callCommand=call -vc hightemp.bcf; Date=Sat Jan  4 20:48:04 2020\n",
      "##bcftools_viewVersion=1.8+htslib-1.8\n",
      "##bcftools_viewCommand=view final_hightemp.bcf; Date=Sat Jan  4 20:48:19 2020\n",
      "#CHROM\tPOS\tID\tREF\tALT\tQUAL\tFILTER\tINFO\tFORMAT\thightemp.bam\n",
      "NC_000918.1\t7333\t.\tA\tG\t3.5427\t.\tDP=3;SGB=-0.379885;RPB=1;MQB=1;BQB=1;MQ0F=0;AF1=0.499801;AC1=1;DP4=2,0,1,0;MQ=42;FQ=5.4644;PV4=1,1,1,1\tGT:PL\t0/1:31,0,64\n",
      "NC_000918.1\t10214\t.\tC\tT\t14.176\t.\tDP=10;VDB=0.14;SGB=-0.453602;RPB=0.8125;MQB=0.625;BQB=0.875;MQ0F=0;AF1=0.49999;AC1=1;DP4=8,0,2,0;MQ=42;FQ=17.1004;PV4=1,1,0.142818,0.34377\tGT:PL\t0/1:44,0,154\n",
      "NC_000918.1\t36269\t.\tC\tG\t4.76875\t.\tDP=14;VDB=0.14;SGB=-0.453602;RPB=0.75;MQB=0.583333;BQB=1;MQ0F=0;AF1=0.499875;AC1=1;DP4=0,12,0,2;MQ=42;FQ=6.98503;PV4=1,1,0.069162,1\tGT:PL\t0/1:33,0,171\n",
      "NC_000918.1\t42761\t.\tC\tG\t3.5427\t.\tDP=3;SGB=-0.379885;RPB=1;MQB=1;BQB=1;MQ0F=0;AF1=0.499801;AC1=1;DP4=0,2,0,1;MQ=42;FQ=5.4644;PV4=1,1,1,0.20326\tGT:PL\t0/1:31,0,64\n",
      "NC_000918.1\t42764\t.\tA\tC\t3.0136\t.\tDP=3;SGB=-0.379885;RPB=1;MQB=1;BQB=1;MQ0F=0;AF1=0.49975;AC1=1;DP4=0,2,0,1;MQ=42;FQ=4.77302;PV4=1,0,1,0.463407\tGT:PL\t0/1:30,0,64\n",
      "NC_000918.1\t45808\t.\tG\tC\t5.46076\t.\tDP=2;SGB=-0.379885;RPB=1;MQB=1;BQB=1;MQ0F=0;AF1=0.5;AC1=1;DP4=0,1,0,1;MQ=42;FQ=5.45858;PV4=1,1,1,1\tGT:PL\t0/1:34,0,34\n",
      "NC_000918.1\t70475\t.\tC\tA\t3.5427\t.\tDP=3;SGB=-0.379885;RPB=1;MQB=1;BQB=1;MQ0F=0;AF1=0.499801;AC1=1;DP4=2,0,1,0;MQ=42;FQ=5.4644;PV4=1,1,1,1\tGT:PL\t0/1:31,0,64\n",
      "NC_000918.1\t82938\t.\tC\tG\t3.5427\t.\tDP=3;SGB=-0.379885;RPB=1;MQB=1;BQB=1;MQ0F=0;AF1=0.499801;AC1=1;DP4=2,0,1,0;MQ=42;FQ=5.4644;PV4=1,1,1,0.333333\tGT:PL\t0/1:31,0,64\n",
      "NC_000918.1\t90459\t.\tA\tC\t4.12848\t.\tDP=15;VDB=0.126715;SGB=-0.511536;RPB=0.430095;MQB=0.809825;BQB=0.976835;MQ0F=0;AF1=0.499842;AC1=1;DP4=12,0,3,0;MQ=42;FQ=6.20452;PV4=1,1,0.143604,1\tGT:PL\t0/1:32,0,168\n",
      "NC_000918.1\t92889\t.\tC\tT\t5.46076\t.\tDP=2;SGB=-0.379885;RPB=1;MQB=1;BQB=1;MQ0F=0;AF1=0.5;AC1=1;DP4=1,0,1,0;MQ=41;FQ=5.45858;PV4=1,1,1,1\tGT:PL\t0/1:34,0,34\n",
      "NC_000918.1\t108896\t.\tT\tG\t8.64911\t.\tDP=1;SGB=-0.379885;MQ0F=0;AF1=1;AC1=2;DP4=0,0,1,0;MQ=42;FQ=-29.9908\tGT:PL\t1/1:38,3,0\n",
      "NC_000918.1\t116114\t.\tT\tG\t3.5427\t.\tDP=3;SGB=-0.379885;RPB=1;MQB=1;BQB=1;MQ0F=0;AF1=0.499802;AC1=1;DP4=2,0,1,0;MQ=42;FQ=5.46103;PV4=1,1,1,1\tGT:PL\t0/1:31,0,59\n",
      "NC_000918.1\t135330\t.\tA\tC\t221.999\t.\tDP=84;VDB=0.222872;SGB=-0.693147;MQSB=0.800287;MQ0F=0;AF1=1;AC1=2;DP4=0,0,33,45;MQ=41;FQ=-261.989\tGT:PL\t1/1:255,235,0\n",
      "NC_000918.1\t150236\t.\tA\tC\t9.52088\t.\tDP=12;VDB=0.48;SGB=-0.453602;RPB=0.9;MQB=1;BQB=1;MQ0F=0;AF1=0.499969;AC1=1;DP4=0,10,0,2;MQ=42;FQ=12.2797;PV4=1,1,1,1\tGT:PL\t0/1:39,0,166\n",
      "NC_000918.1\t161295\t.\tC\tT\t10.4247\t.\tDP=1;SGB=-0.379885;MQ0F=0;AF1=1;AC1=2;DP4=0,0,0,1;MQ=42;FQ=-29.9905\tGT:PL\t1/1:40,3,0\n",
      "NC_000918.1\t166354\t.\tG\tA\t20.0499\t.\tDP=8;VDB=0.02;SGB=-0.453602;RPB=0.75;MQB=0.666667;BQB=1;MQ0F=0;AF1=0.499997;AC1=1;DP4=0,6,0,2;MQ=42;FQ=23.0366;PV4=1,1,0.209877,0.280258\tGT:PL\t0/1:50,0,137\n",
      "NC_000918.1\t187433\t.\tC\tG\t3.0136\t.\tDP=15;VDB=0.14;SGB=-0.453602;RPB=0.730769;MQB=1;BQB=0.923077;MQ0F=0;AF1=0.49975;AC1=1;DP4=13,0,2,0;MQ=42;FQ=4.77417;PV4=1,1,1,1\tGT:PL\t0/1:30,0,172\n",
      "NC_000918.1\t206013\t.\tA\tC\t3.5427\t.\tDP=3;SGB=-0.379885;RPB=1;MQB=1;BQB=1;MQ0F=0;AF1=0.499801;AC1=1;DP4=0,2,0,1;MQ=41;FQ=5.4644;PV4=1,1,0,0.42279\tGT:PL\t0/1:31,0,64\n",
      "NC_000918.1\t207056\t.\tC\tG\t3.5427\t.\tDP=3;SGB=-0.379885;RPB=1;MQB=1;BQB=1;MQ0F=0;AF1=0.499801;AC1=1;DP4=0,2,0,1;MQ=41;FQ=5.4644;PV4=1,1,1,0.439481\tGT:PL\t0/1:31,0,64\n",
      "NC_000918.1\t208657\t.\tA\tG\t5.46076\t.\tDP=2;SGB=-0.379885;RPB=1;MQB=1;BQB=1;MQ0F=0;AF1=0.5;AC1=1;DP4=1,0,1,0;MQ=41;FQ=5.45858;PV4=1,1,1,1\tGT:PL\t0/1:34,0,34\n",
      "NC_000918.1\t222074\t.\tA\tC\t3.54274\t.\tDP=3;SGB=-0.379885;RPB=1;MQB=1;BQB=1;MQ0F=0;AF1=0.499809;AC1=1;DP4=2,0,1,0;MQ=42;FQ=5.34525;PV4=1,1,1,1\tGT:PL\t0/1:31,0,45\n",
      "NC_000918.1\t260120\t.\tA\tT\t3.5427\t.\tDP=3;SGB=-0.379885;RPB=1;MQB=1;BQB=1;MQ0F=0;AF1=0.499801;AC1=1;DP4=0,2,0,1;MQ=42;FQ=5.4644;PV4=1,1,1,0.333333\tGT:PL\t0/1:31,0,64\n",
      "NC_000918.1\t274095\t.\tA\tC\t3.5427\t.\tDP=3;SGB=-0.379885;RPB=1;MQB=1;BQB=1;MQ0F=0;AF1=0.499801;AC1=1;DP4=0,2,0,1;MQ=41;FQ=5.4644;PV4=1,1,0,1\tGT:PL\t0/1:31,0,64\n",
      "NC_000918.1\t278094\t.\tA\tT\t5.46076\t.\tDP=2;SGB=-0.379885;RPB=1;MQB=1;BQB=1;MQ0F=0;AF1=0.5;AC1=1;DP4=0,1,0,1;MQ=42;FQ=5.45858;PV4=1,1,1,1\tGT:PL\t0/1:34,0,34\n",
      "NC_000918.1\t321439\t.\tT\tC\t3.5427\t.\tDP=3;SGB=-0.379885;RPB=1;MQB=1;BQB=1;MQ0F=0;AF1=0.499801;AC1=1;DP4=0,2,0,1;MQ=42;FQ=5.4644;PV4=1,1,1,1\tGT:PL\t0/1:31,0,64\n",
      "NC_000918.1\t329065\t.\tT\tG\t11.3381\t.\tDP=11;VDB=0.06;SGB=-0.453602;RPB=0.222222;MQB=0.888889;BQB=1;MQ0F=0;AF1=0.49998;AC1=1;DP4=9,0,2,0;MQ=42;FQ=14.1838;PV4=1,1,1,1\tGT:PL\t0/1:41,0,161\n",
      "NC_000918.1\t338239\t.\tG\tA\t3.5427\t.\tDP=3;SGB=-0.379885;RPB=1;MQB=1;BQB=1;MQ0F=0;AF1=0.499801;AC1=1;DP4=2,0,1,0;MQ=42;FQ=5.4644;PV4=1,1,1,0.439481\tGT:PL\t0/1:31,0,64\n",
      "NC_000918.1\t353162\t.\tT\tG\t14.176\t.\tDP=10;VDB=0.14;SGB=-0.453602;RPB=0.125;MQB=0;BQB=0.875;MQ0F=0;AF1=0.49999;AC1=1;DP4=0,8,0,2;MQ=42;FQ=17.1004;PV4=1,1,0,1\tGT:PL\t0/1:44,0,153\n",
      "NC_000918.1\t364260\t.\tT\tG\t3.5427\t.\tDP=3;SGB=-0.379885;RPB=1;MQB=1;BQB=1;MQ0F=0;AF1=0.499801;AC1=1;DP4=0,2,0,1;MQ=41;FQ=5.4644;PV4=1,1,0,1\tGT:PL\t0/1:31,0,64\n",
      "NC_000918.1\t377931\t.\tG\tA\t6.19834\t.\tDP=15;VDB=0.94;SGB=-0.453602;RPB=0.923077;MQB=0.5;MQSB=0.939413;BQB=0.846154;MQ0F=0;AF1=0.499921;AC1=1;DP4=8,5,1,1;MQ=42;FQ=8.65167;PV4=1,1,0.00257751,0.378687\tGT:PL\t0/1:35,0,255\n",
      "NC_000918.1\t394065\t.\tA\tT\t5.46076\t.\tDP=2;SGB=-0.379885;RPB=1;MQB=1;BQB=1;MQ0F=0;AF1=0.5;AC1=1;DP4=0,1,0,1;MQ=42;FQ=5.45858;PV4=1,1,1,1\tGT:PL\t0/1:34,0,34\n",
      "NC_000918.1\t403050\t.\tT\tA\t3.5427\t.\tDP=3;SGB=-0.379885;RPB=1;MQB=1;BQB=1;MQ0F=0;AF1=0.499801;AC1=1;DP4=0,2,0,1;MQ=42;FQ=5.4644;PV4=1,1,1,1\tGT:PL\t0/1:31,0,64\n",
      "NC_000918.1\t406527\t.\tA\tC\t3.5427\t.\tDP=3;SGB=-0.379885;RPB=1;MQB=1;BQB=1;MQ0F=0;AF1=0.499801;AC1=1;DP4=2,0,1,0;MQ=42;FQ=5.4644;PV4=1,1,1,0.130073\tGT:PL\t0/1:31,0,64\n"
     ]
    },
    {
     "name": "stdout",
     "output_type": "stream",
     "text": [
      "NC_000918.1\t420897\t.\tT\tC\t3.5427\t.\tDP=3;SGB=-0.379885;RPB=1;MQB=1;BQB=1;MQ0F=0;AF1=0.499801;AC1=1;DP4=0,2,0,1;MQ=42;FQ=5.4644;PV4=1,1,1,1\tGT:PL\t0/1:31,0,64\n",
      "NC_000918.1\t453861\t.\tA\tG\t3.5427\t.\tDP=3;SGB=-0.379885;RPB=1;MQB=1;BQB=1;MQ0F=0;AF1=0.499801;AC1=1;DP4=0,2,0,1;MQ=41;FQ=5.4644;PV4=1,1,0,1\tGT:PL\t0/1:31,0,64\n",
      "NC_000918.1\t469402\t.\tA\tG\t5.46076\t.\tDP=2;SGB=-0.379885;RPB=1;MQB=1;BQB=1;MQ0F=0;AF1=0.5;AC1=1;DP4=0,1,0,1;MQ=42;FQ=5.45858;PV4=1,1,1,1\tGT:PL\t0/1:34,0,34\n",
      "NC_000918.1\t521097\t.\tT\tA\t3.5427\t.\tDP=3;SGB=-0.379885;RPB=1;MQB=1;BQB=1;MQ0F=0;AF1=0.499801;AC1=1;DP4=0,2,0,1;MQ=41;FQ=5.4644;PV4=1,1,1,0\tGT:PL\t0/1:31,0,64\n",
      "NC_000918.1\t521108\t.\tG\tT\t3.5427\t.\tDP=3;SGB=-0.379885;RPB=1;MQB=1;BQB=1;MQ0F=0;AF1=0.499801;AC1=1;DP4=0,2,0,1;MQ=41;FQ=5.4644;PV4=1,1,0,1\tGT:PL\t0/1:31,0,64\n",
      "NC_000918.1\t531346\t.\tT\tC\t4.76875\t.\tDP=14;VDB=0.22;SGB=-0.453602;RPB=0.583333;MQB=0.5;BQB=0.916667;MQ0F=0;AF1=0.499875;AC1=1;DP4=0,12,0,2;MQ=42;FQ=6.98503;PV4=1,1,0.00376607,1\tGT:PL\t0/1:33,0,170\n",
      "NC_000918.1\t544392\t.\tT\tC\t3.5427\t.\tDP=3;SGB=-0.379885;RPB=1;MQB=1;BQB=1;MQ0F=0;AF1=0.499801;AC1=1;DP4=2,0,1,0;MQ=42;FQ=5.4644;PV4=1,1,1,1\tGT:PL\t0/1:31,0,64\n",
      "NC_000918.1\t546635\t.\tA\tT\t3.5427\t.\tDP=3;SGB=-0.379885;RPB=1;MQB=1;BQB=1;MQ0F=0;AF1=0.499801;AC1=1;DP4=0,2,0,1;MQ=41;FQ=5.4644;PV4=1,1,1,1\tGT:PL\t0/1:31,0,64\n",
      "NC_000918.1\t550359\t.\tT\tG\t5.46076\t.\tDP=2;SGB=-0.379885;RPB=1;MQB=1;BQB=1;MQ0F=0;AF1=0.5;AC1=1;DP4=1,0,1,0;MQ=41;FQ=5.45858;PV4=1,1,1,1\tGT:PL\t0/1:34,0,34\n",
      "NC_000918.1\t579648\t.\tC\tA\t6.97853\t.\tDP=13;VDB=0.72;SGB=-0.453602;RPB=0.909091;MQB=0.909091;BQB=1;MQ0F=0;AF1=0.499937;AC1=1;DP4=0,11,0,2;MQ=42;FQ=9.5281;PV4=1,1,1,0.315213\tGT:PL\t0/1:36,0,169\n",
      "NC_000918.1\t591673\t.\tC\tG\t10.4247\t.\tDP=1;SGB=-0.379885;MQ0F=0;AF1=1;AC1=2;DP4=0,0,0,1;MQ=42;FQ=-29.9905\tGT:PL\t1/1:40,3,0\n",
      "NC_000918.1\t618960\t.\tC\tT\t3.5427\t.\tDP=3;SGB=-0.379885;RPB=1;MQB=1;BQB=1;MQ0F=0;AF1=0.499801;AC1=1;DP4=0,2,0,1;MQ=41;FQ=5.4644;PV4=1,1,0,1\tGT:PL\t0/1:31,0,64\n",
      "NC_000918.1\t623173\t.\tA\tG\t3.5427\t.\tDP=3;SGB=-0.379885;RPB=1;MQB=1;BQB=1;MQ0F=0;AF1=0.499801;AC1=1;DP4=2,0,1,0;MQ=42;FQ=5.4644;PV4=1,1,1,1\tGT:PL\t0/1:31,0,64\n",
      "NC_000918.1\t624298\t.\tC\tA\t3.5427\t.\tDP=3;SGB=-0.379885;RPB=1;MQB=1;BQB=1;MQ0F=0;AF1=0.499801;AC1=1;DP4=2,0,1,0;MQ=42;FQ=5.4644;PV4=1,1,1,1\tGT:PL\t0/1:31,0,64\n",
      "NC_000918.1\t639580\t.\tA\tG\t3.5427\t.\tDP=3;SGB=-0.379885;RPB=1;MQB=1;BQB=1;MQ0F=0;AF1=0.499801;AC1=1;DP4=0,2,0,1;MQ=42;FQ=5.4644;PV4=1,1,1,0.333333\tGT:PL\t0/1:31,0,64\n",
      "NC_000918.1\t669769\t.\tT\tG\t26.0177\t.\tDP=6;VDB=0.22;SGB=-0.453602;RPB=0.625;MQB=0.5;BQB=1;MQ0F=0;AF1=0.499999;AC1=1;DP4=4,0,2,0;MQ=42;FQ=29.0204;PV4=1,1,0.0889039,1\tGT:PL\t0/1:56,0,107\n",
      "NC_000918.1\t670869\t.\tT\tG\t5.46076\t.\tDP=2;SGB=-0.379885;RPB=1;MQB=1;BQB=1;MQ0F=0;AF1=0.5;AC1=1;DP4=0,1,0,1;MQ=42;FQ=5.45858;PV4=1,1,1,1\tGT:PL\t0/1:34,0,34\n",
      "NC_000918.1\t677226\t.\tC\tT\t6.97853\t.\tDP=13;VDB=0.28;SGB=-0.453602;RPB=1;MQB=0.909091;BQB=1;MQ0F=0;AF1=0.499937;AC1=1;DP4=11,0,2,0;MQ=42;FQ=9.5281;PV4=1,1,1,1\tGT:PL\t0/1:36,0,169\n",
      "NC_000918.1\t685845\t.\tA\tG\t3.5427\t.\tDP=3;SGB=-0.379885;RPB=1;MQB=1;BQB=1;MQ0F=0;AF1=0.499801;AC1=1;DP4=0,2,0,1;MQ=41;FQ=5.4644;PV4=1,1,1,1\tGT:PL\t0/1:31,0,64\n",
      "NC_000918.1\t687653\t.\tG\tT\t3.0136\t.\tDP=15;VDB=0.02;SGB=-0.453602;RPB=0.384615;MQB=0.5;BQB=1;MQ0F=0;AF1=0.49975;AC1=1;DP4=13,0,2,0;MQ=42;FQ=4.77417;PV4=1,1,0.00257751,1\tGT:PL\t0/1:30,0,173\n",
      "NC_000918.1\t701455\t.\tC\tT\t3.5427\t.\tDP=3;SGB=-0.379885;RPB=1;MQB=1;BQB=1;MQ0F=0;AF1=0.499802;AC1=1;DP4=2,0,1,0;MQ=41;FQ=5.45361;PV4=1,1,0,1\tGT:PL\t0/1:31,0,55\n",
      "NC_000918.1\t720643\t.\tT\tG\t5.46076\t.\tDP=2;SGB=-0.379885;RPB=1;MQB=1;BQB=1;MQ0F=0;AF1=0.5;AC1=1;DP4=0,1,0,1;MQ=42;FQ=5.45858;PV4=1,1,1,1\tGT:PL\t0/1:34,0,34\n",
      "NC_000918.1\t724797\t.\tA\tC\t6.97853\t.\tDP=13;VDB=0.42;SGB=-0.453602;RPB=0.5;MQB=0.909091;BQB=0.909091;MQ0F=0;AF1=0.499937;AC1=1;DP4=0,11,0,2;MQ=42;FQ=9.5281;PV4=1,1,1,1\tGT:PL\t0/1:36,0,168\n",
      "NC_000918.1\t729006\t.\tT\tC\t3.5427\t.\tDP=3;SGB=-0.379885;RPB=1;MQB=1;BQB=1;MQ0F=0;AF1=0.499801;AC1=1;DP4=2,0,1,0;MQ=42;FQ=5.4644;PV4=1,1,1,1\tGT:PL\t0/1:31,0,64\n",
      "NC_000918.1\t731974\t.\tA\tT\t3.5427\t.\tDP=3;SGB=-0.379885;RPB=1;MQB=1;MQSB=1;BQB=1;MQ0F=0;AF1=0.499801;AC1=1;DP4=0,2,1,0;MQ=42;FQ=5.4644;PV4=0.333333,1,1,0.42279\tGT:PL\t0/1:31,0,64\n",
      "NC_000918.1\t736926\t.\tT\tC\t3.5427\t.\tDP=3;SGB=-0.379885;RPB=1;MQB=1;BQB=1;MQ0F=0;AF1=0.499801;AC1=1;DP4=0,2,0,1;MQ=42;FQ=5.4644;PV4=1,1,1,0.432131\tGT:PL\t0/1:31,0,64\n",
      "NC_000918.1\t749643\t.\tC\tG\t10.4247\t.\tDP=1;SGB=-0.379885;MQ0F=0;AF1=1;AC1=2;DP4=0,0,1,0;MQ=42;FQ=-29.9905\tGT:PL\t1/1:40,3,0\n",
      "NC_000918.1\t755033\t.\tG\tA\t3.5427\t.\tDP=3;SGB=-0.379885;RPB=1;MQB=1;BQB=1;MQ0F=0;AF1=0.499801;AC1=1;DP4=0,2,0,1;MQ=41;FQ=5.4644;PV4=1,1,0,1\tGT:PL\t0/1:31,0,64\n",
      "NC_000918.1\t755398\t.\tT\tG\t3.5427\t.\tDP=3;SGB=-0.379885;RPB=1;MQB=1;BQB=1;MQ0F=0;AF1=0.499801;AC1=1;DP4=0,2,0,1;MQ=42;FQ=5.4644;PV4=1,1,1,1\tGT:PL\t0/1:31,0,64\n",
      "NC_000918.1\t766612\t.\tA\tG\t5.46076\t.\tDP=2;SGB=-0.379885;RPB=1;MQB=1;BQB=1;MQ0F=0;AF1=0.5;AC1=1;DP4=1,0,1,0;MQ=42;FQ=5.45858;PV4=1,1,1,1\tGT:PL\t0/1:34,0,34\n",
      "NC_000918.1\t770229\t.\tT\tG\t5.46169\t.\tDP=2;SGB=-0.379885;RPB=1;MQB=1;BQB=1;MQ0F=0;AF1=0.500151;AC1=1;DP4=0,1,0,1;MQ=42;FQ=3.85957;PV4=1,1,1,1\tGT:PL\t0/1:34,0,30\n",
      "NC_000918.1\t786830\t.\tT\tG\t9.52546\t.\tDP=1;SGB=-0.379885;MQ0F=0;AF1=1;AC1=2;DP4=0,0,0,1;MQ=40;FQ=-29.9906\tGT:PL\t1/1:39,3,0\n",
      "NC_000918.1\t798797\t.\tG\tC\t3.5427\t.\tDP=3;SGB=-0.379885;RPB=1;MQB=1;BQB=1;MQ0F=0;AF1=0.499801;AC1=1;DP4=2,0,1,0;MQ=42;FQ=5.4644;PV4=1,1,1,1\tGT:PL\t0/1:31,0,64\n",
      "NC_000918.1\t798808\t.\tG\tT\t3.5427\t.\tDP=3;SGB=-0.379885;RPB=1;MQB=1;BQB=1;MQ0F=0;AF1=0.499801;AC1=1;DP4=2,0,1,0;MQ=42;FQ=5.4644;PV4=1,1,1,0.333333\tGT:PL\t0/1:31,0,64\n",
      "NC_000918.1\t802800\t.\tA\tG\t3.5427\t.\tDP=3;SGB=-0.379885;RPB=1;MQB=1;BQB=1;MQ0F=0;AF1=0.499801;AC1=1;DP4=0,2,0,1;MQ=41;FQ=5.4644;PV4=1,1,0,1\tGT:PL\t0/1:31,0,64\n",
      "NC_000918.1\t802802\t.\tT\tA\t3.5427\t.\tDP=3;SGB=-0.379885;RPB=1;MQB=1;BQB=1;MQ0F=0;AF1=0.499801;AC1=1;DP4=0,2,0,1;MQ=41;FQ=5.4644;PV4=1,1,0,1\tGT:PL\t0/1:31,0,64\n",
      "NC_000918.1\t811814\t.\tA\tC\t3.5427\t.\tDP=3;SGB=-0.379885;RPB=1;MQB=1;BQB=1;MQ0F=0;AF1=0.499801;AC1=1;DP4=0,2,0,1;MQ=41;FQ=5.4644;PV4=1,1,1,1\tGT:PL\t0/1:31,0,64\n",
      "NC_000918.1\t838847\t.\tA\tG\t5.46076\t.\tDP=2;SGB=-0.379885;RPB=1;MQB=1;BQB=1;MQ0F=0;AF1=0.5;AC1=1;DP4=0,1,0,1;MQ=41;FQ=5.45858;PV4=1,1,1,1\tGT:PL\t0/1:34,0,34\n",
      "NC_000918.1\t868579\t.\tC\tG\t3.5427\t.\tDP=3;SGB=-0.379885;RPB=1;MQB=1;BQB=1;MQ0F=0;AF1=0.499801;AC1=1;DP4=2,0,1,0;MQ=42;FQ=5.4644;PV4=1,1,1,1\tGT:PL\t0/1:31,0,64\n",
      "NC_000918.1\t878621\t.\tA\tC\t3.5427\t.\tDP=3;SGB=-0.379885;RPB=1;MQB=1;BQB=1;MQ0F=0;AF1=0.499801;AC1=1;DP4=2,0,1,0;MQ=42;FQ=5.4644;PV4=1,1,1,1\tGT:PL\t0/1:31,0,64\n",
      "NC_000918.1\t898277\t.\tG\tA\t3.5427\t.\tDP=3;SGB=-0.379885;RPB=1;MQB=1;BQB=1;MQ0F=0;AF1=0.499801;AC1=1;DP4=0,2,0,1;MQ=42;FQ=5.4644;PV4=1,1,1,1\tGT:PL\t0/1:31,0,64\n",
      "NC_000918.1\t953475\t.\tC\tG\t3.5427\t.\tDP=3;SGB=-0.379885;RPB=1;MQB=1;BQB=1;MQ0F=0;AF1=0.499802;AC1=1;DP4=2,0,1,0;MQ=42;FQ=5.45976;PV4=1,1,1,1\tGT:PL\t0/1:31,0,58\n",
      "NC_000918.1\t1015398\t.\tA\tG\t6.19834\t.\tDP=14;VDB=0.0860477;SGB=-0.511536;RPB=0.996974;MQB=1;BQB=0.973096;MQ0F=0;AF1=0.499921;AC1=1;DP4=0,11,0,3;MQ=42;FQ=8.65167;PV4=1,1,1,1\tGT:PL\t0/1:35,0,166\n",
      "NC_000918.1\t1023812\t.\tG\tC\t3.5427\t.\tDP=3;SGB=-0.379885;RPB=1;MQB=1;BQB=1;MQ0F=0;AF1=0.499801;AC1=1;DP4=2,0,1,0;MQ=42;FQ=5.4644;PV4=1,1,1,1\tGT:PL\t0/1:31,0,64\n",
      "NC_000918.1\t1031720\t.\tA\tT\t3.5427\t.\tDP=3;SGB=-0.379885;RPB=1;MQB=1;BQB=1;MQ0F=0;AF1=0.499801;AC1=1;DP4=0,2,0,1;MQ=42;FQ=5.4644;PV4=1,1,1,0.178912\tGT:PL\t0/1:31,0,64\n",
      "NC_000918.1\t1049046\t.\tG\tC\t5.46076\t.\tDP=2;SGB=-0.379885;RPB=1;MQB=1;BQB=1;MQ0F=0;AF1=0.5;AC1=1;DP4=1,0,1,0;MQ=42;FQ=5.45858;PV4=1,1,1,1\tGT:PL\t0/1:34,0,34\n",
      "NC_000918.1\t1064755\t.\tT\tG\t3.5427\t.\tDP=3;SGB=-0.379885;RPB=1;MQB=1;BQB=1;MQ0F=0;AF1=0.499801;AC1=1;DP4=2,0,1,0;MQ=42;FQ=5.4644;PV4=1,1,1,0.0605189\tGT:PL\t0/1:31,0,64\n",
      "NC_000918.1\t1116650\t.\tA\tT\t3.5427\t.\tDP=3;SGB=-0.379885;RPB=1;MQB=1;BQB=1;MQ0F=0;AF1=0.499801;AC1=1;DP4=2,0,1,0;MQ=42;FQ=5.4644;PV4=1,1,1,1\tGT:PL\t0/1:31,0,64\n",
      "NC_000918.1\t1126876\t.\tA\tG\t3.5427\t.\tDP=3;SGB=-0.379885;RPB=1;MQB=1;BQB=1;MQ0F=0;AF1=0.499801;AC1=1;DP4=0,2,0,1;MQ=41;FQ=5.4644;PV4=1,1,0,1\tGT:PL\t0/1:31,0,64\n",
      "NC_000918.1\t1126899\t.\tC\tT\t3.5427\t.\tDP=3;SGB=-0.379885;RPB=1;MQB=1;BQB=1;MQ0F=0;AF1=0.499801;AC1=1;DP4=2,0,1,0;MQ=41;FQ=5.4644;PV4=1,1,0,0.106148\tGT:PL\t0/1:31,0,64\n",
      "NC_000918.1\t1131401\t.\tA\tG\t3.5427\t.\tDP=3;SGB=-0.379885;RPB=1;MQB=1;BQB=1;MQ0F=0;AF1=0.499801;AC1=1;DP4=0,2,0,1;MQ=42;FQ=5.4644;PV4=1,1,1,0.0772105\tGT:PL\t0/1:31,0,64\n",
      "NC_000918.1\t1142873\t.\tT\tC\t3.5427\t.\tDP=3;SGB=-0.379885;RPB=1;MQB=1;BQB=1;MQ0F=0;AF1=0.499801;AC1=1;DP4=2,0,1,0;MQ=41;FQ=5.4644;PV4=1,1,0,0.333333\tGT:PL\t0/1:31,0,64\n"
     ]
    },
    {
     "name": "stdout",
     "output_type": "stream",
     "text": [
      "NC_000918.1\t1155695\t.\tT\tA\t14.176\t.\tDP=10;VDB=0.02;SGB=-0.453602;RPB=0.9375;MQB=0.75;BQB=0.875;MQ0F=0;AF1=0.49999;AC1=1;DP4=8,0,2,0;MQ=41;FQ=17.1004;PV4=1,1,0.272369,1\tGT:PL\t0/1:44,0,154\n",
      "NC_000918.1\t1158878\t.\tA\tC\t3.5427\t.\tDP=3;SGB=-0.379885;RPB=1;MQB=1;BQB=1;MQ0F=0;AF1=0.499801;AC1=1;DP4=2,0,1,0;MQ=41;FQ=5.4644;PV4=1,1,0,1\tGT:PL\t0/1:31,0,64\n",
      "NC_000918.1\t1168946\t.\tG\tA\t3.5427\t.\tDP=3;SGB=-0.379885;RPB=1;MQB=1;BQB=1;MQ0F=0;AF1=0.499802;AC1=1;DP4=0,2,0,1;MQ=42;FQ=5.46285;PV4=1,1,1,0.383046\tGT:PL\t0/1:31,0,61\n",
      "NC_000918.1\t1171193\t.\tA\tT\t3.54318\t.\tDP=2;SGB=-0.379885;RPB=1;MQB=1;BQB=1;MQ0F=0;AF1=0.499901;AC1=1;DP4=1,0,1,0;MQ=42;FQ=4.27965;PV4=1,1,1,1\tGT:PL\t0/1:31,0,34\n",
      "NC_000918.1\t1183460\t.\tT\tA\t4.76933\t.\tDP=2;SGB=-0.379885;RPB=1;MQB=1;BQB=1;MQ0F=0;AF1=0.499974;AC1=1;DP4=1,0,1,0;MQ=42;FQ=5.08697;PV4=1,1,1,1\tGT:PL\t0/1:33,0,34\n",
      "NC_000918.1\t1190872\t.\tA\tC\t3.54285\t.\tDP=3;SGB=-0.379885;RPB=1;MQB=1;BQB=1;MQ0F=0;AF1=0.499833;AC1=1;DP4=0,2,0,1;MQ=41;FQ=5.01828;PV4=1,1,0,1\tGT:PL\t0/1:31,0,39\n",
      "NC_000918.1\t1190877\t.\tC\tT\t9.52546\t.\tDP=1;SGB=-0.379885;MQ0F=0;AF1=1;AC1=2;DP4=0,0,0,1;MQ=40;FQ=-29.9906\tGT:PL\t1/1:39,3,0\n",
      "NC_000918.1\t1204660\t.\tA\tG\t3.5427\t.\tDP=3;SGB=-0.379885;RPB=1;MQB=1;MQSB=1;BQB=1;MQ0F=0;AF1=0.499801;AC1=1;DP4=1,1,0,1;MQ=41;FQ=5.46564;PV4=1,1,1,1\tGT:PL\t0/1:31,0,71\n",
      "NC_000918.1\t1207287\t.\tA\tT\t5.46076\t.\tDP=2;SGB=-0.379885;RPB=1;MQB=1;MQSB=1;BQB=1;MQ0F=0;AF1=0.5;AC1=1;DP4=0,1,1,0;MQ=42;FQ=5.45858;PV4=1,1,1,1\tGT:PL\t0/1:34,0,34\n",
      "NC_000918.1\t1257390\t.\tA\tC\t3.5427\t.\tDP=3;SGB=-0.379885;RPB=1;MQB=1;MQSB=1;BQB=1;MQ0F=0;AF1=0.499802;AC1=1;DP4=2,0,0,1;MQ=42;FQ=5.45816;PV4=0.333333,1,1,1\tGT:PL\t0/1:31,0,57\n",
      "NC_000918.1\t1269489\t.\tC\tA\t3.54318\t.\tDP=2;SGB=-0.379885;RPB=1;MQB=1;BQB=1;MQ0F=0;AF1=0.499901;AC1=1;DP4=0,1,0,1;MQ=41;FQ=4.27965;PV4=1,1,1,1\tGT:PL\t0/1:31,0,34\n",
      "NC_000918.1\t1274089\t.\tA\tT\t3.5427\t.\tDP=3;SGB=-0.379885;RPB=1;MQB=1;BQB=1;MQ0F=0;AF1=0.499801;AC1=1;DP4=0,2,0,1;MQ=41;FQ=5.4644;PV4=1,1,0,0.414244\tGT:PL\t0/1:31,0,64\n",
      "NC_000918.1\t1279027\t.\tT\tG\t3.5427\t.\tDP=3;SGB=-0.379885;RPB=1;MQB=1;BQB=1;MQ0F=0;AF1=0.499801;AC1=1;DP4=0,2,0,1;MQ=41;FQ=5.4644;PV4=1,1,1,1\tGT:PL\t0/1:31,0,64\n",
      "NC_000918.1\t1282468\t.\tT\tG\t5.46076\t.\tDP=2;SGB=-0.379885;RPB=1;MQB=1;BQB=1;MQ0F=0;AF1=0.5;AC1=1;DP4=0,1,0,1;MQ=42;FQ=5.45858;PV4=1,1,1,1\tGT:PL\t0/1:34,0,34\n",
      "NC_000918.1\t1282984\t.\tT\tG\t3.5427\t.\tDP=3;SGB=-0.379885;RPB=1;MQB=1;BQB=1;MQ0F=0;AF1=0.499801;AC1=1;DP4=0,2,0,1;MQ=42;FQ=5.4644;PV4=1,1,1,1\tGT:PL\t0/1:31,0,64\n",
      "NC_000918.1\t1337359\t.\tT\tC\t3.5427\t.\tDP=3;SGB=-0.379885;RPB=1;MQB=1;BQB=1;MQ0F=0;AF1=0.499801;AC1=1;DP4=2,0,1,0;MQ=41;FQ=5.4644;PV4=1,1,0,0.0971121\tGT:PL\t0/1:31,0,64\n",
      "NC_000918.1\t1348306\t.\tA\tT\t3.5427\t.\tDP=3;SGB=-0.379885;RPB=1;MQB=1;BQB=1;MQ0F=0;AF1=0.499801;AC1=1;DP4=0,2,0,1;MQ=42;FQ=5.4644;PV4=1,1,1,0.291172\tGT:PL\t0/1:31,0,64\n",
      "NC_000918.1\t1351354\t.\tC\tA\t3.5427\t.\tDP=3;SGB=-0.379885;RPB=1;MQB=1;BQB=1;MQ0F=0;AF1=0.499801;AC1=1;DP4=2,0,1,0;MQ=42;FQ=5.4644;PV4=1,1,1,1\tGT:PL\t0/1:31,0,64\n",
      "NC_000918.1\t1370866\t.\tC\tG\t3.5427\t.\tDP=3;SGB=-0.379885;RPB=1;MQB=1;BQB=1;MQ0F=0;AF1=0.499801;AC1=1;DP4=0,2,0,1;MQ=41;FQ=5.4644;PV4=1,1,0,1\tGT:PL\t0/1:31,0,64\n",
      "NC_000918.1\t1396540\t.\tG\tC\t3.5427\t.\tDP=3;SGB=-0.379885;RPB=1;MQB=1;BQB=1;MQ0F=0;AF1=0.499801;AC1=1;DP4=2,0,1,0;MQ=41;FQ=5.4644;PV4=1,1,0,1\tGT:PL\t0/1:31,0,64\n",
      "NC_000918.1\t1416231\t.\tA\tT\t5.46076\t.\tDP=2;SGB=-0.379885;RPB=1;MQB=1;BQB=1;MQ0F=0;AF1=0.5;AC1=1;DP4=1,0,1,0;MQ=42;FQ=5.45858;PV4=1,1,1,1\tGT:PL\t0/1:34,0,34\n",
      "NC_000918.1\t1416242\t.\tC\tT\t3.5427\t.\tDP=3;SGB=-0.379885;RPB=1;MQB=1;BQB=1;MQ0F=0;AF1=0.499801;AC1=1;DP4=2,0,1,0;MQ=42;FQ=5.4644;PV4=1,1,1,0.489194\tGT:PL\t0/1:31,0,64\n",
      "NC_000918.1\t1437765\t.\tG\tC\t11.3381\t.\tDP=11;VDB=0.1;SGB=-0.453602;RPB=0.444444;MQB=1;BQB=1;MQ0F=0;AF1=0.49998;AC1=1;DP4=9,0,2,0;MQ=42;FQ=14.1838;PV4=1,1,1,0.319904\tGT:PL\t0/1:41,0,161\n",
      "NC_000918.1\t1448133\t.\tA\tC\t3.5427\t.\tDP=3;SGB=-0.379885;RPB=1;MQB=1;BQB=1;MQ0F=0;AF1=0.499801;AC1=1;DP4=0,2,0,1;MQ=42;FQ=5.4644;PV4=1,1,1,0.0605189\tGT:PL\t0/1:31,0,64\n",
      "NC_000918.1\t1457745\t.\tG\tC\t3.5427\t.\tDP=3;SGB=-0.379885;RPB=1;MQB=1;BQB=1;MQ0F=0;AF1=0.499801;AC1=1;DP4=0,2,0,1;MQ=42;FQ=5.4644;PV4=1,1,1,0\tGT:PL\t0/1:31,0,64\n",
      "NC_000918.1\t1471108\t.\tA\tT\t3.5427\t.\tDP=4;SGB=-0.379885;RPB=1;MQB=1;BQB=1;MQ0F=0;AF1=0.499801;AC1=1;DP4=0,2,0,1;MQ=41;FQ=5.4644;PV4=1,1,0,0.463407\tGT:PL\t0/1:31,0,64\n",
      "NC_000918.1\t1478529\t.\tG\tA\t5.46169\t.\tDP=2;SGB=-0.379885;RPB=1;MQB=1;BQB=1;MQ0F=0;AF1=0.500151;AC1=1;DP4=1,0,1,0;MQ=41;FQ=3.85957;PV4=1,1,1,1\tGT:PL\t0/1:34,0,30\n",
      "NC_000918.1\t1485840\t.\tA\tT\t3.5427\t.\tDP=3;SGB=-0.379885;RPB=1;MQB=1;BQB=1;MQ0F=0;AF1=0.499801;AC1=1;DP4=2,0,1,0;MQ=42;FQ=5.4644;PV4=1,1,1,1\tGT:PL\t0/1:31,0,64\n",
      "NC_000918.1\t1487694\t.\tC\tG\t4.76875\t.\tDP=14;VDB=0.06;SGB=-0.453602;RPB=0.0416667;MQB=1;BQB=0.833333;MQ0F=0;AF1=0.499875;AC1=1;DP4=0,12,0,2;MQ=42;FQ=6.98503;PV4=1,1,1,1\tGT:PL\t0/1:33,0,170\n",
      "NC_000918.1\t1515875\t.\tC\tA\t5.46076\t.\tDP=2;SGB=-0.379885;RPB=1;MQB=1;BQB=1;MQ0F=0;AF1=0.5;AC1=1;DP4=1,0,1,0;MQ=42;FQ=5.45858;PV4=1,1,1,1\tGT:PL\t0/1:34,0,34\n"
     ]
    }
   ],
   "source": [
    "# overview of how the file looks\n",
    "bcftools view final_hightemp.bcf"
   ]
  },
  {
   "cell_type": "code",
   "execution_count": 3,
   "metadata": {},
   "outputs": [
    {
     "name": "stdout",
     "output_type": "stream",
     "text": [
      "edited_genome.fna      hightemp_01.bam         normal.bcf\n",
      "edited_genome.fna.fai  hightemp_01.bcf         normal_01.bam\n",
      "final_hightemp.bcf     hightemp_01.sam         normal_01.bcf\n",
      "final_hightemp_01.bcf  hightemp_01_sorted.bam  normal_01.sam\n",
      "final_hightemp_02.bcf  hightemp_02.bam         normal_01_sorted.bam\n",
      "final_normal.bcf       hightemp_02.bcf         normal_02.bam\n",
      "final_normal_01.bcf    hightemp_02.sam         normal_02.bcf\n",
      "final_normal_02.bcf    hightemp_02_sorted.bam  normal_02.sam\n",
      "hightemp.bam           mappingStats.txt        normal_02_sorted.bam\n",
      "hightemp.bcf           normal.bam\n"
     ]
    }
   ],
   "source": [
    "cd \n",
    "cd ./Genomics\n",
    "ls"
   ]
  },
  {
   "cell_type": "code",
   "execution_count": 4,
   "metadata": {},
   "outputs": [],
   "source": [
    "bcftools view hightemp.bcf | grep -v \"^#\" | cut -f 1,2,4,5,6,8 | sed 's#DP=\\([0-9][0-9]*\\).*#\\1#' > hightemp.tsv\n",
    "bcftools view normal.bcf | grep -v \"^#\" | cut -f 1,2,4,5,6,8 | sed 's#DP=\\([0-9][0-9]*\\).*#\\1#' > normal.tsv"
   ]
  },
  {
   "cell_type": "markdown",
   "metadata": {},
   "source": [
    "<br><br>\n",
    "### 4. Analyse results\n",
    "<br>The first thing we can see here is that we need to remove the header when we work with the files in order to analyse the data using commands (we can access the data by columns). We can do so by using the command `tail -n+33`."
   ]
  },
  {
   "cell_type": "markdown",
   "metadata": {},
   "source": [
    "__How many variants did you obtain? How many are SNPs, how many insertions and how many deletions?__"
   ]
  },
  {
   "cell_type": "code",
   "execution_count": 55,
   "metadata": {},
   "outputs": [
    {
     "name": "stdout",
     "output_type": "stream",
     "text": [
      "12\n",
      "12\n"
     ]
    }
   ],
   "source": [
    "# number of uniq variants\n",
    "tail -n+33 final_hightemp.bcf | cut -f4-5 | sort | uniq -c| wc -l\n",
    "tail -n+33 final_normal.bcf | cut -f4-5 | sort | uniq -c| wc -l"
   ]
  },
  {
   "cell_type": "code",
   "execution_count": 59,
   "metadata": {
    "collapsed": true
   },
   "outputs": [
    {
     "name": "stdout",
     "output_type": "stream",
     "text": [
      "# This file was produced by bcftools stats (1.8+htslib-1.8) and can be plotted using plot-vcfstats.\n",
      "# The command line was:\tbcftools stats  final_hightemp.bcf\n",
      "#\n",
      "# Definition of sets:\n",
      "# ID\t[2]id\t[3]tab-separated file names\n",
      "ID\t0\tfinal_hightemp.bcf\n",
      "# SN, Summary numbers:\n",
      "#   number of records   .. number of data rows in the VCF\n",
      "#   number of no-ALTs   .. reference-only sites, ALT is either \".\" or identical to REF\n",
      "#   number of SNPs      .. number of rows with a SNP\n",
      "#   number of MNPs      .. number of rows with a MNP, such as CC>TT\n",
      "#   number of indels    .. number of rows with an indel\n",
      "#   number of others    .. number of rows with other type, for example a symbolic allele or\n",
      "#                          a complex substitution, such as ACT>TCGA\n",
      "#   number of multiallelic sites     .. number of rows with multiple alternate alleles\n",
      "#   number of multiallelic SNP sites .. number of rows with multiple alternate alleles, all SNPs\n",
      "# \n",
      "#   Note that rows containing multiple types will be counted multiple times, in each\n",
      "#   counter. For example, a row with a SNP and an indel increments both the SNP and\n",
      "#   the indel counter.\n",
      "# \n",
      "# SN\t[2]id\t[3]key\t[4]value\n",
      "SN\t0\tnumber of samples:\t1\n",
      "SN\t0\tnumber of records:\t115\n",
      "SN\t0\tnumber of no-ALTs:\t0\n",
      "SN\t0\tnumber of SNPs:\t115\n",
      "SN\t0\tnumber of MNPs:\t0\n",
      "SN\t0\tnumber of indels:\t0\n",
      "SN\t0\tnumber of others:\t0\n",
      "SN\t0\tnumber of multiallelic sites:\t0\n",
      "SN\t0\tnumber of multiallelic SNP sites:\t0\n",
      "# TSTV, transitions/transversions:\n",
      "# TSTV\t[2]id\t[3]ts\t[4]tv\t[5]ts/tv\t[6]ts (1st ALT)\t[7]tv (1st ALT)\t[8]ts/tv (1st ALT)\n",
      "TSTV\t0\t38\t77\t0.49\t38\t77\t0.49\n",
      "# SiS, Singleton stats:\n",
      "# SiS\t[2]id\t[3]allele count\t[4]number of SNPs\t[5]number of transitions\t[6]number of transversions\t[7]number of indels\t[8]repeat-consistent\t[9]repeat-inconsistent\t[10]not applicable\n",
      "SiS\t0\t1\t115\t38\t77\t0\t0\t0\t0\n",
      "# AF, Stats by non-reference allele frequency:\n",
      "# AF\t[2]id\t[3]allele frequency\t[4]number of SNPs\t[5]number of transitions\t[6]number of transversions\t[7]number of indels\t[8]repeat-consistent\t[9]repeat-inconsistent\t[10]not applicable\n",
      "AF\t0\t0.000000\t115\t38\t77\t0\t0\t0\t0\n",
      "# QUAL, Stats by quality:\n",
      "# QUAL\t[2]id\t[3]Quality\t[4]number of SNPs\t[5]number of transitions (1st ALT)\t[6]number of transversions (1st ALT)\t[7]number of indels\n",
      "QUAL\t0\t3\t72\t24\t48\t0\n",
      "QUAL\t0\t4\t5\t1\t4\t0\n",
      "QUAL\t0\t5\t18\t6\t12\t0\n",
      "QUAL\t0\t6\t5\t3\t2\t0\n",
      "QUAL\t0\t8\t1\t0\t1\t0\n",
      "QUAL\t0\t9\t3\t1\t2\t0\n",
      "QUAL\t0\t10\t3\t1\t2\t0\n",
      "QUAL\t0\t11\t2\t0\t2\t0\n",
      "QUAL\t0\t14\t3\t1\t2\t0\n",
      "QUAL\t0\t20\t1\t1\t0\t0\n",
      "QUAL\t0\t26\t1\t0\t1\t0\n",
      "QUAL\t0\t221\t1\t0\t1\t0\n",
      "# IDD, InDel distribution:\n",
      "# IDD\t[2]id\t[3]length (deletions negative)\t[4]count\n",
      "# ST, Substitution types:\n",
      "# ST\t[2]id\t[3]type\t[4]count\n",
      "ST\t0\tA>C\t15\n",
      "ST\t0\tA>G\t14\n",
      "ST\t0\tA>T\t14\n",
      "ST\t0\tC>A\t6\n",
      "ST\t0\tC>G\t11\n",
      "ST\t0\tC>T\t9\n",
      "ST\t0\tG>A\t7\n",
      "ST\t0\tG>C\t7\n",
      "ST\t0\tG>T\t3\n",
      "ST\t0\tT>A\t5\n",
      "ST\t0\tT>C\t8\n",
      "ST\t0\tT>G\t16\n",
      "# DP, Depth distribution\n",
      "# DP\t[2]id\t[3]bin\t[4]number of genotypes\t[5]fraction of genotypes (%)\t[6]number of sites\t[7]fraction of sites (%)\n",
      "DP\t0\t1\t0\t0.000000\t6\t5.217391\n",
      "DP\t0\t2\t0\t0.000000\t21\t18.260870\n",
      "DP\t0\t3\t0\t0.000000\t67\t58.260870\n",
      "DP\t0\t4\t0\t0.000000\t1\t0.869565\n",
      "DP\t0\t6\t0\t0.000000\t1\t0.869565\n",
      "DP\t0\t8\t0\t0.000000\t1\t0.869565\n",
      "DP\t0\t10\t0\t0.000000\t3\t2.608696\n",
      "DP\t0\t11\t0\t0.000000\t2\t1.739130\n",
      "DP\t0\t12\t0\t0.000000\t1\t0.869565\n",
      "DP\t0\t13\t0\t0.000000\t3\t2.608696\n",
      "DP\t0\t14\t0\t0.000000\t4\t3.478261\n",
      "DP\t0\t15\t0\t0.000000\t4\t3.478261\n",
      "DP\t0\t84\t0\t0.000000\t1\t0.869565\n"
     ]
    }
   ],
   "source": [
    "bcftools stats final_hightemp.bcf # gives info about the total number of variants, SNPs and indels"
   ]
  },
  {
   "cell_type": "code",
   "execution_count": 60,
   "metadata": {
    "collapsed": true
   },
   "outputs": [
    {
     "name": "stdout",
     "output_type": "stream",
     "text": [
      "# This file was produced by bcftools stats (1.8+htslib-1.8) and can be plotted using plot-vcfstats.\n",
      "# The command line was:\tbcftools stats  final_normal.bcf\n",
      "#\n",
      "# Definition of sets:\n",
      "# ID\t[2]id\t[3]tab-separated file names\n",
      "ID\t0\tfinal_normal.bcf\n",
      "# SN, Summary numbers:\n",
      "#   number of records   .. number of data rows in the VCF\n",
      "#   number of no-ALTs   .. reference-only sites, ALT is either \".\" or identical to REF\n",
      "#   number of SNPs      .. number of rows with a SNP\n",
      "#   number of MNPs      .. number of rows with a MNP, such as CC>TT\n",
      "#   number of indels    .. number of rows with an indel\n",
      "#   number of others    .. number of rows with other type, for example a symbolic allele or\n",
      "#                          a complex substitution, such as ACT>TCGA\n",
      "#   number of multiallelic sites     .. number of rows with multiple alternate alleles\n",
      "#   number of multiallelic SNP sites .. number of rows with multiple alternate alleles, all SNPs\n",
      "# \n",
      "#   Note that rows containing multiple types will be counted multiple times, in each\n",
      "#   counter. For example, a row with a SNP and an indel increments both the SNP and\n",
      "#   the indel counter.\n",
      "# \n",
      "# SN\t[2]id\t[3]key\t[4]value\n",
      "SN\t0\tnumber of samples:\t1\n",
      "SN\t0\tnumber of records:\t2024\n",
      "SN\t0\tnumber of no-ALTs:\t0\n",
      "SN\t0\tnumber of SNPs:\t2024\n",
      "SN\t0\tnumber of MNPs:\t0\n",
      "SN\t0\tnumber of indels:\t0\n",
      "SN\t0\tnumber of others:\t0\n",
      "SN\t0\tnumber of multiallelic sites:\t0\n",
      "SN\t0\tnumber of multiallelic SNP sites:\t0\n",
      "# TSTV, transitions/transversions:\n",
      "# TSTV\t[2]id\t[3]ts\t[4]tv\t[5]ts/tv\t[6]ts (1st ALT)\t[7]tv (1st ALT)\t[8]ts/tv (1st ALT)\n",
      "TSTV\t0\t689\t1335\t0.52\t689\t1335\t0.52\n",
      "# SiS, Singleton stats:\n",
      "# SiS\t[2]id\t[3]allele count\t[4]number of SNPs\t[5]number of transitions\t[6]number of transversions\t[7]number of indels\t[8]repeat-consistent\t[9]repeat-inconsistent\t[10]not applicable\n",
      "SiS\t0\t1\t2024\t689\t1335\t0\t0\t0\t0\n",
      "# AF, Stats by non-reference allele frequency:\n",
      "# AF\t[2]id\t[3]allele frequency\t[4]number of SNPs\t[5]number of transitions\t[6]number of transversions\t[7]number of indels\t[8]repeat-consistent\t[9]repeat-inconsistent\t[10]not applicable\n",
      "AF\t0\t0.000000\t2024\t689\t1335\t0\t0\t0\t0\n",
      "# QUAL, Stats by quality:\n",
      "# QUAL\t[2]id\t[3]Quality\t[4]number of SNPs\t[5]number of transitions (1st ALT)\t[6]number of transversions (1st ALT)\t[7]number of indels\n",
      "QUAL\t0\t3\t48\t12\t36\t0\n",
      "QUAL\t0\t4\t507\t160\t347\t0\n",
      "QUAL\t0\t5\t4\t2\t2\t0\n",
      "QUAL\t0\t6\t26\t10\t16\t0\n",
      "QUAL\t0\t7\t22\t6\t16\t0\n",
      "QUAL\t0\t8\t2\t1\t1\t0\n",
      "QUAL\t0\t9\t431\t139\t292\t0\n",
      "QUAL\t0\t10\t2\t0\t2\t0\n",
      "QUAL\t0\t11\t4\t2\t2\t0\n",
      "QUAL\t0\t12\t16\t5\t11\t0\n",
      "QUAL\t0\t13\t22\t7\t15\t0\n",
      "QUAL\t0\t14\t294\t108\t186\t0\n",
      "QUAL\t0\t15\t1\t0\t1\t0\n",
      "QUAL\t0\t17\t6\t0\t6\t0\n",
      "QUAL\t0\t18\t26\t11\t15\t0\n",
      "QUAL\t0\t20\t257\t89\t168\t0\n",
      "QUAL\t0\t21\t2\t1\t1\t0\n",
      "QUAL\t0\t22\t3\t2\t1\t0\n",
      "QUAL\t0\t24\t14\t4\t10\t0\n",
      "QUAL\t0\t26\t138\t54\t84\t0\n",
      "QUAL\t0\t28\t1\t0\t1\t0\n",
      "QUAL\t0\t29\t2\t0\t2\t0\n",
      "QUAL\t0\t30\t17\t4\t13\t0\n",
      "QUAL\t0\t32\t94\t34\t60\t0\n",
      "QUAL\t0\t35\t9\t6\t3\t0\n",
      "QUAL\t0\t36\t2\t1\t1\t0\n",
      "QUAL\t0\t40\t1\t0\t1\t0\n",
      "QUAL\t0\t41\t49\t20\t29\t0\n",
      "QUAL\t0\t42\t2\t0\t2\t0\n",
      "QUAL\t0\t44\t1\t1\t0\t0\n",
      "QUAL\t0\t47\t5\t1\t4\t0\n",
      "QUAL\t0\t52\t5\t5\t0\t0\n",
      "QUAL\t0\t58\t5\t2\t3\t0\n",
      "QUAL\t0\t59\t1\t1\t0\t0\n",
      "QUAL\t0\t63\t1\t1\t0\t0\n",
      "QUAL\t0\t65\t1\t0\t1\t0\n",
      "QUAL\t0\t68\t1\t0\t1\t0\n",
      "QUAL\t0\t77\t1\t0\t1\t0\n",
      "QUAL\t0\t221\t1\t0\t1\t0\n",
      "# IDD, InDel distribution:\n",
      "# IDD\t[2]id\t[3]length (deletions negative)\t[4]count\n",
      "# ST, Substitution types:\n",
      "# ST\t[2]id\t[3]type\t[4]count\n",
      "ST\t0\tA>C\t188\n",
      "ST\t0\tA>G\t190\n",
      "ST\t0\tA>T\t184\n",
      "ST\t0\tC>A\t149\n",
      "ST\t0\tC>G\t129\n",
      "ST\t0\tC>T\t143\n",
      "ST\t0\tG>A\t161\n",
      "ST\t0\tG>C\t145\n",
      "ST\t0\tG>T\t138\n",
      "ST\t0\tT>A\t189\n",
      "ST\t0\tT>C\t195\n",
      "ST\t0\tT>G\t213\n",
      "# DP, Depth distribution\n",
      "# DP\t[2]id\t[3]bin\t[4]number of genotypes\t[5]fraction of genotypes (%)\t[6]number of sites\t[7]fraction of sites (%)\n",
      "DP\t0\t2\t0\t0.000000\t55\t2.717391\n",
      "DP\t0\t4\t0\t0.000000\t114\t5.632411\n",
      "DP\t0\t6\t0\t0.000000\t142\t7.015810\n",
      "DP\t0\t8\t0\t0.000000\t263\t12.994071\n",
      "DP\t0\t10\t0\t0.000000\t309\t15.266798\n",
      "DP\t0\t12\t0\t0.000000\t449\t22.183794\n",
      "DP\t0\t14\t0\t0.000000\t507\t25.049407\n",
      "DP\t0\t16\t0\t0.000000\t13\t0.642292\n",
      "DP\t0\t18\t0\t0.000000\t6\t0.296443\n",
      "DP\t0\t20\t0\t0.000000\t2\t0.098814\n",
      "DP\t0\t22\t0\t0.000000\t8\t0.395257\n",
      "DP\t0\t24\t0\t0.000000\t11\t0.543478\n",
      "DP\t0\t26\t0\t0.000000\t12\t0.592885\n",
      "DP\t0\t28\t0\t0.000000\t14\t0.691700\n",
      "DP\t0\t30\t0\t0.000000\t16\t0.790514\n",
      "DP\t0\t32\t0\t0.000000\t16\t0.790514\n",
      "DP\t0\t34\t0\t0.000000\t28\t1.383399\n",
      "DP\t0\t36\t0\t0.000000\t14\t0.691700\n",
      "DP\t0\t38\t0\t0.000000\t21\t1.037549\n",
      "DP\t0\t40\t0\t0.000000\t18\t0.889328\n",
      "DP\t0\t46\t0\t0.000000\t1\t0.049407\n",
      "DP\t0\t48\t0\t0.000000\t1\t0.049407\n",
      "DP\t0\t50\t0\t0.000000\t2\t0.098814\n",
      "DP\t0\t60\t0\t0.000000\t1\t0.049407\n",
      "DP\t0\t248\t0\t0.000000\t1\t0.049407\n"
     ]
    }
   ],
   "source": [
    "bcftools stats final_normal.bcf # gives info about the total number of variants, SNPs and indels"
   ]
  },
  {
   "cell_type": "markdown",
   "metadata": {},
   "source": [
    "<br><br>\n",
    "__How many variants have quality greater or equal than 10?__"
   ]
  },
  {
   "cell_type": "code",
   "execution_count": 6,
   "metadata": {},
   "outputs": [
    {
     "name": "stdout",
     "output_type": "stream",
     "text": [
      "11\n",
      "984\n"
     ]
    }
   ],
   "source": [
    "tail -n+33 final_hightemp.bcf | cut -f6 | awk '{if($1>=10)print $1}' | wc -l\n",
    "tail -n+33 final_normal.bcf | cut -f6 | awk '{if($1>=10)print $1}' | wc -l"
   ]
  },
  {
   "cell_type": "markdown",
   "metadata": {},
   "source": [
    "<br><br>\n",
    "__How many variants have depth of coverage greater or equal than 10?__"
   ]
  },
  {
   "cell_type": "code",
   "execution_count": 16,
   "metadata": {},
   "outputs": [
    {
     "name": "stdout",
     "output_type": "stream",
     "text": [
      "15\n",
      "1141\n"
     ]
    }
   ],
   "source": [
    "tail -n+33 final_hightemp.bcf | cut -f8 |tr ';' \"\\t\"|cut -f 1 | sed -e 's/DP=//g' | awk '$1>10 {print;} '| wc -l\n",
    "tail -n+33 final_normal.bcf | cut -f8 |tr ';' \"\\t\"|cut -f 1 | sed -e 's/DP=//g' | awk '$1>10 {print;} '| wc -l"
   ]
  },
  {
   "cell_type": "markdown",
   "metadata": {},
   "source": [
    "<br><br>\n",
    "__Identify the variant with best quality. Could this variant be affecting a gene? (tip: compare the position of the variant with the positions of the genes in the genome GFF file). Which gene did you find, if any? Without actually checking it, could you give an example of how your variant could be affecting a gene product (e.g. a protein)?__"
   ]
  },
  {
   "cell_type": "code",
   "execution_count": 6,
   "metadata": {},
   "outputs": [
    {
     "name": "stdout",
     "output_type": "stream",
     "text": [
      "NC_000918.1\t135330\t.\tA\tC\t221.999\t.\tDP=84;VDB=0.222872;SGB=-0.693147;MQSB=0.800287;MQ0F=0;AF1=1;AC1=2;DP4=0,0,33,45;MQ=41;FQ=-261.989\tGT:PL\t1/1:255,235,0\n",
      "\n",
      "NC_000918.1\t135330\t.\tA\tC\t221.999\t.\tDP=248;VDB=0.978942;SGB=-0.693147;MQSB=0.954788;MQ0F=0;AF1=1;AC1=2;DP4=0,0,127,101;MQ=41;FQ=-281.989\tGT:PL\t1/1:255,255,0\n",
      "sort: write failed: standard output: Broken pipe\n",
      "sort: write error\n"
     ]
    }
   ],
   "source": [
    "# find variant with best quality\n",
    "tail -n+33 final_hightemp.bcf | sort -rn -k6 | head -n 1\n",
    "echo ''\n",
    "tail -n+33 final_normal.bcf | sort -rn -k6 | head -n 1"
   ]
  },
  {
   "cell_type": "code",
   "execution_count": 11,
   "metadata": {},
   "outputs": [
    {
     "name": "stdout",
     "output_type": "stream",
     "text": [
      "NC_000918.1\tRefSeq\tgene\t134585\t136105\t.\t-\t0\tID=cds158;Parent=gene163;Dbxref=Genbank:NP_213151.1,GeneID:1192825;Name=NP_Unk02;gbkey=CDS;gene=nifA;product=NifA\n"
     ]
    }
   ],
   "source": [
    "# find the gene with that position in the gff file\n",
    "cd\n",
    "cd ./data/refs\n",
    "awk -F\"\\t\" '$4<=135330' genes.gff | awk -F\"\\t\" '$5>=135330'"
   ]
  },
  {
   "cell_type": "markdown",
   "metadata": {},
   "source": [
    "<br>The result is the same for both samples, a A ➝ C at position 135330. Since this mutation is just of one position, if the mutation were to be in the coding part of the gene, only one aminoacid would be changing (that we know of, probably we should check other SNPs in the sequence of this gene). This is only a small change, but it could have a big impact in the tertiary or quaternary structure of the coding protein and affect its performance significantly. Additionally, if the mutation was not in the coding region of the gene, it could affect the promoter union region, or an inhibitor union region and therefore affect the transcription of the gene (increasing or decreasing it). It could also be a mutation that affected the translation of the protein by changing the ribosome union or its detachment from the mRNA.<br>\n",
    "About the gene affected, it is `NifA` which (accordint to UniProt) corresponds to a nitrogen fixation specific regulatory protein. Given that we are studying  a bacteria that blooms in high temperatures, it is posible that this mutation is increasing the fixation rate or making the process more efficient to make up for the disappearance of other nitrogen fixation organisms due to the temperature raise. "
   ]
  },
  {
   "cell_type": "markdown",
   "metadata": {},
   "source": [
    "<br><br>\n",
    "__Repeat the variant calling using only a single .bam file, instead of merging them. What is the main difference you find in the results when you use only one file?__\n",
    "<br>The main difference is that the number of reads for most of the characteristics we filtered before does not sum up to what the merged files had. For the high temperature samples, the sum of the two individual BAMs is greatly over the count for the merged file; on the other hand, the sum of the individual BAMs for the normal sample is significantly smaller than in the merged file. "
   ]
  },
  {
   "cell_type": "code",
   "execution_count": 30,
   "metadata": {},
   "outputs": [
    {
     "name": "stdout",
     "output_type": "stream",
     "text": [
      "Note: none of --samples-file, --ploidy or --ploidy-file given, assuming all sites are diploid\n",
      "Note: none of --samples-file, --ploidy or --ploidy-file given, assuming all sites are diploid\n",
      "Note: none of --samples-file, --ploidy or --ploidy-file given, assuming all sites are diploid\n",
      "Note: none of --samples-file, --ploidy or --ploidy-file given, assuming all sites are diploid\n"
     ]
    }
   ],
   "source": [
    "bcftools mpileup -f edited_genome.fna hightemp_01_sorted.bam > hightemp_01.bcf\n",
    "bcftools mpileup -f edited_genome.fna hightemp_02_sorted.bam > hightemp_02.bcf\n",
    "bcftools mpileup -f edited_genome.fna normal_01_sorted.bam > normal_01.bcf\n",
    "bcftools mpileup -f edited_genome.fna normal_02_sorted.bam > normal_02.bcf\n",
    "\n",
    "bcftools call -vc hightemp_01.bcf > final_hightemp_01.bcf \n",
    "bcftools call -vc hightemp_02.bcf > final_hightemp_02.bcf \n",
    "bcftools call -vc normal_01.bcf > final_normal_01.bcf \n",
    "bcftools call -vc normal_02.bcf > final_normal_02.bcf "
   ]
  },
  {
   "cell_type": "code",
   "execution_count": 3,
   "metadata": {},
   "outputs": [
    {
     "name": "stdout",
     "output_type": "stream",
     "text": [
      "12\n",
      "12\n",
      "12\n",
      "12\n"
     ]
    }
   ],
   "source": [
    "# number of variants\n",
    "tail -n+33 final_hightemp_01.bcf | cut -f4-5 | sort | uniq -c| wc -l\n",
    "tail -n+33 final_hightemp_02.bcf | cut -f4-5 | sort | uniq -c| wc -l\n",
    "tail -n+33 final_normal_01.bcf | cut -f4-5 | sort | uniq -c| wc -l\n",
    "tail -n+33 final_normal_02.bcf | cut -f4-5 | sort | uniq -c| wc -l"
   ]
  },
  {
   "cell_type": "code",
   "execution_count": 4,
   "metadata": {},
   "outputs": [
    {
     "name": "stdout",
     "output_type": "stream",
     "text": [
      "397\n",
      "418\n",
      "373\n",
      "373\n"
     ]
    }
   ],
   "source": [
    "# number of SNPs\n",
    "tail -n+33 final_hightemp_01.bcf | wc -l\n",
    "tail -n+33 final_hightemp_02.bcf | wc -l\n",
    "tail -n+33 final_normal_01.bcf | wc -l\n",
    "tail -n+33 final_normal_02.bcf | wc -l"
   ]
  },
  {
   "cell_type": "code",
   "execution_count": 5,
   "metadata": {},
   "outputs": [
    {
     "name": "stdout",
     "output_type": "stream",
     "text": [
      "51\n",
      "76\n",
      "82\n",
      "82\n"
     ]
    }
   ],
   "source": [
    "# quality check\n",
    "tail -n+33 final_hightemp_01.bcf |cut -f6 | awk '{if($1>=10)print $1}' | wc -l\n",
    "tail -n+33 final_hightemp_02.bcf | cut -f6 | awk '{if($1>=10)print $1}' | wc -l\n",
    "tail -n+33 final_normal_01.bcf | cut -f6 | awk '{if($1>=10)print $1}' | wc -l\n",
    "tail -n+33 final_normal_02.bcf | cut -f6 | awk '{if($1>=10)print $1}' | wc -l"
   ]
  },
  {
   "cell_type": "code",
   "execution_count": 6,
   "metadata": {},
   "outputs": [
    {
     "name": "stdout",
     "output_type": "stream",
     "text": [
      "65\n",
      "73\n",
      "67\n",
      "67\n"
     ]
    }
   ],
   "source": [
    "tail -n+33 final_hightemp_01.bcf | cut -f8 |tr ';' \"\\t\"|cut -f 1 | sed -e 's/DP=//g' | awk '$1>10 {print;} '| wc -l\n",
    "tail -n+33 final_hightemp_02.bcf | cut -f8 |tr ';' \"\\t\"|cut -f 1 | sed -e 's/DP=//g' | awk '$1>10 {print;} '| wc -l\n",
    "tail -n+33 final_normal_01.bcf | cut -f8 |tr ';' \"\\t\"|cut -f 1 | sed -e 's/DP=//g' | awk '$1>10 {print;} '| wc -l\n",
    "tail -n+33 final_normal_02.bcf | cut -f8 |tr ';' \"\\t\"|cut -f 1 | sed -e 's/DP=//g' | awk '$1>10 {print;} '| wc -l"
   ]
  },
  {
   "cell_type": "code",
   "execution_count": 7,
   "metadata": {},
   "outputs": [
    {
     "name": "stdout",
     "output_type": "stream",
     "text": [
      "NC_000918.1\t135330\t.\tA\tC\t221.999\t.\tDP=51;VDB=0.345422;SGB=-0.693147;MQSB=0.50373;MQ0F=0;AF1=1;AC1=2;DP4=0,0,20,28;MQ=41;FQ=-170.988\tGT:PL\t1/1:255,144,0\n"
     ]
    }
   ],
   "source": [
    "tail -n+33 final_hightemp_01.bcf | sort -rn -k6 | head -n 1"
   ]
  },
  {
   "cell_type": "code",
   "execution_count": 8,
   "metadata": {},
   "outputs": [
    {
     "name": "stdout",
     "output_type": "stream",
     "text": [
      "NC_000918.1\t135330\t.\tA\tC\t221.999\t.\tDP=33;VDB=0.299086;SGB=-0.693097;MQSB=0.916147;MQ0F=0;AF1=1;AC1=2;DP4=0,0,13,17;MQ=41;FQ=-116.987\tGT:PL\t1/1:255,90,0\n",
      "sort: fflush failed: standard output: Broken pipe\n",
      "sort: write error\n"
     ]
    }
   ],
   "source": [
    "tail -n+33 final_hightemp_02.bcf | sort -rn -k6 | head -n 1"
   ]
  },
  {
   "cell_type": "code",
   "execution_count": 9,
   "metadata": {},
   "outputs": [
    {
     "name": "stdout",
     "output_type": "stream",
     "text": [
      "NC_000918.1\t135330\t.\tA\tC\t221.999\t.\tDP=218;VDB=0.65036;SGB=-0.693147;RPB=1;MQB=1;MQSB=0.933189;BQB=1;MQ0F=0;AF1=1;AC1=2;DP4=0,1,93,114;MQ=41;FQ=-281.989;PV4=1,0.411684,1,1\tGT:PL\t1/1:255,255,0\n"
     ]
    }
   ],
   "source": [
    "tail -n+33 final_normal_01.bcf | sort -rn -k6 | head -n 1"
   ]
  },
  {
   "cell_type": "code",
   "execution_count": 10,
   "metadata": {},
   "outputs": [
    {
     "name": "stdout",
     "output_type": "stream",
     "text": [
      "NC_000918.1\t135330\t.\tA\tC\t221.999\t.\tDP=218;VDB=0.65036;SGB=-0.693147;RPB=1;MQB=1;MQSB=0.933189;BQB=1;MQ0F=0;AF1=1;AC1=2;DP4=0,1,93,114;MQ=41;FQ=-281.989;PV4=1,0.411684,1,1\tGT:PL\t1/1:255,255,0\n"
     ]
    }
   ],
   "source": [
    "tail -n+33 final_normal_02.bcf | sort -rn -k6 | head -n 1"
   ]
  },
  {
   "cell_type": "markdown",
   "metadata": {},
   "source": [
    "<br><br>\n",
    "__(extra question which you may take some time...) Download, to your local machine, the files with the mappings and the fasta file of the genome. Use them to locate in IGV the best variant you have, and capture the image of the variant. Note that you will likely need the indexes of the mappings (.bai) and genome (.fai) files.__"
   ]
  },
  {
   "cell_type": "code",
   "execution_count": 15,
   "metadata": {},
   "outputs": [
    {
     "name": "stdout",
     "output_type": "stream",
     "text": [
      "hightemp_01_sorted.bam.\u001b[01;31m\u001b[Kbai\u001b[m\u001b[K\n",
      "hightemp_02_sorted.bam.\u001b[01;31m\u001b[Kbai\u001b[m\u001b[K\n",
      "normal_01_sorted.bam.\u001b[01;31m\u001b[Kbai\u001b[m\u001b[K\n",
      "normal_02_sorted.bam.\u001b[01;31m\u001b[Kbai\u001b[m\u001b[K\n"
     ]
    }
   ],
   "source": [
    "# I need to create an index of the sorted bam files in order to visualize them\n",
    "samtools index hightemp_01_sorted.bam\n",
    "samtools index hightemp_02_sorted.bam\n",
    "samtools index normal_01_sorted.bam\n",
    "samtools index normal_02_sorted.bam\n",
    "ls | grep 'bai'"
   ]
  },
  {
   "cell_type": "markdown",
   "metadata": {},
   "source": [
    "### IGV result"
   ]
  },
  {
   "cell_type": "markdown",
   "metadata": {},
   "source": [
    "![alt text](./IGV.png \"IGV result\")"
   ]
  },
  {
   "cell_type": "code",
   "execution_count": null,
   "metadata": {},
   "outputs": [],
   "source": []
  }
 ],
 "metadata": {
  "kernelspec": {
   "display_name": "Bash",
   "language": "bash",
   "name": "bash"
  },
  "language_info": {
   "codemirror_mode": "shell",
   "file_extension": ".sh",
   "mimetype": "text/x-sh",
   "name": "bash"
  }
 },
 "nbformat": 4,
 "nbformat_minor": 2
}
