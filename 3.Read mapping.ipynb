{
 "cells": [
  {
   "cell_type": "markdown",
   "metadata": {},
   "source": [
    "# Read mapping\n",
    "\n",
    "Before performing other downstream analyses (variant calling, expression analysis, etc) you need to map your reads to the reference.\n",
    "<br><br>\n",
    "### 1. Create index\n",
    "First, you will need to create an index of the reference genome (tip: use the `bowtie2-build` command).\n"
   ]
  },
  {
   "cell_type": "code",
   "execution_count": 3,
   "metadata": {},
   "outputs": [],
   "source": [
    "cd \n",
    "cd data/refs"
   ]
  },
  {
   "cell_type": "code",
   "execution_count": null,
   "metadata": {},
   "outputs": [],
   "source": [
    "bowtie2-build genome.fna genome_index"
   ]
  },
  {
   "cell_type": "code",
   "execution_count": 4,
   "metadata": {},
   "outputs": [
    {
     "name": "stdout",
     "output_type": "stream",
     "text": [
      "genes.gff           genome_index.2.bt2  genome_index.rev.1.bt2\n",
      "genome.fna          genome_index.3.bt2  genome_index.rev.2.bt2\n",
      "genome_index.1.bt2  genome_index.4.bt2  prots.faa\n"
     ]
    }
   ],
   "source": [
    "ls"
   ]
  },
  {
   "cell_type": "markdown",
   "metadata": {},
   "source": [
    "<br><br>\n",
    "### 2. Map samples to ref genome\n",
    "Next, map each of your samples to the reference genome using Bowtie2 (http://bowtie-bio.sourceforge.net/bowtie2/). (tip: check the `bowtie2 --help` for a parameter which allows you to use fasta instead of fastq files as input; also make sure to redirect the stderr output of bowtie2 to a file using the `2>` redirection, so that you can collect bowtie2 mapping stats).\n"
   ]
  },
  {
   "cell_type": "code",
   "execution_count": 7,
   "metadata": {},
   "outputs": [],
   "source": [
    "# create file to write out the mapping stats of bowtie alignment\n",
    "cd\n",
    "touch ./Genomics/mappingStats.txt"
   ]
  },
  {
   "cell_type": "code",
   "execution_count": 8,
   "metadata": {},
   "outputs": [],
   "source": [
    "echo \"\\n\\nHigh temp 1\" >> ./Genomics/mappingStats.txt\n",
    "bowtie2 -x ./data/refs/genome_index -f ./data/reads/hightemp_01.fasta -S ./Genomics/hightemp_01.sam 2>>./Genomics/mappingStats.txt\n",
    "\n",
    "echo \"\\n\\nHigh temp 2\" >> ./Genomics/mappingStats.txt\n",
    "bowtie2 -x ./data/refs/genome_index -f ./data/reads/hightemp_02.fasta -S ./Genomics/hightemp_02.sam 2>>./Genomics/mappingStats.txt\n",
    "\n",
    "echo \"\\n\\nNormal 1\" >> ./Genomics/mappingStats.txt\n",
    "bowtie2 -x ./data/refs/genome_index -f ./data/reads/normal_01.fasta -S ./Genomics/normal_01.sam 2>>./Genomics/mappingStats.txt\n",
    "\n",
    "echo \"\\n\\nNormal 2\" >> ./Genomics/mappingStats.txt\n",
    "bowtie2 -x ./data/refs/genome_index -f ./data/reads/normal_02.fasta -S ./Genomics/normal_02.sam 2>>./Genomics/mappingStats.txt"
   ]
  },
  {
   "cell_type": "code",
   "execution_count": 9,
   "metadata": {},
   "outputs": [
    {
     "name": "stdout",
     "output_type": "stream",
     "text": [
      "\\n\\nHigh temp 1\n",
      "perl: warning: Setting locale failed.\n",
      "perl: warning: Please check that your locale settings:\n",
      "\tLANGUAGE = (unset),\n",
      "\tLC_ALL = (unset),\n",
      "\tLC_CTYPE = \"UTF-8\",\n",
      "\tLANG = \"es_ES.UTF-8\"\n",
      "    are supported and installed on your system.\n",
      "perl: warning: Falling back to a fallback locale (\"es_ES.UTF-8\").\n",
      "291814 reads; of these:\n",
      "  291814 (100.00%) were unpaired; of these:\n",
      "    17 (0.01%) aligned 0 times\n",
      "    289275 (99.13%) aligned exactly 1 time\n",
      "    2522 (0.86%) aligned >1 times\n",
      "99.99% overall alignment rate\n",
      "\\n\\nHigh temp 2\n",
      "perl: warning: Setting locale failed.\n",
      "perl: warning: Please check that your locale settings:\n",
      "\tLANGUAGE = (unset),\n",
      "\tLC_ALL = (unset),\n",
      "\tLC_CTYPE = \"UTF-8\",\n",
      "\tLANG = \"es_ES.UTF-8\"\n",
      "    are supported and installed on your system.\n",
      "perl: warning: Falling back to a fallback locale (\"es_ES.UTF-8\").\n",
      "289637 reads; of these:\n",
      "  289637 (100.00%) were unpaired; of these:\n",
      "    7 (0.00%) aligned 0 times\n",
      "    287101 (99.12%) aligned exactly 1 time\n",
      "    2529 (0.87%) aligned >1 times\n",
      "100.00% overall alignment rate\n",
      "\\n\\nNormal 1\n",
      "perl: warning: Setting locale failed.\n",
      "perl: warning: Please check that your locale settings:\n",
      "\tLANGUAGE = (unset),\n",
      "\tLC_ALL = (unset),\n",
      "\tLC_CTYPE = \"UTF-8\",\n",
      "\tLANG = \"es_ES.UTF-8\"\n",
      "    are supported and installed on your system.\n",
      "perl: warning: Falling back to a fallback locale (\"es_ES.UTF-8\").\n",
      "290331 reads; of these:\n",
      "  290331 (100.00%) were unpaired; of these:\n",
      "    8 (0.00%) aligned 0 times\n",
      "    287957 (99.18%) aligned exactly 1 time\n",
      "    2366 (0.81%) aligned >1 times\n",
      "100.00% overall alignment rate\n",
      "\\n\\nNormal 2\n",
      "perl: warning: Setting locale failed.\n",
      "perl: warning: Please check that your locale settings:\n",
      "\tLANGUAGE = (unset),\n",
      "\tLC_ALL = (unset),\n",
      "\tLC_CTYPE = \"UTF-8\",\n",
      "\tLANG = \"es_ES.UTF-8\"\n",
      "    are supported and installed on your system.\n",
      "perl: warning: Falling back to a fallback locale (\"es_ES.UTF-8\").\n",
      "291324 reads; of these:\n",
      "  291324 (100.00%) were unpaired; of these:\n",
      "    10 (0.00%) aligned 0 times\n",
      "    289007 (99.20%) aligned exactly 1 time\n",
      "    2307 (0.79%) aligned >1 times\n",
      "100.00% overall alignment rate\n"
     ]
    }
   ],
   "source": [
    "cat ./Genomics/mappingStats.txt"
   ]
  },
  {
   "cell_type": "markdown",
   "metadata": {},
   "source": [
    "<br><br>\n",
    "__How many records are in your mapping (.sam/.bam) files? How many different reads are in your mapping (.sam/.bam) files? How these numbers compare with the number of reads in your original samples and with the alignment statistics (stats from bowtie2)?__<br>\n",
    "The number of records in my mappings is the total number of reads displayed in the table before [291814, 289637, 290331 & 291324] and it is the same as the total number of reads that I had in the fasta files. As for the number of different reads, it is the same, all reads are uniq.\n"
   ]
  },
  {
   "cell_type": "code",
   "execution_count": 14,
   "metadata": {},
   "outputs": [
    {
     "name": "stdout",
     "output_type": "stream",
     "text": [
      "291814\n",
      "289637\n",
      "290331\n",
      "291324\n"
     ]
    }
   ],
   "source": [
    "cd\n",
    "cd ./Genomics\n",
    "samtools view -c hightemp_01.sam\n",
    "samtools view -c hightemp_02.sam\n",
    "samtools view -c normal_01.sam\n",
    "samtools view -c normal_02.sam"
   ]
  },
  {
   "cell_type": "code",
   "execution_count": 19,
   "metadata": {},
   "outputs": [
    {
     "name": "stdout",
     "output_type": "stream",
     "text": [
      "291814\n",
      "289637\n",
      "290331\n",
      "291324\n"
     ]
    }
   ],
   "source": [
    "samtools view hightemp_01.sam | cut -f1 | sort | uniq | wc -l\n",
    "samtools view hightemp_02.sam | cut -f1 | sort | uniq | wc -l\n",
    "samtools view normal_01.sam | cut -f1 | sort | uniq | wc -l\n",
    "samtools view normal_02.sam | cut -f1 | sort | uniq | wc -l"
   ]
  },
  {
   "cell_type": "markdown",
   "metadata": {},
   "source": [
    "<br><br>\n",
    "__How many reads map to a single location and how many to more than one (multiple mapping reads)?__<br>\n",
    "`XS: is a sam header field that only appears if the SAM record is for an aligned read and more than one alignment was found for the read`<br>We can also see this by looking at the stats."
   ]
  },
  {
   "cell_type": "code",
   "execution_count": 1,
   "metadata": {},
   "outputs": [],
   "source": [
    "cd \n",
    "cd ./Genomics"
   ]
  },
  {
   "cell_type": "code",
   "execution_count": 6,
   "metadata": {},
   "outputs": [
    {
     "name": "stdout",
     "output_type": "stream",
     "text": [
      "2522\n",
      "2529\n",
      "2366\n",
      "2307\n"
     ]
    }
   ],
   "source": [
    "samtools view hightemp_01.sam | grep 'XS' | wc -l\n",
    "samtools view hightemp_02.sam | grep 'XS' | wc -l\n",
    "samtools view normal_01.sam | grep 'XS' | wc -l\n",
    "samtools view normal_02.sam | grep 'XS' | wc -l"
   ]
  },
  {
   "cell_type": "markdown",
   "metadata": {},
   "source": [
    "__How do you think that multiple mapping reads could affect downstream analyses (variant calling and RNAseq)?__<br>If a sequence that contains a special feature like a SNP, and it is mapped more than one time, that one feature in the downstream analysis could appear to be more abundant than it really is.\n"
   ]
  },
  {
   "cell_type": "markdown",
   "metadata": {},
   "source": [
    "<br><br>\n",
    "__Could you use these mappings to perform an analysis of Copy Number Variation (https://en.wikipedia.org/wiki/Copy-number_variation)?__"
   ]
  },
  {
   "cell_type": "markdown",
   "metadata": {},
   "source": [
    "I think it would not be possible because our data is cDNA, which means that comes from transcripts. The Copy Number Variation (CNV) is the phenomenon where one same gene is repeated in the genome, but it is not possible to determine if the RNA transcripts we have come from one single gene that is highly expressed or from multiple copies of the same gene. Maybe there is a way to track the region of the genome from where the transcripts come, but as far as I know, using cDNA it is not posible to do CNV."
   ]
  }
 ],
 "metadata": {
  "kernelspec": {
   "display_name": "Bash",
   "language": "bash",
   "name": "bash"
  },
  "language_info": {
   "codemirror_mode": "shell",
   "file_extension": ".sh",
   "mimetype": "text/x-sh",
   "name": "bash"
  }
 },
 "nbformat": 4,
 "nbformat_minor": 2
}
